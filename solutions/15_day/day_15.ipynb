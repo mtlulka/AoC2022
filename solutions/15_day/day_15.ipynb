{
 "cells": [
  {
   "attachments": {},
   "cell_type": "markdown",
   "id": "53a08714",
   "metadata": {},
   "source": [
    "# --- Day 15: Beacon Exclusion Zone ---\n",
    "\n",
    "[Puzzle Description](https://adventofcode.com/2022/day/15)"
   ]
  },
  {
   "cell_type": "code",
   "execution_count": 11,
   "id": "cc23c645",
   "metadata": {},
   "outputs": [],
   "source": [
    "import copy\n",
    "from scipy.optimize import linprog\n",
    "import numpy as np"
   ]
  },
  {
   "cell_type": "code",
   "execution_count": 12,
   "id": "f17ffea4",
   "metadata": {},
   "outputs": [],
   "source": [
    "def manh(pos_a, pos_b):\n",
    "    return abs(pos_a[0] - pos_b[0]) + abs(pos_a[1] - pos_b[1])\n",
    "\n",
    "\n",
    "inc_ranges = list()\n",
    "beacons_of_int = list()\n",
    "sensors = list()\n",
    "with open(\"day_15_input.txt\") as file:\n",
    "    while line := file.readline().rstrip():\n",
    "        sensor_str, beacon_str = line.split(\":\")\n",
    "        sensor_str = [a.split(\"=\") for a in sensor_str.split(\",\")]\n",
    "        beacon_str = [a.split(\"=\") for a in beacon_str.split(\",\")]\n",
    "        sensor_cord = [int(sensor_str[0][1]), int(sensor_str[1][1])]\n",
    "        beacon_cord = [int(beacon_str[0][1]), int(beacon_str[1][1])]\n",
    "        sensor_range = manh(sensor_cord, beacon_cord)\n",
    "        sensors.append((sensor_cord, sensor_range))\n",
    "        interval_range = sensor_range - (abs(sensor_cord[1] - 2000000))\n",
    "        if interval_range >= 0:\n",
    "            inc_ranges.append(\n",
    "                [sensor_cord[0] - interval_range, sensor_cord[0] + interval_range]\n",
    "            )\n",
    "            if beacon_cord[1] == 2000000 and beacon_cord[0] not in beacons_of_int:\n",
    "                beacons_of_int.append(beacon_cord[0])"
   ]
  },
  {
   "attachments": {},
   "cell_type": "markdown",
   "id": "fc5fd82f",
   "metadata": {},
   "source": [
    "## Part One"
   ]
  },
  {
   "cell_type": "code",
   "execution_count": 13,
   "id": "c1f72020",
   "metadata": {},
   "outputs": [],
   "source": [
    "# Merge intervals without beacons into disjoint intervals!\n",
    "disjoint_ranges = list()\n",
    "for i, inc_range in enumerate(sorted(copy.deepcopy(inc_ranges))):\n",
    "    if i == 0:\n",
    "        disjoint_ranges.append(inc_range)\n",
    "        j = 0\n",
    "    elif inc_range[0] <= disjoint_ranges[j][1] + 1:\n",
    "        disjoint_ranges[j][1] = max(disjoint_ranges[j][1], inc_range[1])\n",
    "    else:\n",
    "        disjoint_ranges.append(inc_range)\n",
    "        j += 1"
   ]
  },
  {
   "cell_type": "code",
   "execution_count": 14,
   "id": "a5449b9d",
   "metadata": {},
   "outputs": [],
   "source": [
    "# Remove deacon locations and split intervals at their locations\n",
    "dis_ranges_to_delete = list()\n",
    "for beacon_x in beacons_of_int:\n",
    "    for i, dis_range in enumerate(disjoint_ranges):\n",
    "        if dis_range[0] <= beacon_x <= dis_range[1]:\n",
    "            dis_ranges_to_delete.append(i)\n",
    "            if beacon_x - dis_range[0] > 0:\n",
    "                disjoint_ranges.append([dis_range[0], beacon_x - 1])\n",
    "            if dis_range[1] - beacon_x > 0:\n",
    "                disjoint_ranges.append([beacon_x + 1, dis_range[1]])\n",
    "            break"
   ]
  },
  {
   "cell_type": "code",
   "execution_count": 15,
   "id": "cce990f4",
   "metadata": {},
   "outputs": [],
   "source": [
    "# Remove obsolete pre-deacon-removal intervals\n",
    "for i in sorted(dis_ranges_to_delete, reverse=True):\n",
    "    del disjoint_ranges[i]"
   ]
  },
  {
   "cell_type": "code",
   "execution_count": 16,
   "id": "798180d0",
   "metadata": {},
   "outputs": [
    {
     "name": "stdout",
     "output_type": "stream",
     "text": [
      "Part One: 5832528\n"
     ]
    }
   ],
   "source": [
    "part_1_ans = sum([dis_range[1] - dis_range[0] + 1 for dis_range in disjoint_ranges])\n",
    "print(f\"Part One: {part_1_ans}\")"
   ]
  },
  {
   "attachments": {},
   "cell_type": "markdown",
   "id": "381105ad",
   "metadata": {},
   "source": [
    "## Part Two"
   ]
  },
  {
   "cell_type": "code",
   "execution_count": 17,
   "id": "2ab878c2",
   "metadata": {},
   "outputs": [],
   "source": [
    "# To establish the order of inequalities and thus reduce the number of considered options\n",
    "sensors_by_x = sorted(sensors, key=lambda tup: tup[0][0])\n",
    "sensors_by_y = sorted(sensors, key=lambda tup: tup[0][1])"
   ]
  },
  {
   "cell_type": "code",
   "execution_count": 18,
   "id": "43439cc9",
   "metadata": {},
   "outputs": [],
   "source": [
    "# Finding binding inequalites: // and \\\\ in the cartesian plane\n",
    "inner_candidate_combs = list()\n",
    "inner_ineq_candidate_combs = list()\n",
    "for i in range(len(sensors) - 1):\n",
    "    for j in range(1, len(sensors)):\n",
    "        for k in range(len(sensors) - 1):\n",
    "            for l in range(1, len(sensors)):\n",
    "                if (\n",
    "                    manh(sensors_by_x[i][0], sensors_by_x[j][0])\n",
    "                    == sensors_by_x[i][1] + sensors_by_x[j][1] + 2\n",
    "                ) and (\n",
    "                    manh(sensors_by_y[k][0], sensors_by_y[l][0])\n",
    "                    == sensors_by_y[k][1] + sensors_by_y[l][1] + 2\n",
    "                ):\n",
    "                    if (\n",
    "                        sensors_by_x[i][0][1] >= sensors_by_x[j][0][1]\n",
    "                        and sensors_by_y[k][0][0] <= sensors_by_x[l][0][0]\n",
    "                    ):\n",
    "                        inner_ineq_candidate_combs.append(\n",
    "                            [\n",
    "                                [\n",
    "                                    [-1, -1],\n",
    "                                    [\n",
    "                                        -sensors_by_y[k][1]\n",
    "                                        - 1\n",
    "                                        - sensors_by_y[k][0][0]\n",
    "                                        - sensors_by_y[k][0][1]\n",
    "                                    ],\n",
    "                                ],\n",
    "                                [\n",
    "                                    [-1, +1],\n",
    "                                    [\n",
    "                                        -sensors_by_x[j][1]\n",
    "                                        - 1\n",
    "                                        - sensors_by_x[j][0][0]\n",
    "                                        + sensors_by_x[j][0][1]\n",
    "                                    ],\n",
    "                                ],\n",
    "                                [\n",
    "                                    [+1, -1],\n",
    "                                    [\n",
    "                                        -sensors_by_x[i][1]\n",
    "                                        - 1\n",
    "                                        + sensors_by_x[i][0][0]\n",
    "                                        - sensors_by_x[i][0][1]\n",
    "                                    ],\n",
    "                                ],\n",
    "                                [\n",
    "                                    [+1, +1],\n",
    "                                    [\n",
    "                                        -sensors_by_y[l][1]\n",
    "                                        - 1\n",
    "                                        + sensors_by_y[l][0][0]\n",
    "                                        + sensors_by_y[l][0][1]\n",
    "                                    ],\n",
    "                                ],\n",
    "                            ]\n",
    "                        )\n",
    "                        inner_candidate_combs.append((k, j, i, l))\n",
    "                    elif (\n",
    "                        sensors_by_x[i][0][1] <= sensors_by_x[j][0][1]\n",
    "                        and sensors_by_y[k][0][0] >= sensors_by_x[l][0][0]\n",
    "                    ):\n",
    "                        inner_ineq_candidate_combs.append(\n",
    "                            [\n",
    "                                [\n",
    "                                    [-1, -1],\n",
    "                                    [\n",
    "                                        -sensors_by_x[i][1]\n",
    "                                        - 1\n",
    "                                        - sensors_by_x[i][0][0]\n",
    "                                        - sensors_by_x[i][0][1]\n",
    "                                    ],\n",
    "                                ],\n",
    "                                [\n",
    "                                    [-1, +1],\n",
    "                                    [\n",
    "                                        -sensors_by_y[l][1]\n",
    "                                        - 1\n",
    "                                        - sensors_by_y[l][0][0]\n",
    "                                        + sensors_by_y[l][0][1]\n",
    "                                    ],\n",
    "                                ],\n",
    "                                [\n",
    "                                    [+1, -1],\n",
    "                                    [\n",
    "                                        -sensors_by_y[k][1]\n",
    "                                        - 1\n",
    "                                        + sensors_by_y[k][0][0]\n",
    "                                        - sensors_by_y[k][0][1]\n",
    "                                    ],\n",
    "                                ],\n",
    "                                [\n",
    "                                    [+1, +1],\n",
    "                                    [\n",
    "                                        -sensors_by_x[j][1]\n",
    "                                        - 1\n",
    "                                        + sensors_by_x[j][0][0]\n",
    "                                        + sensors_by_x[j][0][1]\n",
    "                                    ],\n",
    "                                ],\n",
    "                            ]\n",
    "                        )\n",
    "                        inner_candidate_combs.append((i, l, k, j))"
   ]
  },
  {
   "cell_type": "code",
   "execution_count": 19,
   "id": "aed812a3",
   "metadata": {},
   "outputs": [
    {
     "name": "stdout",
     "output_type": "stream",
     "text": [
      "[(array([3340224., 3249595.]), 13360899249595.0)]\n"
     ]
    },
    {
     "name": "stderr",
     "output_type": "stream",
     "text": [
      "/tmp/ipykernel_25836/3606059955.py:10: DeprecationWarning: `method='simplex'` is deprecated and will be removed in SciPy 1.11.0. Please use one of the HiGHS solvers (e.g. `method='highs'`) in new code.\n",
      "  res_dict = linprog(c=C, A_ub=np.array(A), b_ub=b, bounds=bounds, method=\"simplex\")\n"
     ]
    }
   ],
   "source": [
    "inner_candidates = list()\n",
    "C = np.array([4000000, 1])\n",
    "bounds = ((0, 4000000), (0, 4000000))\n",
    "for comb in inner_ineq_candidate_combs:\n",
    "    A = list()\n",
    "    b = list()\n",
    "    for cond in comb:\n",
    "        A.append(cond[0])\n",
    "        b.append(cond[1])\n",
    "    res_dict = linprog(c=C, A_ub=np.array(A), b_ub=b, bounds=bounds, method=\"simplex\")\n",
    "    if res_dict[\"success\"]:\n",
    "        inner_candidates.append((res_dict[\"x\"], res_dict[\"fun\"]))\n",
    "\n",
    "print(inner_candidates)"
   ]
  },
  {
   "cell_type": "markdown",
   "id": "34803af2",
   "metadata": {},
   "source": [
    "All candidates for inner solutions can be tested. If a candidate is admissable, it is the unique solution by assumption:"
   ]
  },
  {
   "cell_type": "code",
   "execution_count": 20,
   "id": "f4c43f3e",
   "metadata": {},
   "outputs": [
    {
     "name": "stdout",
     "output_type": "stream",
     "text": [
      "Part Two Solution: (x, y)=(3340224, 3249595) with tuning frequency 13360899249595.\n"
     ]
    }
   ],
   "source": [
    "def test_inner_candidates(sensors, inner_candidates):\n",
    "    for in_cand in inner_candidates:\n",
    "        admissible = True\n",
    "        for sensor in sensors:\n",
    "            if manh(sensor[0], in_cand[0].astype(\"int\")) < sensor[1] + 1:\n",
    "                admissible = False\n",
    "                print(f\"Candidate {in_cand} inadmissable!\")\n",
    "                break\n",
    "        if admissible:\n",
    "            return in_cand\n",
    "    return False\n",
    "\n",
    "\n",
    "inner_test_result = test_inner_candidates(sensors, inner_candidates)\n",
    "if inner_test_result:\n",
    "    print(\n",
    "        f\"Part Two Solution: (x, y)=({int(inner_test_result[0][0])}, {int(inner_test_result[0][1])}) with tuning frequency {int(inner_test_result[1])}.\"\n",
    "    )"
   ]
  },
  {
   "attachments": {},
   "cell_type": "markdown",
   "id": "435a7d27",
   "metadata": {},
   "source": [
    "**Afterthought:** It is a bit of an overkill to use LP here. The inequalities conveyed by A and b reduce to two orthogonal lines,\n",
    "and one just needs to test whether their intersection happens to fall inside the $[0, 4000000]$ x $[0, 4000000]$ square.\n",
    "\n",
    "**PS:** If there is no solution within `inner_candidates`, one can find the solution on the border of the square of interest i.e. `[0, :]`, `[4000000, :]`, `[:, 0]`, `[:, 4000000]` by following the procedure from *Part One*."
   ]
  }
 ],
 "metadata": {
  "kernelspec": {
   "display_name": ".venv",
   "language": "python",
   "name": "python3"
  },
  "language_info": {
   "codemirror_mode": {
    "name": "ipython",
    "version": 3
   },
   "file_extension": ".py",
   "mimetype": "text/x-python",
   "name": "python",
   "nbconvert_exporter": "python",
   "pygments_lexer": "ipython3",
   "version": "3.10.6"
  },
  "vscode": {
   "interpreter": {
    "hash": "999d0a6b33d8aa5ec08e32eb9e096634778f2965cf79c01565a88954badb0f49"
   }
  }
 },
 "nbformat": 4,
 "nbformat_minor": 5
}
