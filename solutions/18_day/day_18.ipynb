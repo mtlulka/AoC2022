{
 "cells": [
  {
   "cell_type": "code",
   "execution_count": 1,
   "id": "60df5c50",
   "metadata": {},
   "outputs": [],
   "source": [
    "import numpy as np"
   ]
  },
  {
   "cell_type": "code",
   "execution_count": 2,
   "id": "f0afb01a",
   "metadata": {},
   "outputs": [],
   "source": [
    "surface_area_1 = 0\n",
    "task_1_grid = np.zeros((24, 24, 24))\n",
    "with open('day_18_input.txt') as file:\n",
    "    while line:= file.readline().rstrip():\n",
    "        z, y, x = line.split(',')\n",
    "        z, y, x, = int(z) + 1, int(y) + 1, int(x) + 1\n",
    "        task_1_grid[z, y, x] = 1\n",
    "        surface_area_1 += 6 - 2 * (task_1_grid[z - 1, y, x] +\n",
    "                                   task_1_grid[z + 1, y, x] +\n",
    "                                   task_1_grid[z, y - 1, x] +\n",
    "                                   task_1_grid[z, y + 1, x] +\n",
    "                                   task_1_grid[z, y, x - 1] +\n",
    "                                   task_1_grid[z, y, x + 1])"
   ]
  },
  {
   "cell_type": "markdown",
   "id": "fc8f5c92",
   "metadata": {},
   "source": [
    "#### Task 1"
   ]
  },
  {
   "cell_type": "markdown",
   "id": "c6850b75",
   "metadata": {},
   "source": [
    "##### Precomputed result"
   ]
  },
  {
   "cell_type": "code",
   "execution_count": 3,
   "id": "ba86ca23",
   "metadata": {},
   "outputs": [
    {
     "data": {
      "text/plain": [
       "4608.0"
      ]
     },
     "execution_count": 3,
     "metadata": {},
     "output_type": "execute_result"
    }
   ],
   "source": [
    "surface_area_1"
   ]
  },
  {
   "cell_type": "markdown",
   "id": "fa3ae41e",
   "metadata": {},
   "source": [
    "##### Result from lava cubes"
   ]
  },
  {
   "cell_type": "code",
   "execution_count": 4,
   "id": "7790f737",
   "metadata": {},
   "outputs": [
    {
     "data": {
      "text/plain": [
       "4608.0"
      ]
     },
     "execution_count": 4,
     "metadata": {},
     "output_type": "execute_result"
    }
   ],
   "source": [
    "surface_area_1 = 0\n",
    "for z, y, x in np.argwhere(task_1_grid == 1):\n",
    "    surface_area_1 += 6 - sum([\n",
    "        task_1_grid[z - 1, y, x] if z > 0 else 0,  \n",
    "        task_1_grid[z + 1, y, x] if z < 23 else 0, \n",
    "        task_1_grid[z, y - 1, x] if y > 0 else 0,\n",
    "        task_1_grid[z, y + 1, x] if y < 23 else 0,\n",
    "        task_1_grid[z, y, x - 1] if x > 0 else 0,\n",
    "        task_1_grid[z, y, x + 1] if x < 23 else 0\n",
    "    ])\n",
    "surface_area_1"
   ]
  },
  {
   "cell_type": "markdown",
   "id": "9fa7cb93",
   "metadata": {},
   "source": [
    "##### Result from air/steam cubes"
   ]
  },
  {
   "cell_type": "code",
   "execution_count": 5,
   "id": "390e2237",
   "metadata": {},
   "outputs": [
    {
     "data": {
      "text/plain": [
       "4608.0"
      ]
     },
     "execution_count": 5,
     "metadata": {},
     "output_type": "execute_result"
    }
   ],
   "source": [
    "surface_area_1 = 0\n",
    "for z, y, x in np.argwhere(task_1_grid == 0):\n",
    "    surface_area_1 += sum([\n",
    "        task_1_grid[z - 1, y, x] if z > 0 else 0,  \n",
    "        task_1_grid[z + 1, y, x] if z < 23 else 0, \n",
    "        task_1_grid[z, y - 1, x] if y > 0 else 0,\n",
    "        task_1_grid[z, y + 1, x] if y < 23 else 0,\n",
    "        task_1_grid[z, y, x - 1] if x > 0 else 0,\n",
    "        task_1_grid[z, y, x + 1] if x < 23 else 0\n",
    "    ])\n",
    "surface_area_1"
   ]
  },
  {
   "cell_type": "markdown",
   "id": "4a345381",
   "metadata": {},
   "source": [
    "#### Task 2"
   ]
  },
  {
   "cell_type": "code",
   "execution_count": 6,
   "id": "eab2bdaa",
   "metadata": {},
   "outputs": [],
   "source": [
    "# task_2_grid = np.zeros((24, 24, 24))\n",
    "\n",
    "# Recursion too deep: \n",
    "\n",
    "# def visit(z, y, x):\n",
    "#     task_2_grid[z, y, x] = 1\n",
    "#     if z < 23 and task_1_grid[z + 1, y, x] != 1 and task_2_grid[z + 1, y, x] != 1:\n",
    "#         visit(z + 1, y, x)\n",
    "#     if y < 23 and task_1_grid[z, y + 1, x] != 1 and task_2_grid[z, y + 1, x] != 1:\n",
    "#         visit(z, y + 1, x)\n",
    "#     if x < 23 and task_1_grid[z, y, x + 1] != 1 and task_2_grid[z, y, x + 1] != 1:\n",
    "#         visit(z, y, x + 1)\n",
    "#     if x > 0 and task_1_grid[z, y, x - 1] != 1 and task_2_grid[z, y, x - 1] != 1:\n",
    "#         visit(z, y, x - 1)\n",
    "#     if y > 0 and task_1_grid[z, y - 1, x] != 1 and task_2_grid[z, y - 1, x] != 1:\n",
    "#         visit(z, y - 1, x)\n",
    "#     if z > 0 and task_1_grid[z - 1, y, x] != 1 and task_2_grid[z - 1, y, x] != 1:\n",
    "#         visit(z - 1, y, x)\n",
    "# visit(0, 0, 0)"
   ]
  },
  {
   "cell_type": "code",
   "execution_count": 7,
   "id": "628e1fe6",
   "metadata": {},
   "outputs": [],
   "source": [
    "# A version without recurrsion:\n",
    "task_2_grid = np.zeros((24, 24, 24))\n",
    "visit_stack = [(0, 0, 0)]\n",
    "while visit_stack:\n",
    "    point = visit_stack[-1]\n",
    "    z, y, x = point\n",
    "    task_2_grid[z, y, x] = 1\n",
    "    if z < 23 and task_1_grid[z + 1, y, x] != 1 and task_2_grid[z + 1, y, x] != 1:\n",
    "        visit_stack.append((z + 1, y, x))\n",
    "        continue\n",
    "    if y < 23 and task_1_grid[z, y + 1, x] != 1 and task_2_grid[z, y + 1, x] != 1:\n",
    "        visit_stack.append((z, y + 1, x))\n",
    "        continue\n",
    "    if x < 23 and task_1_grid[z, y, x + 1] != 1 and task_2_grid[z, y, x + 1] != 1:\n",
    "        visit_stack.append((z, y, x + 1))\n",
    "        continue\n",
    "    if x > 0 and task_1_grid[z, y, x - 1] != 1 and task_2_grid[z, y, x - 1] != 1:\n",
    "        visit_stack.append((z, y, x - 1))\n",
    "        continue\n",
    "    if y > 0 and task_1_grid[z, y - 1, x] != 1 and task_2_grid[z, y - 1, x] != 1:\n",
    "        visit_stack.append((z, y - 1, x))\n",
    "        continue\n",
    "    if z > 0 and task_1_grid[z - 1, y, x] != 1 and task_2_grid[z - 1, y, x] != 1:\n",
    "        visit_stack.append((z - 1, y, x))\n",
    "        continue\n",
    "    visit_stack.pop()"
   ]
  },
  {
   "cell_type": "markdown",
   "id": "07ad42c5",
   "metadata": {},
   "source": [
    "##### Result from outside air/steam cubes"
   ]
  },
  {
   "cell_type": "code",
   "execution_count": 8,
   "id": "a152f62d",
   "metadata": {},
   "outputs": [
    {
     "data": {
      "text/plain": [
       "2652.0"
      ]
     },
     "execution_count": 8,
     "metadata": {},
     "output_type": "execute_result"
    }
   ],
   "source": [
    "surface_area_2 = 0\n",
    "for z, y, x in np.argwhere(task_2_grid == 1):\n",
    "    surface_area_2 += sum([\n",
    "        task_1_grid[z - 1, y, x] if z > 0 else 0,  \n",
    "        task_1_grid[z + 1, y, x] if z < 23 else 0, \n",
    "        task_1_grid[z, y - 1, x] if y > 0 else 0,\n",
    "        task_1_grid[z, y + 1, x] if y < 23 else 0,\n",
    "        task_1_grid[z, y, x - 1] if x > 0 else 0,\n",
    "        task_1_grid[z, y, x + 1] if x < 23 else 0\n",
    "    ])\n",
    "surface_area_2"
   ]
  },
  {
   "cell_type": "markdown",
   "id": "e051b07e",
   "metadata": {},
   "source": [
    "##### Result from trapped air cubes"
   ]
  },
  {
   "cell_type": "code",
   "execution_count": 9,
   "id": "3cd17db6",
   "metadata": {},
   "outputs": [
    {
     "data": {
      "text/plain": [
       "2652.0"
      ]
     },
     "execution_count": 9,
     "metadata": {},
     "output_type": "execute_result"
    }
   ],
   "source": [
    "surface_area_2 = surface_area_1\n",
    "for z, y, x in np.argwhere(task_1_grid + task_2_grid == 0):\n",
    "    surface_area_2 -= sum([\n",
    "        task_1_grid[z - 1, y, x] if z > 0 else 0,\n",
    "        task_1_grid[z + 1, y, x] if z < 23 else 0,\n",
    "        task_1_grid[z, y - 1, x] if y > 0 else 0,\n",
    "        task_1_grid[z, y + 1, x] if y < 23 else 0,\n",
    "        task_1_grid[z, y, x - 1] if x > 0 else 0,\n",
    "        task_1_grid[z, y, x + 1] if x < 23 else 0\n",
    "    ])\n",
    "surface_area_2"
   ]
  }
 ],
 "metadata": {
  "kernelspec": {
   "display_name": ".venv",
   "language": "python",
   "name": "python3"
  },
  "language_info": {
   "codemirror_mode": {
    "name": "ipython",
    "version": 3
   },
   "file_extension": ".py",
   "mimetype": "text/x-python",
   "name": "python",
   "nbconvert_exporter": "python",
   "pygments_lexer": "ipython3",
   "version": "3.10.6"
  },
  "vscode": {
   "interpreter": {
    "hash": "999d0a6b33d8aa5ec08e32eb9e096634778f2965cf79c01565a88954badb0f49"
   }
  }
 },
 "nbformat": 4,
 "nbformat_minor": 5
}
