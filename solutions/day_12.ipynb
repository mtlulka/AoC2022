{
 "cells": [
  {
   "cell_type": "code",
   "execution_count": 1,
   "id": "1d492735",
   "metadata": {},
   "outputs": [],
   "source": [
    "import numpy as np\n",
    "import string\n",
    "\n",
    "rows = []\n",
    "with open('day_12_input.txt') as file:\n",
    "    while line:= file.readline().strip():\n",
    "        row = [c for c in line]\n",
    "        rows.append(row)"
   ]
  },
  {
   "cell_type": "code",
   "execution_count": 2,
   "id": "33bd4dac",
   "metadata": {},
   "outputs": [],
   "source": [
    "grid = np.array(rows)\n",
    "end_state = np.argwhere(grid == 'E').squeeze()\n",
    "start_state = np.argwhere(grid == 'S').squeeze()\n",
    "q_values = np.zeros((*grid.shape, 4)) * 10\n",
    "height = {string.ascii_lowercase[i]:i for i in range(len(string.ascii_lowercase))}\n",
    "height['S'] = height['a']\n",
    "height['E'] = height['z']"
   ]
  },
  {
   "cell_type": "code",
   "execution_count": 3,
   "id": "52721e8b",
   "metadata": {},
   "outputs": [],
   "source": [
    "# for n in range(grid.shape[0] * grid.shape[1]):\n",
    "#     steps = 0\n",
    "#     print(n)\n",
    "#     for i in range(grid.shape[0]):\n",
    "#         for j in range(grid.shape[1]):\n",
    "#             state = np.array([i, j])\n",
    "#             if np.all(state == end_state):\n",
    "#                 continue\n",
    "#             for action in range(4):\n",
    "#                 reward = -1\n",
    "#                 if action == 0:\n",
    "#                     new_state = state - [1, 0]\n",
    "#                     if new_state[0] < 0 or height[grid[tuple(new_state)]] - height[grid[tuple(state)]] > 1:\n",
    "#                         reward -= 10 * grid.shape[0] * grid.shape[1]\n",
    "#                         new_state = state\n",
    "#                 elif action == 1:\n",
    "#                     new_state = state + [0, 1]\n",
    "#                     if new_state[1] == grid.shape[1] or height[grid[tuple(new_state)]] - height[grid[tuple(state)]] > 1:\n",
    "#                         reward -= 10 * grid.shape[0] * grid.shape[1]\n",
    "#                         new_state = state\n",
    "#                 elif action == 2:\n",
    "#                     new_state = state + [1, 0]\n",
    "#                     if new_state[0] == grid.shape[0] or height[grid[tuple(new_state)]] - height[grid[tuple(state)]] > 1:\n",
    "#                         reward -= 10 * grid.shape[0] * grid.shape[1]\n",
    "#                         new_state = state\n",
    "#                 elif action == 3:\n",
    "#                     new_state = state - [0, 1]\n",
    "#                     if new_state[1] < 0 or height[grid[tuple(new_state)]] - height[grid[tuple(state)]] > 1:\n",
    "#                         reward -= 10 * grid.shape[0] * grid.shape[1]\n",
    "#                         new_state = state\n",
    "#                 if np.all(new_state == end_state):\n",
    "#                     reward += 5 * grid.shape[0] * grid.shape[1]\n",
    "#                 q_values[tuple(list(state) + [action])] += alpha * (\n",
    "#                     reward + q_values[tuple(new_state)].max() - q_values[tuple(list(state) + [action])])\n",
    "#                 steps += 1\n",
    "#     if np.any(q_values[tuple(start_state)] > 0):\n",
    "#         break"
   ]
  },
  {
   "cell_type": "code",
   "execution_count": 6,
   "id": "4464ba6f",
   "metadata": {},
   "outputs": [
    {
     "name": "stderr",
     "output_type": "stream",
     "text": [
      "  8%|██████▎                                                                    | 8366/100000 [13:19<2:25:52, 10.47it/s]\n"
     ]
    }
   ],
   "source": [
    "# q-learning version:\n",
    "from tqdm import tqdm\n",
    "alpha = 1\n",
    "epsilon = 0\n",
    "\n",
    "for i in tqdm(range(100000)):\n",
    "    state = start_state\n",
    "    steps = 0\n",
    "    while not np.all(state == end_state) and steps < 1000:\n",
    "        steps += 1\n",
    "        if np.random.random() < epsilon:\n",
    "            action = np.random.choice(4)\n",
    "        else:\n",
    "            arg_maxx = np.argwhere(q_values[tuple(state)] == q_values[tuple(state)].max())\n",
    "            if len(arg_maxx) == 1:\n",
    "                action = arg_maxx[0, 0]\n",
    "            else:\n",
    "                action = np.random.choice(arg_maxx.squeeze())\n",
    "        reward = -1\n",
    "        if action == 0:\n",
    "            new_state = state - [1, 0]\n",
    "            if new_state[0] < 0 or height[grid[tuple(new_state)]] - height[grid[tuple(state)]] > 1:\n",
    "                reward -= 100000\n",
    "                new_state = state\n",
    "        elif action == 1:\n",
    "            new_state = state + [0, 1]\n",
    "            if new_state[1] == grid.shape[1] or height[grid[tuple(new_state)]] - height[grid[tuple(state)]] > 1:\n",
    "                reward -= 100000\n",
    "                new_state = state\n",
    "        elif action == 2:\n",
    "            new_state = state + [1, 0]\n",
    "            if new_state[0] == grid.shape[0] or height[grid[tuple(new_state)]] - height[grid[tuple(state)]] > 1:\n",
    "                reward -= 100000\n",
    "                new_state = state\n",
    "        elif action == 3:\n",
    "            new_state = state - [0, 1]\n",
    "            if new_state[1] < 0 or height[grid[tuple(new_state)]] - height[grid[tuple(state)]] > 1:\n",
    "                reward -= 100000\n",
    "                new_state = state\n",
    "        if np.all(new_state == end_state):\n",
    "            reward += 10000\n",
    "        q_values[tuple(list(state) + [action])] += alpha * (\n",
    "            reward + q_values[tuple(new_state)].max() - q_values[tuple(list(state) + [action])])\n",
    "        state = new_state\n",
    "    if np.any(q_values[tuple(list(start_state))] > 0):\n",
    "        break"
   ]
  },
  {
   "cell_type": "code",
   "execution_count": 7,
   "id": "9d8914ae",
   "metadata": {},
   "outputs": [
    {
     "data": {
      "text/plain": [
       "462"
      ]
     },
     "execution_count": 7,
     "metadata": {},
     "output_type": "execute_result"
    }
   ],
   "source": [
    "# Task 1\n",
    "\n",
    "state = start_state\n",
    "steps = 0\n",
    "while not np.all(state == end_state):\n",
    "    action = q_values[tuple(state)].argmax()\n",
    "    if action == 0:\n",
    "        state = state - [1, 0]\n",
    "    elif action == 1:\n",
    "        state = state + [0, 1]\n",
    "    elif action == 2:\n",
    "        state = state + [1, 0]\n",
    "    elif action == 3:\n",
    "        state = state - [0, 1]\n",
    "    steps += 1\n",
    "steps"
   ]
  },
  {
   "cell_type": "code",
   "execution_count": 8,
   "id": "232c9baf",
   "metadata": {},
   "outputs": [
    {
     "data": {
      "text/plain": [
       "460"
      ]
     },
     "execution_count": 8,
     "metadata": {},
     "output_type": "execute_result"
    }
   ],
   "source": [
    "# Task 2\n",
    "avail_values = q_values.max(axis=2) * (np.vectorize(height.get)(grid) == 0)\n",
    "i = avail_values.max(axis=1).argmax()\n",
    "j = avail_values.max(axis=0).argmax()\n",
    "state = np.array([i, j])\n",
    "steps = 0\n",
    "while not np.all(state == end_state):\n",
    "    action = q_values[tuple(state)].argmax()\n",
    "    if action == 0:\n",
    "        state = state - [1, 0]\n",
    "    elif action == 1:\n",
    "        state = state + [0, 1]\n",
    "    elif action == 2:\n",
    "        state = state + [1, 0]\n",
    "    elif action == 3:\n",
    "        state = state - [0, 1]\n",
    "    steps += 1\n",
    "steps"
   ]
  }
 ],
 "metadata": {
  "kernelspec": {
   "display_name": "Python 3 (ipykernel)",
   "language": "python",
   "name": "python3"
  },
  "language_info": {
   "codemirror_mode": {
    "name": "ipython",
    "version": 3
   },
   "file_extension": ".py",
   "mimetype": "text/x-python",
   "name": "python",
   "nbconvert_exporter": "python",
   "pygments_lexer": "ipython3",
   "version": "3.9.10"
  }
 },
 "nbformat": 4,
 "nbformat_minor": 5
}
