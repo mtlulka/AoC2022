{
 "cells": [
  {
   "cell_type": "code",
   "execution_count": 14,
   "id": "720db6bf",
   "metadata": {},
   "outputs": [],
   "source": [
    "i = 0\n",
    "char_14 = list()\n",
    "answer_1 = 0\n",
    "answer_2 = 0\n",
    "with open('day_6_input.txt') as file:\n",
    "    while c := file.read(1):\n",
    "        i += 1\n",
    "        if c not in char_14:\n",
    "            if len(char_14) == 3 and not answer_1:\n",
    "                answer_1 = i\n",
    "            elif len(char_14) == 13:\n",
    "                answer_2 = i\n",
    "                break\n",
    "            else:\n",
    "                char_14.append(c)\n",
    "        else:\n",
    "            del char_14[0:(char_14.index(c) + 1)]\n",
    "            char_14.append(c)"
   ]
  },
  {
   "cell_type": "code",
   "execution_count": 15,
   "id": "3f323583",
   "metadata": {},
   "outputs": [
    {
     "data": {
      "text/plain": [
       "1531"
      ]
     },
     "execution_count": 15,
     "metadata": {},
     "output_type": "execute_result"
    }
   ],
   "source": [
    "answer_1"
   ]
  },
  {
   "cell_type": "code",
   "execution_count": 16,
   "id": "7a005da1",
   "metadata": {},
   "outputs": [
    {
     "data": {
      "text/plain": [
       "2518"
      ]
     },
     "execution_count": 16,
     "metadata": {},
     "output_type": "execute_result"
    }
   ],
   "source": [
    "answer_2"
   ]
  }
 ],
 "metadata": {
  "kernelspec": {
   "display_name": "Python 3 (ipykernel)",
   "language": "python",
   "name": "python3"
  },
  "language_info": {
   "codemirror_mode": {
    "name": "ipython",
    "version": 3
   },
   "file_extension": ".py",
   "mimetype": "text/x-python",
   "name": "python",
   "nbconvert_exporter": "python",
   "pygments_lexer": "ipython3",
   "version": "3.9.10"
  }
 },
 "nbformat": 4,
 "nbformat_minor": 5
}
