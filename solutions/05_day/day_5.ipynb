{
 "cells": [
  {
   "cell_type": "code",
   "execution_count": 1,
   "id": "2b911f8f",
   "metadata": {},
   "outputs": [],
   "source": [
    "# coding with the knowledge there are 9 stacks and the first and last one have maximal height\n",
    "stacks_9000 = [list() for i in range(9)]\n",
    "with open('day_5_input.txt') as file:\n",
    "    while (line := file.readline()):\n",
    "        if line[0] == '[':\n",
    "            for i in range(9):\n",
    "                if (crate := line[1 + 4 * i]) != ' ':\n",
    "                    stacks_9000[i].append(crate)\n",
    "        elif line[0] == '\\n':\n",
    "            stacks_9000 = [list(reversed(stack)) for stack in stacks_9000]\n",
    "            stacks_9001 = [stack.copy() for stack in stacks_9000]\n",
    "        elif line[0:4] == 'move':\n",
    "            _, num, _, from_stack, _, to_stack = line.split()\n",
    "            for i in range(int(num)):\n",
    "                stacks_9000[int(to_stack) - 1].append(stacks_9000[int(from_stack) - 1].pop())\n",
    "                stacks_9001[int(to_stack) - 1].append(stacks_9001[int(from_stack) - 1].pop(-int(num) + i))\n",
    "string_1 = ''.join([stack[-1] for stack in stacks_9000])\n",
    "string_2 = ''.join([stack[-1] for stack in stacks_9001])"
   ]
  },
  {
   "cell_type": "code",
   "execution_count": 2,
   "id": "eae839d6",
   "metadata": {},
   "outputs": [
    {
     "data": {
      "text/plain": [
       "'PSNRGBTFT'"
      ]
     },
     "execution_count": 2,
     "metadata": {},
     "output_type": "execute_result"
    }
   ],
   "source": [
    "string_1"
   ]
  },
  {
   "cell_type": "code",
   "execution_count": 3,
   "id": "7e3c8da2",
   "metadata": {},
   "outputs": [
    {
     "data": {
      "text/plain": [
       "'BNTZFPMMW'"
      ]
     },
     "execution_count": 3,
     "metadata": {},
     "output_type": "execute_result"
    }
   ],
   "source": [
    "string_2"
   ]
  }
 ],
 "metadata": {
  "kernelspec": {
   "display_name": ".venv",
   "language": "python",
   "name": "python3"
  },
  "language_info": {
   "codemirror_mode": {
    "name": "ipython",
    "version": 3
   },
   "file_extension": ".py",
   "mimetype": "text/x-python",
   "name": "python",
   "nbconvert_exporter": "python",
   "pygments_lexer": "ipython3",
   "version": "3.10.6"
  },
  "vscode": {
   "interpreter": {
    "hash": "999d0a6b33d8aa5ec08e32eb9e096634778f2965cf79c01565a88954badb0f49"
   }
  }
 },
 "nbformat": 4,
 "nbformat_minor": 5
}
