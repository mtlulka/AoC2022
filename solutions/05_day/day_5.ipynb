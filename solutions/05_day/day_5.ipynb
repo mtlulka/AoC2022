{
 "cells": [
  {
   "attachments": {},
   "cell_type": "markdown",
   "id": "00eefc73",
   "metadata": {},
   "source": [
    "# --- Day 5: Supply Stacks ---\n",
    "\n",
    "[Puzzle Description](https://adventofcode.com/2022/day/5)"
   ]
  },
  {
   "cell_type": "code",
   "execution_count": 3,
   "id": "2b911f8f",
   "metadata": {},
   "outputs": [
    {
     "name": "stdout",
     "output_type": "stream",
     "text": [
      "Part One: PSNRGBTFT\n",
      "Part Two: BNTZFPMMW\n"
     ]
    }
   ],
   "source": [
    "# Note: There are 9 stacks and the first and last one have maximal height!\n",
    "stacks_9000 = [list() for i in range(9)]\n",
    "with open(\"day_5_input.txt\") as file:\n",
    "    while line := file.readline():\n",
    "        if line[0] == \"[\":\n",
    "            for i in range(9):\n",
    "                if (crate := line[1 + 4 * i]) != \" \":\n",
    "                    stacks_9000[i].append(crate)\n",
    "        elif line[0] == \"\\n\":\n",
    "            stacks_9000 = [list(reversed(stack)) for stack in stacks_9000]\n",
    "            stacks_9001 = [stack.copy() for stack in stacks_9000]\n",
    "        elif line[0:4] == \"move\":\n",
    "            _, num, _, from_stack, _, to_stack = line.split()\n",
    "            for i in range(int(num)):\n",
    "                stacks_9000[int(to_stack) - 1].append(\n",
    "                    stacks_9000[int(from_stack) - 1].pop()\n",
    "                )\n",
    "                stacks_9001[int(to_stack) - 1].append(\n",
    "                    stacks_9001[int(from_stack) - 1].pop(-int(num) + i)\n",
    "                )\n",
    "part_1_string = \"\".join([stack[-1] for stack in stacks_9000])\n",
    "part_2_string = \"\".join([stack[-1] for stack in stacks_9001])\n",
    "\n",
    "print(f\"Part One: {part_1_string}\")\n",
    "print(f\"Part Two: {part_2_string}\")"
   ]
  }
 ],
 "metadata": {
  "kernelspec": {
   "display_name": ".venv",
   "language": "python",
   "name": "python3"
  },
  "language_info": {
   "codemirror_mode": {
    "name": "ipython",
    "version": 3
   },
   "file_extension": ".py",
   "mimetype": "text/x-python",
   "name": "python",
   "nbconvert_exporter": "python",
   "pygments_lexer": "ipython3",
   "version": "3.10.6"
  },
  "vscode": {
   "interpreter": {
    "hash": "999d0a6b33d8aa5ec08e32eb9e096634778f2965cf79c01565a88954badb0f49"
   }
  }
 },
 "nbformat": 4,
 "nbformat_minor": 5
}
