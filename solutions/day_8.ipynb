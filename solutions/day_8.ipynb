{
 "cells": [
  {
   "cell_type": "code",
   "execution_count": 1,
   "id": "49d79bd2",
   "metadata": {},
   "outputs": [
    {
     "name": "stdout",
     "output_type": "stream",
     "text": [
      "Python 3.9.10\r\n"
     ]
    }
   ],
   "source": [
    "! python3 --version"
   ]
  },
  {
   "cell_type": "code",
   "execution_count": 38,
   "id": "2ce97f40",
   "metadata": {},
   "outputs": [],
   "source": [
    "import numpy as np\n",
    "\n",
    "tree_grid = []\n",
    "with open('day_8_input.txt') as file:\n",
    "    while line := file.readline().rstrip():\n",
    "        tree_grid.append([int(height) for height in line])\n",
    "tree_grid = np.array(tree_grid)"
   ]
  },
  {
   "cell_type": "code",
   "execution_count": 44,
   "id": "dbd103c8",
   "metadata": {},
   "outputs": [
    {
     "name": "stdout",
     "output_type": "stream",
     "text": [
      "(99, 99)\n"
     ]
    }
   ],
   "source": [
    "print(tree_grid.shape) # a square!\n",
    "side = tree_grid.shape[0] # = tree_grid.shape[1]\n",
    "viewing_distance = np.zeros((*tree_grid.shape, 4))"
   ]
  },
  {
   "cell_type": "code",
   "execution_count": 61,
   "id": "2386ffd0",
   "metadata": {},
   "outputs": [],
   "source": [
    "for i in range(side):\n",
    "    last_seen_ge = np.zeros((4, 10))\n",
    "    for j in range(side):\n",
    "        viewing_distance[j, i, 0] = j - last_seen_ge[0, tree_grid[j, i]]\n",
    "        last_seen_ge[0, :(tree_grid[j, i] + 1)] = j\n",
    "        \n",
    "        viewing_distance[i, side - 1 - j, 1] = j - last_seen_ge[1, tree_grid[i, side - 1 - j]]\n",
    "        last_seen_ge[1, :(tree_grid[i, side - 1 - j] + 1)] = j\n",
    "        \n",
    "        viewing_distance[side - 1 - j, side - 1 - i, 2] = j - last_seen_ge[2, tree_grid[side - 1 - j, side - 1 - i]]\n",
    "        last_seen_ge[2, :(tree_grid[side - 1 - j, side - 1 - i] + 1)] = j\n",
    "        \n",
    "        viewing_distance[side - 1 - i, j, 3] = j - last_seen_ge[3, tree_grid[side - 1 - i, j]]\n",
    "        last_seen_ge[3, :(tree_grid[side - 1 - i, j] + 1)] = j"
   ]
  },
  {
   "cell_type": "code",
   "execution_count": 72,
   "id": "4bd27148",
   "metadata": {},
   "outputs": [
    {
     "data": {
      "text/plain": [
       "1803"
      ]
     },
     "execution_count": 72,
     "metadata": {},
     "output_type": "execute_result"
    }
   ],
   "source": [
    "# Task 1\n",
    "visible = np.zeros((tree_grid.shape))\n",
    "visible[[0, -1]] = 1\n",
    "visible[:, [0, -1]] = 1\n",
    "for i in range(1, side - 1):\n",
    "    for j in range(1, side - 1):\n",
    "        visible[i, j] += (tree_grid[i, j] > tree_grid[0, j] and viewing_distance[i, j, 0] == i)\n",
    "        visible[i, j] += (tree_grid[i, j] > tree_grid[i, side - 1] and viewing_distance[i, j, 1] == side - 1 - j)\n",
    "        visible[i, j] += (tree_grid[i, j] > tree_grid[side - 1, j] and viewing_distance[i, j, 2] == side - 1 - i)\n",
    "        visible[i, j] += (tree_grid[i, j] > tree_grid[i, 0] and viewing_distance[i, j, 3] == j)\n",
    "visible = (visible > 0)\n",
    "visible.sum()"
   ]
  },
  {
   "cell_type": "code",
   "execution_count": 66,
   "id": "3e45f185",
   "metadata": {},
   "outputs": [
    {
     "data": {
      "text/plain": [
       "268912.0"
      ]
     },
     "execution_count": 66,
     "metadata": {},
     "output_type": "execute_result"
    }
   ],
   "source": [
    "# Task 2\n",
    "viewing_distance.prod(axis=2).max()"
   ]
  }
 ],
 "metadata": {
  "kernelspec": {
   "display_name": "Python 3 (ipykernel)",
   "language": "python",
   "name": "python3"
  },
  "language_info": {
   "codemirror_mode": {
    "name": "ipython",
    "version": 3
   },
   "file_extension": ".py",
   "mimetype": "text/x-python",
   "name": "python",
   "nbconvert_exporter": "python",
   "pygments_lexer": "ipython3",
   "version": "3.9.10"
  }
 },
 "nbformat": 4,
 "nbformat_minor": 5
}
