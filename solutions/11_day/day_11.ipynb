{
 "cells": [
  {
   "attachments": {},
   "cell_type": "markdown",
   "id": "4be8db6d",
   "metadata": {},
   "source": [
    "# --- Day 11: Monkey in the Middle ---\n",
    "\n",
    "[Puzzle Description](https://adventofcode.com/2022/day/11)"
   ]
  },
  {
   "cell_type": "code",
   "execution_count": 1,
   "id": "a5829f0e",
   "metadata": {},
   "outputs": [],
   "source": [
    "import math"
   ]
  },
  {
   "cell_type": "code",
   "execution_count": 2,
   "id": "3a631d7b",
   "metadata": {},
   "outputs": [],
   "source": [
    "class Monkey:\n",
    "    def __init__(\n",
    "        self,\n",
    "        i: int,\n",
    "        items: list[int],\n",
    "        op_str: str,\n",
    "        test_num: int,\n",
    "        true_m: int,\n",
    "        false_m: int,\n",
    "    ):\n",
    "        self.i = i\n",
    "        self.items = items\n",
    "        self._op_str = op_str\n",
    "        self._test_num = test_num\n",
    "        self._true_m, self._false_m = true_m, false_m\n",
    "        self.inspections = 0\n",
    "\n",
    "    def _operation(self, old: int):\n",
    "        new = eval(self._op_str)  # Safety warning :)\n",
    "        return new\n",
    "\n",
    "    def _test_and_eval(self, worry: int):\n",
    "        return self._true_m if worry % self._test_num == 0 else self._false_m\n",
    "\n",
    "    def receive_item(self, new: int):\n",
    "        self.items.append(new)\n",
    "\n",
    "    def inspect_and_throw_item(self, relieved=True):\n",
    "        assert self.items\n",
    "        self.inspections += 1\n",
    "        item_worry = self._operation(self.items.pop(0))\n",
    "        if relieved:\n",
    "            item_worry = int(item_worry / 3)\n",
    "        return item_worry, self._test_and_eval(item_worry)"
   ]
  },
  {
   "attachments": {},
   "cell_type": "markdown",
   "id": "84198d4d",
   "metadata": {},
   "source": [
    "## Part One"
   ]
  },
  {
   "cell_type": "code",
   "execution_count": 3,
   "id": "d75c03fb",
   "metadata": {},
   "outputs": [],
   "source": [
    "monkeys = list()\n",
    "with open(\"day_11_input.txt\") as file:\n",
    "    while line := file.readline():\n",
    "        monkey_i = int(line.strip().split()[1][:-1])\n",
    "        monkey_items = eval(\"[\" + file.readline().strip().split(\":\")[1] + \"]\")\n",
    "        monkey_op = file.readline().strip().split(\"=\")[1].strip()\n",
    "        monkey_test = int(file.readline().strip().split()[-1])\n",
    "        monkey_t = int(file.readline().strip().split()[-1])\n",
    "        monkey_f = int(file.readline().strip().split()[-1])\n",
    "        monkey = Monkey(\n",
    "            monkey_i, monkey_items, monkey_op, monkey_test, monkey_t, monkey_f\n",
    "        )\n",
    "        monkeys.append(monkey)\n",
    "        file.readline()"
   ]
  },
  {
   "cell_type": "code",
   "execution_count": 4,
   "id": "0dbe8c71",
   "metadata": {},
   "outputs": [
    {
     "name": "stdout",
     "output_type": "stream",
     "text": [
      "Part One: 50830\n"
     ]
    }
   ],
   "source": [
    "for i in range(20):\n",
    "    for monkey in monkeys:\n",
    "        while monkey.items:\n",
    "            item_worry, new_monkey_i = monkey.inspect_and_throw_item()\n",
    "            monkeys[new_monkey_i].receive_item(item_worry)\n",
    "\n",
    "part_1_ans = math.prod(sorted([monkey.inspections for monkey in monkeys])[-2:])\n",
    "print(f\"Part One: {part_1_ans}\")"
   ]
  },
  {
   "attachments": {},
   "cell_type": "markdown",
   "id": "9a87131e",
   "metadata": {},
   "source": [
    "## Part Two"
   ]
  },
  {
   "cell_type": "code",
   "execution_count": 5,
   "id": "79dbafbd",
   "metadata": {},
   "outputs": [],
   "source": [
    "monkeys = list()\n",
    "with open(\"day_11_input.txt\") as file:\n",
    "    while line := file.readline():\n",
    "        monkey_i = int(line.strip().split()[1][:-1])\n",
    "        monkey_items = eval(\"[\" + file.readline().strip().split(\":\")[1] + \"]\")\n",
    "        monkey_op = file.readline().strip().split(\"=\")[1].strip()\n",
    "        monkey_test = int(file.readline().strip().split()[-1])\n",
    "        monkey_t = int(file.readline().strip().split()[-1])\n",
    "        monkey_f = int(file.readline().strip().split()[-1])\n",
    "        monkey = Monkey(\n",
    "            monkey_i, monkey_items, monkey_op, monkey_test, monkey_t, monkey_f\n",
    "        )\n",
    "        monkeys.append(monkey)\n",
    "        file.readline()"
   ]
  },
  {
   "cell_type": "code",
   "execution_count": 6,
   "id": "78b0c3b2",
   "metadata": {},
   "outputs": [
    {
     "name": "stdout",
     "output_type": "stream",
     "text": [
      "Part Two: 14399640002\n"
     ]
    }
   ],
   "source": [
    "up_rel = math.prod([monkey._test_num for monkey in monkeys])\n",
    "for i in range(10000):\n",
    "    for monkey in monkeys:\n",
    "        while monkey.items:\n",
    "            item_worry, new_monkey_i = monkey.inspect_and_throw_item(relieved=False)\n",
    "            monkeys[new_monkey_i].receive_item(item_worry % up_rel)\n",
    "\n",
    "part_2_ans = math.prod(sorted([monkey.inspections for monkey in monkeys])[-2:])\n",
    "print(f\"Part Two: {part_2_ans}\")"
   ]
  }
 ],
 "metadata": {
  "kernelspec": {
   "display_name": ".venv",
   "language": "python",
   "name": "python3"
  },
  "language_info": {
   "codemirror_mode": {
    "name": "ipython",
    "version": 3
   },
   "file_extension": ".py",
   "mimetype": "text/x-python",
   "name": "python",
   "nbconvert_exporter": "python",
   "pygments_lexer": "ipython3",
   "version": "3.10.6"
  },
  "vscode": {
   "interpreter": {
    "hash": "999d0a6b33d8aa5ec08e32eb9e096634778f2965cf79c01565a88954badb0f49"
   }
  }
 },
 "nbformat": 4,
 "nbformat_minor": 5
}
