{
 "cells": [
  {
   "cell_type": "code",
   "execution_count": 1,
   "id": "3b2ea1d6",
   "metadata": {},
   "outputs": [],
   "source": [
    "from functools import cache\n",
    "from itertools import chain, combinations"
   ]
  },
  {
   "cell_type": "code",
   "execution_count": 2,
   "id": "f8a4e433",
   "metadata": {},
   "outputs": [],
   "source": [
    "leads_to = dict()\n",
    "rates = dict()\n",
    "with open(\"day_16_input.txt\") as file:\n",
    "    while line := file.readline().rstrip():\n",
    "        sent_1, sent_2 = line.split(\";\")\n",
    "        sent_1, sent_2 = sent_1.split(), sent_2.split()\n",
    "        from_v, v_rate = sent_1[1], int(sent_1[4].split(\"=\")[-1])\n",
    "        leads_to[from_v] = dict()\n",
    "        for s in sent_2[4:]:\n",
    "            leads_to[from_v][s[:2]] = 1\n",
    "        rates[from_v] = v_rate"
   ]
  },
  {
   "cell_type": "code",
   "execution_count": 3,
   "id": "65d64106",
   "metadata": {},
   "outputs": [],
   "source": [
    "for tunnel in leads_to:\n",
    "    for to_tunnel in leads_to[tunnel]:\n",
    "        if tunnel not in leads_to[to_tunnel]:\n",
    "            print(\"This is a directed graph!\")"
   ]
  },
  {
   "cell_type": "code",
   "execution_count": 4,
   "id": "1164cfa6",
   "metadata": {},
   "outputs": [],
   "source": [
    "for tunnel in leads_to:\n",
    "    for to_tunnel in leads_to[tunnel]:\n",
    "        if to_tunnel not in leads_to:\n",
    "            print(\"Not every tunnel is sufficiently described!\")"
   ]
  },
  {
   "cell_type": "code",
   "execution_count": 5,
   "id": "a526a4fa",
   "metadata": {},
   "outputs": [],
   "source": [
    "clogged_tunnels = list()\n",
    "for tunnel in leads_to:\n",
    "    if tunnel != \"AA\" and rates[tunnel] == 0:\n",
    "        clogged_tunnels.append(tunnel)\n",
    "        for from_t in leads_to[tunnel]:\n",
    "            for to_t in leads_to[tunnel]:\n",
    "                if from_t != to_t:\n",
    "                    leads_to[from_t][to_t] = min(\n",
    "                        leads_to[from_t][to_t]\n",
    "                        if to_t in leads_to[from_t]\n",
    "                        else float(\"inf\"),\n",
    "                        leads_to[from_t][tunnel] + leads_to[tunnel][to_t],\n",
    "                    )\n",
    "\n",
    "for c_tunnel in clogged_tunnels:\n",
    "    del leads_to[c_tunnel]\n",
    "    del rates[c_tunnel]\n",
    "    for other_tunnel in leads_to:\n",
    "        if c_tunnel in leads_to[other_tunnel]:\n",
    "            del leads_to[other_tunnel][c_tunnel]"
   ]
  },
  {
   "cell_type": "code",
   "execution_count": 6,
   "id": "a180cbcd",
   "metadata": {},
   "outputs": [
    {
     "data": {
      "text/plain": [
       "{'LG': {'KS': 3, 'KF': 2},\n",
       " 'IZ': {'QK': 3, 'KB': 3},\n",
       " 'AI': {'EK': 3, 'AA': 2, 'TJ': 3, 'PB': 2, 'KB': 3},\n",
       " 'GU': {'MB': 2, 'KS': 3},\n",
       " 'YE': {'CU': 2},\n",
       " 'AA': {'KF': 2, 'AI': 2, 'CJ': 3, 'TJ': 3, 'PB': 2},\n",
       " 'QK': {'KB': 2, 'PB': 2, 'IZ': 3, 'CJ': 3},\n",
       " 'EK': {'AI': 3},\n",
       " 'CJ': {'KS': 2, 'AA': 3, 'KF': 3, 'QK': 3},\n",
       " 'MB': {'GU': 2},\n",
       " 'KS': {'TJ': 2, 'LG': 3, 'CJ': 2, 'GU': 3, 'CU': 3},\n",
       " 'CU': {'YE': 2, 'KS': 3},\n",
       " 'PB': {'QK': 2, 'TJ': 3, 'AA': 2, 'KF': 3, 'AI': 2},\n",
       " 'KF': {'AA': 2, 'TJ': 3, 'LG': 2, 'CJ': 3, 'PB': 3},\n",
       " 'TJ': {'KS': 2, 'KF': 3, 'PB': 3, 'AA': 3, 'AI': 3},\n",
       " 'KB': {'QK': 2, 'IZ': 3, 'AI': 3}}"
      ]
     },
     "execution_count": 6,
     "metadata": {},
     "output_type": "execute_result"
    }
   ],
   "source": [
    "leads_to"
   ]
  },
  {
   "cell_type": "code",
   "execution_count": 7,
   "id": "afd9c040",
   "metadata": {},
   "outputs": [
    {
     "data": {
      "text/plain": [
       "{'LG': 8,\n",
       " 'IZ': 20,\n",
       " 'AI': 11,\n",
       " 'GU': 14,\n",
       " 'YE': 24,\n",
       " 'AA': 0,\n",
       " 'QK': 15,\n",
       " 'EK': 22,\n",
       " 'CJ': 10,\n",
       " 'MB': 18,\n",
       " 'KS': 13,\n",
       " 'CU': 19,\n",
       " 'PB': 5,\n",
       " 'KF': 7,\n",
       " 'TJ': 3,\n",
       " 'KB': 21}"
      ]
     },
     "execution_count": 7,
     "metadata": {},
     "output_type": "execute_result"
    }
   ],
   "source": [
    "rates"
   ]
  },
  {
   "cell_type": "code",
   "execution_count": 8,
   "id": "4a4ed311",
   "metadata": {},
   "outputs": [],
   "source": [
    "# Finding the lengths of paths between any two tunnels\n",
    "for i in range(len(rates)):\n",
    "    for tunnel in leads_to:\n",
    "        for from_t in leads_to[tunnel]:\n",
    "            for to_t in leads_to[tunnel]:\n",
    "                if from_t != to_t:\n",
    "                    leads_to[from_t][to_t] = min(\n",
    "                        leads_to[from_t][to_t]\n",
    "                        if to_t in leads_to[from_t]\n",
    "                        else float(\"inf\"),\n",
    "                        leads_to[from_t][tunnel] + leads_to[tunnel][to_t],\n",
    "                    )"
   ]
  },
  {
   "cell_type": "markdown",
   "id": "9df4807a",
   "metadata": {},
   "source": [
    "#### Task 1"
   ]
  },
  {
   "cell_type": "code",
   "execution_count": 9,
   "id": "d5aaa89d",
   "metadata": {},
   "outputs": [],
   "source": [
    "@cache\n",
    "def solo_optimal_path(start_tunnel, viable_set, remaining_time):\n",
    "    neighbours = [\n",
    "        to_tunnel\n",
    "        for to_tunnel in leads_to[start_tunnel].keys()\n",
    "        if (to_tunnel in viable_set)\n",
    "        and (leads_to[start_tunnel][to_tunnel] + 1 <= remaining_time)\n",
    "    ]\n",
    "    if not neighbours:\n",
    "        return 0\n",
    "    scores = [\n",
    "        rates[neighbour] * (remaining_time - leads_to[start_tunnel][neighbour] - 1)\n",
    "        + solo_optimal_path(\n",
    "            neighbour,\n",
    "            viable_set - {neighbour},\n",
    "            remaining_time - leads_to[start_tunnel][neighbour] - 1,\n",
    "        )\n",
    "        for neighbour in neighbours\n",
    "    ]\n",
    "    return max(scores)"
   ]
  },
  {
   "cell_type": "code",
   "execution_count": 10,
   "id": "a0bb9822",
   "metadata": {},
   "outputs": [
    {
     "data": {
      "text/plain": [
       "1724"
      ]
     },
     "execution_count": 10,
     "metadata": {},
     "output_type": "execute_result"
    }
   ],
   "source": [
    "# Task 1 solution\n",
    "result_1 = solo_optimal_path(\n",
    "    start_tunnel=\"AA\",\n",
    "    viable_set=frozenset([key for key in leads_to.keys() if key != \"AA\"]),\n",
    "    remaining_time=30,\n",
    ")\n",
    "result_1"
   ]
  },
  {
   "cell_type": "markdown",
   "id": "f9e4b1e3",
   "metadata": {},
   "source": [
    "#### Task 2"
   ]
  },
  {
   "cell_type": "code",
   "execution_count": 11,
   "id": "c982aa5e",
   "metadata": {},
   "outputs": [],
   "source": [
    "# from https://docs.python.org/3/library/itertools.html\n",
    "def powerset(iterable):\n",
    "    \"powerset([1,2,3]) --> () (1,) (2,) (3,) (1,2) (1,3) (2,3) (1,2,3)\"\n",
    "    s = list(iterable)\n",
    "    return chain.from_iterable(combinations(s, r) for r in range(len(s) + 1))\n",
    "\n",
    "\n",
    "valves = frozenset([key for key in leads_to.keys() if key != \"AA\"])\n",
    "subsets = powerset(valves)"
   ]
  },
  {
   "cell_type": "code",
   "execution_count": 12,
   "id": "8f4b741c",
   "metadata": {},
   "outputs": [],
   "source": [
    "result_2 = result_1\n",
    "for subset in subsets:\n",
    "    cur_sub = frozenset(subset)\n",
    "    result_2 = max(\n",
    "        solo_optimal_path(start_tunnel=\"AA\", viable_set=cur_sub, remaining_time=26)\n",
    "        + solo_optimal_path(\n",
    "            start_tunnel=\"AA\", viable_set=valves - cur_sub, remaining_time=26\n",
    "        ),\n",
    "        result_2,\n",
    "    )"
   ]
  },
  {
   "cell_type": "code",
   "execution_count": 13,
   "id": "1e16aef3",
   "metadata": {},
   "outputs": [
    {
     "data": {
      "text/plain": [
       "2283"
      ]
     },
     "execution_count": 13,
     "metadata": {},
     "output_type": "execute_result"
    }
   ],
   "source": [
    "result_2"
   ]
  }
 ],
 "metadata": {
  "kernelspec": {
   "display_name": ".venv",
   "language": "python",
   "name": "python3"
  },
  "language_info": {
   "codemirror_mode": {
    "name": "ipython",
    "version": 3
   },
   "file_extension": ".py",
   "mimetype": "text/x-python",
   "name": "python",
   "nbconvert_exporter": "python",
   "pygments_lexer": "ipython3",
   "version": "3.10.6"
  },
  "vscode": {
   "interpreter": {
    "hash": "999d0a6b33d8aa5ec08e32eb9e096634778f2965cf79c01565a88954badb0f49"
   }
  }
 },
 "nbformat": 4,
 "nbformat_minor": 5
}
