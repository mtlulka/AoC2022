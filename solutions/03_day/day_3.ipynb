{
 "cells": [
  {
   "cell_type": "code",
   "execution_count": 1,
   "id": "fab19047",
   "metadata": {},
   "outputs": [],
   "source": [
    "import string\n",
    "\n",
    "l_p = {letter: i for i, letter in enumerate(string.ascii_letters, start=1)}\n",
    "task_1_sum = 0\n",
    "task_2_sum = 0\n",
    "set_1 = set()\n",
    "set_a = set()\n",
    "set_b = set()\n",
    "counter = 0\n",
    "with open(\"day_3_input.txt\") as file:\n",
    "    while line := file.readline().rstrip():\n",
    "        line_n = len(line)\n",
    "        for i, letter in enumerate(line):\n",
    "            if i < (line_n // 2):\n",
    "                set_1.add(letter)\n",
    "            elif letter in set_1:\n",
    "                task_1_sum += l_p[letter]\n",
    "                set_1 = set()\n",
    "            if counter % 3 == 0:\n",
    "                set_a.add(letter)\n",
    "            elif counter % 3 == 1 and letter in set_a:\n",
    "                set_b.add(letter)\n",
    "            elif counter % 3 == 2 and letter in set_b:\n",
    "                task_2_sum += l_p[letter]\n",
    "                set_a, set_b = set(), set()\n",
    "        counter += 1"
   ]
  },
  {
   "cell_type": "code",
   "execution_count": 2,
   "id": "b21cf198",
   "metadata": {},
   "outputs": [
    {
     "data": {
      "text/plain": [
       "8493"
      ]
     },
     "execution_count": 2,
     "metadata": {},
     "output_type": "execute_result"
    }
   ],
   "source": [
    "task_1_sum"
   ]
  },
  {
   "cell_type": "code",
   "execution_count": 3,
   "id": "cd22ddac",
   "metadata": {},
   "outputs": [
    {
     "data": {
      "text/plain": [
       "2552"
      ]
     },
     "execution_count": 3,
     "metadata": {},
     "output_type": "execute_result"
    }
   ],
   "source": [
    "task_2_sum"
   ]
  }
 ],
 "metadata": {
  "kernelspec": {
   "display_name": ".venv",
   "language": "python",
   "name": "python3"
  },
  "language_info": {
   "codemirror_mode": {
    "name": "ipython",
    "version": 3
   },
   "file_extension": ".py",
   "mimetype": "text/x-python",
   "name": "python",
   "nbconvert_exporter": "python",
   "pygments_lexer": "ipython3",
   "version": "3.10.6"
  },
  "vscode": {
   "interpreter": {
    "hash": "999d0a6b33d8aa5ec08e32eb9e096634778f2965cf79c01565a88954badb0f49"
   }
  }
 },
 "nbformat": 4,
 "nbformat_minor": 5
}
