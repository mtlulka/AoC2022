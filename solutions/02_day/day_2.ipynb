{
 "cells": [
  {
   "cell_type": "code",
   "execution_count": 1,
   "id": "859b880f",
   "metadata": {},
   "outputs": [
    {
     "name": "stdout",
     "output_type": "stream",
     "text": [
      "17189 13490\n"
     ]
    }
   ],
   "source": [
    "beats = {'A': 'C', 'B': 'A', 'C': 'B'}\n",
    "beaten = {value: key for key, value in beats.items()}\n",
    "item_points = {'A': 1, 'B': 2, 'C': 3}\n",
    "strategy_points = {'X': 0, 'Y': 3, 'Z': 6}\n",
    "\n",
    "task_1_points = 0\n",
    "task_2_points = 0\n",
    "with open('day_2_input.txt') as file:\n",
    "    while (line := file.readline()):\n",
    "        p_1, p_2 = line.rstrip().split()\n",
    "        strat_1 = {'X': 'A', 'Y': 'B', 'Z': 'C'}[p_2]\n",
    "        strat_2 = {'X':beats[p_1], 'Y':p_1, 'Z':beaten[p_1]}[p_2]\n",
    "        task_1_points += 3 * (1 - (beaten[strat_1] == p_1) + (beats[strat_1] == p_1)) +  \\\n",
    "            item_points[strat_1]\n",
    "        task_2_points += strategy_points[p_2] + item_points[strat_2]\n",
    "        \n",
    "print(task_1_points, task_2_points)"
   ]
  }
 ],
 "metadata": {
  "kernelspec": {
   "display_name": ".venv",
   "language": "python",
   "name": "python3"
  },
  "language_info": {
   "codemirror_mode": {
    "name": "ipython",
    "version": 3
   },
   "file_extension": ".py",
   "mimetype": "text/x-python",
   "name": "python",
   "nbconvert_exporter": "python",
   "pygments_lexer": "ipython3",
   "version": "3.10.6"
  },
  "vscode": {
   "interpreter": {
    "hash": "999d0a6b33d8aa5ec08e32eb9e096634778f2965cf79c01565a88954badb0f49"
   }
  }
 },
 "nbformat": 4,
 "nbformat_minor": 5
}
