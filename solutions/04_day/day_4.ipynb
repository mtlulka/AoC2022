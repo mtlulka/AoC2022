{
 "cells": [
  {
   "attachments": {},
   "cell_type": "markdown",
   "id": "537a7130",
   "metadata": {},
   "source": [
    "# --- Day 4: Camp Cleanup ---\n",
    "\n",
    "[Puzzle Description](https://adventofcode.com/2022/day/4)"
   ]
  },
  {
   "cell_type": "code",
   "execution_count": 1,
   "id": "a180dde7",
   "metadata": {},
   "outputs": [],
   "source": [
    "import re"
   ]
  },
  {
   "cell_type": "code",
   "execution_count": 2,
   "id": "13d17c52",
   "metadata": {},
   "outputs": [
    {
     "name": "stdout",
     "output_type": "stream",
     "text": [
      "Part One: 536\n",
      "Part Two: 845\n"
     ]
    }
   ],
   "source": [
    "part_1_sum = 0\n",
    "part_2_sum = 0\n",
    "with open(\"day_4_input.txt\") as file:\n",
    "    while line := file.readline().rstrip():\n",
    "        a1, b1, a2, b2 = (int(s) for s in re.split(\"[,-]\", line))\n",
    "        part_1_sum += (a1 <= a2 and b1 >= b2) or (a2 <= a1 and b2 >= b1)\n",
    "        part_2_sum += min(b1, b2) >= max(a1, a2)\n",
    "\n",
    "print(f\"Part One: {part_1_sum}\")\n",
    "print(f\"Part Two: {part_2_sum}\")"
   ]
  }
 ],
 "metadata": {
  "kernelspec": {
   "display_name": ".venv",
   "language": "python",
   "name": "python3"
  },
  "language_info": {
   "codemirror_mode": {
    "name": "ipython",
    "version": 3
   },
   "file_extension": ".py",
   "mimetype": "text/x-python",
   "name": "python",
   "nbconvert_exporter": "python",
   "pygments_lexer": "ipython3",
   "version": "3.10.6"
  },
  "vscode": {
   "interpreter": {
    "hash": "999d0a6b33d8aa5ec08e32eb9e096634778f2965cf79c01565a88954badb0f49"
   }
  }
 },
 "nbformat": 4,
 "nbformat_minor": 5
}
