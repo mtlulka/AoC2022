{
 "cells": [
  {
   "cell_type": "code",
   "execution_count": 1,
   "id": "13d17c52",
   "metadata": {},
   "outputs": [],
   "source": [
    "import re\n",
    "task_1_sum = 0\n",
    "task_2_sum = 0\n",
    "with open('day_4_input.txt') as file:\n",
    "    while (line := file.readline().rstrip()):\n",
    "        a1, b1, a2, b2 = (int(s) for s in re.split('[,-]', line))\n",
    "        task_1_sum += (a1 <= a2 and b1 >= b2) or (a2 <= a1 and b2 >= b1)\n",
    "        task_2_sum += min(b1, b2) >= max(a1, a2)"
   ]
  },
  {
   "cell_type": "code",
   "execution_count": 2,
   "id": "2d7ece70",
   "metadata": {},
   "outputs": [
    {
     "data": {
      "text/plain": [
       "536"
      ]
     },
     "execution_count": 2,
     "metadata": {},
     "output_type": "execute_result"
    }
   ],
   "source": [
    "task_1_sum"
   ]
  },
  {
   "cell_type": "code",
   "execution_count": 3,
   "id": "d4e17d2d",
   "metadata": {},
   "outputs": [
    {
     "data": {
      "text/plain": [
       "845"
      ]
     },
     "execution_count": 3,
     "metadata": {},
     "output_type": "execute_result"
    }
   ],
   "source": [
    "task_2_sum"
   ]
  }
 ],
 "metadata": {
  "kernelspec": {
   "display_name": ".venv",
   "language": "python",
   "name": "python3"
  },
  "language_info": {
   "codemirror_mode": {
    "name": "ipython",
    "version": 3
   },
   "file_extension": ".py",
   "mimetype": "text/x-python",
   "name": "python",
   "nbconvert_exporter": "python",
   "pygments_lexer": "ipython3",
   "version": "3.10.6"
  },
  "vscode": {
   "interpreter": {
    "hash": "999d0a6b33d8aa5ec08e32eb9e096634778f2965cf79c01565a88954badb0f49"
   }
  }
 },
 "nbformat": 4,
 "nbformat_minor": 5
}
