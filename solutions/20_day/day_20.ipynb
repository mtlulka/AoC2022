{
 "cells": [
  {
   "cell_type": "code",
   "execution_count": 1,
   "id": "a3c3c784",
   "metadata": {},
   "outputs": [],
   "source": [
    "class Node():\n",
    "    def __init__(self, step, prev_n=None, next_n=None):\n",
    "        self.step = step\n",
    "        self.prev = prev_n\n",
    "        self.next = next_n\n",
    "        self.moved = 0"
   ]
  },
  {
   "cell_type": "markdown",
   "id": "3f02ac74",
   "metadata": {},
   "source": [
    "#### Task 1"
   ]
  },
  {
   "cell_type": "code",
   "execution_count": 2,
   "id": "816c58c2",
   "metadata": {},
   "outputs": [],
   "source": [
    "# Circular linked list from the file:\n",
    "buf_size = 0\n",
    "with open('day_20_input.txt') as file:\n",
    "    while line := file.readline().rstrip():\n",
    "        if not buf_size:\n",
    "            head = Node(step=int(line))\n",
    "            cur_node = head\n",
    "        else:\n",
    "            next_node = Node(step=int(line), prev_n=cur_node)\n",
    "            cur_node.next = next_node\n",
    "            cur_node = next_node\n",
    "        buf_size += 1\n",
    "    cur_node.next = head\n",
    "    head.prev = cur_node"
   ]
  },
  {
   "cell_type": "code",
   "execution_count": 3,
   "id": "fdfc7a1b",
   "metadata": {},
   "outputs": [],
   "source": [
    "# Always going to the first unmoved node to the right :)\n",
    "# and cutting out and inserting the node at the right position\n",
    "cur_node = head\n",
    "for i in range(buf_size):\n",
    "    while cur_node.moved:\n",
    "        cur_node = cur_node.next\n",
    "    cur_node.prev.next, cur_node.next.prev = cur_node.next, cur_node.prev\n",
    "    suc_node = cur_node.next\n",
    "    next_node = cur_node.next\n",
    "    \n",
    "    forward = cur_node.step % (buf_size - 1)\n",
    "    backward = (buf_size - 1) - forward\n",
    "    if forward <= backward:\n",
    "        for j in range(forward):\n",
    "            suc_node = suc_node.next\n",
    "    else:\n",
    "        for j in range(backward):\n",
    "            suc_node = suc_node.prev\n",
    "            \n",
    "    cur_node.next, cur_node.prev = suc_node, suc_node.prev\n",
    "    suc_node.prev.next, suc_node.prev = cur_node, cur_node\n",
    "    cur_node.moved = 1\n",
    "    cur_node = next_node"
   ]
  },
  {
   "cell_type": "code",
   "execution_count": 4,
   "id": "a2c532af",
   "metadata": {},
   "outputs": [],
   "source": [
    "# Checking if all nodes have been moved and if one returns to the head\n",
    "cur_node = head\n",
    "for i in range(buf_size):\n",
    "    cur_node = cur_node.next\n",
    "    assert cur_node.moved\n",
    "assert cur_node == head\n",
    "for i in range(buf_size):\n",
    "    cur_node = cur_node.prev\n",
    "    assert cur_node.moved\n",
    "assert cur_node == head"
   ]
  },
  {
   "cell_type": "code",
   "execution_count": 5,
   "id": "819ed4da",
   "metadata": {},
   "outputs": [
    {
     "data": {
      "text/plain": [
       "8028"
      ]
     },
     "execution_count": 5,
     "metadata": {},
     "output_type": "execute_result"
    }
   ],
   "source": [
    "# Task 1\n",
    "cur_node = head\n",
    "task_1_res = 0\n",
    "\n",
    "# Find the node with 0 step\n",
    "while cur_node.step != 0:\n",
    "    cur_node = cur_node.next\n",
    "    \n",
    "# Add the 1000th, 2000th, 3000th steps from 0 to the results\n",
    "for i in range(3001):\n",
    "    if i % 1000 == 0 and i > 0:\n",
    "        task_1_res += cur_node.step\n",
    "    cur_node = cur_node.next\n",
    "    \n",
    "task_1_res"
   ]
  },
  {
   "cell_type": "markdown",
   "id": "95152210",
   "metadata": {},
   "source": [
    "#### Task 2"
   ]
  },
  {
   "cell_type": "code",
   "execution_count": 6,
   "id": "210fa856",
   "metadata": {},
   "outputs": [],
   "source": [
    "# Circular linked list from the file:\n",
    "nodes = list()\n",
    "decryption_key = 811589153\n",
    "\n",
    "with open('day_20_input.txt') as file:\n",
    "    while line := file.readline().rstrip():\n",
    "        if not nodes:\n",
    "            nodes.append(Node(step=int(line) * decryption_key))\n",
    "        else:\n",
    "            nodes.append(Node(step=int(line) * decryption_key, prev_n=nodes[-1]))\n",
    "            nodes[-2].next = nodes[-1]\n",
    "    nodes[-1].next = nodes[0]\n",
    "    nodes[0].prev = nodes[-1]"
   ]
  },
  {
   "cell_type": "code",
   "execution_count": 7,
   "id": "f1012539",
   "metadata": {},
   "outputs": [],
   "source": [
    "# Mixing 10 times in the preserved order\n",
    "# and cutting out and inserting the node at the right position\n",
    "\n",
    "for i in range(10):\n",
    "    for cur_node in nodes:\n",
    "        cur_node.prev.next, cur_node.next.prev = cur_node.next, cur_node.prev\n",
    "        suc_node = cur_node.next\n",
    "\n",
    "        forward = cur_node.step % (buf_size - 1)\n",
    "        backward = (buf_size - 1) - forward\n",
    "        if forward <= backward:\n",
    "            for j in range(forward):\n",
    "                suc_node = suc_node.next\n",
    "        else:\n",
    "            for j in range(backward):\n",
    "                suc_node = suc_node.prev\n",
    "\n",
    "        cur_node.next, cur_node.prev = suc_node, suc_node.prev\n",
    "        suc_node.prev.next, suc_node.prev = cur_node, cur_node\n",
    "        cur_node.moved += 1 # Register the move"
   ]
  },
  {
   "cell_type": "code",
   "execution_count": 8,
   "id": "b3138a58",
   "metadata": {},
   "outputs": [],
   "source": [
    "# Checking if all nodes have been moved 10 times and if the movements are circular\n",
    "cur_node = nodes[0]\n",
    "\n",
    "# Moving forwards\n",
    "for i in range(len(nodes)):\n",
    "    cur_node = cur_node.next\n",
    "    assert cur_node.moved == 10\n",
    "assert cur_node == nodes[0]\n",
    "\n",
    "# Moving backwards\n",
    "for i in range(len(nodes)):\n",
    "    cur_node = cur_node.prev\n",
    "    assert cur_node.moved == 10\n",
    "assert cur_node == nodes[0]\n",
    "\n",
    "# Have all nodes been moved 10 times? - explicit check\n",
    "for node in nodes:\n",
    "    assert node.moved == 10"
   ]
  },
  {
   "cell_type": "code",
   "execution_count": 9,
   "id": "54ea24dd",
   "metadata": {},
   "outputs": [
    {
     "data": {
      "text/plain": [
       "8798438007673"
      ]
     },
     "execution_count": 9,
     "metadata": {},
     "output_type": "execute_result"
    }
   ],
   "source": [
    "# Task 2\n",
    "cur_node = nodes[0]\n",
    "task_2_res = 0\n",
    "\n",
    "# Find the node with 0 step\n",
    "while cur_node.step != 0:\n",
    "    cur_node = cur_node.next\n",
    "    \n",
    "# Add the 1000th, 2000th, 3000th steps from 0 to the results\n",
    "for i in range(3001):\n",
    "    if i % 1000 == 0 and i > 0:\n",
    "        task_2_res += cur_node.step\n",
    "    cur_node = cur_node.next\n",
    "    \n",
    "task_2_res"
   ]
  }
 ],
 "metadata": {
  "kernelspec": {
   "display_name": ".venv",
   "language": "python",
   "name": "python3"
  },
  "language_info": {
   "codemirror_mode": {
    "name": "ipython",
    "version": 3
   },
   "file_extension": ".py",
   "mimetype": "text/x-python",
   "name": "python",
   "nbconvert_exporter": "python",
   "pygments_lexer": "ipython3",
   "version": "3.10.6"
  },
  "vscode": {
   "interpreter": {
    "hash": "999d0a6b33d8aa5ec08e32eb9e096634778f2965cf79c01565a88954badb0f49"
   }
  }
 },
 "nbformat": 4,
 "nbformat_minor": 5
}
