{
 "cells": [
  {
   "attachments": {},
   "cell_type": "markdown",
   "id": "dfbe431a",
   "metadata": {},
   "source": [
    "# --- Day 12: Hill Climbing Algorithm ---\n",
    "\n",
    "[Puzzle Description](https://adventofcode.com/2022/day/12)"
   ]
  },
  {
   "cell_type": "code",
   "execution_count": 14,
   "id": "f4b0d57d",
   "metadata": {},
   "outputs": [],
   "source": [
    "import numpy as np\n",
    "import string"
   ]
  },
  {
   "cell_type": "code",
   "execution_count": 15,
   "id": "1d492735",
   "metadata": {},
   "outputs": [],
   "source": [
    "rows = []\n",
    "with open(\"day_12_input.txt\") as file:\n",
    "    while line := file.readline().strip():\n",
    "        row = [c for c in line]\n",
    "        rows.append(row)\n",
    "\n",
    "grid = np.array(rows)\n",
    "end_state = np.argwhere(grid == \"E\").squeeze()\n",
    "start_state = np.argwhere(grid == \"S\").squeeze()\n",
    "q_values = np.zeros((*grid.shape, 4)) * 10\n",
    "height = {string.ascii_lowercase[i]: i for i in range(len(string.ascii_lowercase))}\n",
    "height[\"S\"] = height[\"a\"]\n",
    "height[\"E\"] = height[\"z\"]"
   ]
  },
  {
   "cell_type": "code",
   "execution_count": 16,
   "id": "52721e8b",
   "metadata": {},
   "outputs": [],
   "source": [
    "for n in range(grid.shape[0] * grid.shape[1]):\n",
    "    steps = 0\n",
    "    for i in range(grid.shape[0]):\n",
    "        for j in range(grid.shape[1]):\n",
    "            state = np.array([i, j])\n",
    "            if np.all(state == end_state):\n",
    "                continue\n",
    "            for action in range(4):\n",
    "                reward = -1\n",
    "                if action == 0:\n",
    "                    new_state = state - [1, 0]\n",
    "                    if (\n",
    "                        new_state[0] < 0\n",
    "                        or height[grid[tuple(new_state)]] - height[grid[tuple(state)]]\n",
    "                        > 1\n",
    "                    ):\n",
    "                        reward -= 10 * grid.shape[0] * grid.shape[1]\n",
    "                        new_state = state\n",
    "                elif action == 1:\n",
    "                    new_state = state + [0, 1]\n",
    "                    if (\n",
    "                        new_state[1] == grid.shape[1]\n",
    "                        or height[grid[tuple(new_state)]] - height[grid[tuple(state)]]\n",
    "                        > 1\n",
    "                    ):\n",
    "                        reward -= 10 * grid.shape[0] * grid.shape[1]\n",
    "                        new_state = state\n",
    "                elif action == 2:\n",
    "                    new_state = state + [1, 0]\n",
    "                    if (\n",
    "                        new_state[0] == grid.shape[0]\n",
    "                        or height[grid[tuple(new_state)]] - height[grid[tuple(state)]]\n",
    "                        > 1\n",
    "                    ):\n",
    "                        reward -= 10 * grid.shape[0] * grid.shape[1]\n",
    "                        new_state = state\n",
    "                elif action == 3:\n",
    "                    new_state = state - [0, 1]\n",
    "                    if (\n",
    "                        new_state[1] < 0\n",
    "                        or height[grid[tuple(new_state)]] - height[grid[tuple(state)]]\n",
    "                        > 1\n",
    "                    ):\n",
    "                        reward -= 10 * grid.shape[0] * grid.shape[1]\n",
    "                        new_state = state\n",
    "                if np.all(new_state == end_state):\n",
    "                    reward += 5 * grid.shape[0] * grid.shape[1]\n",
    "                q_values[tuple(list(state) + [action])] += alpha * (\n",
    "                    reward\n",
    "                    + q_values[tuple(new_state)].max()\n",
    "                    - q_values[tuple(list(state) + [action])]\n",
    "                )\n",
    "                steps += 1\n",
    "    if np.any(q_values[tuple(start_state)] > 0):\n",
    "        break"
   ]
  },
  {
   "attachments": {},
   "cell_type": "markdown",
   "id": "b5844514",
   "metadata": {},
   "source": [
    "## Part One"
   ]
  },
  {
   "cell_type": "code",
   "execution_count": 17,
   "id": "9d8914ae",
   "metadata": {},
   "outputs": [
    {
     "name": "stdout",
     "output_type": "stream",
     "text": [
      "Part One: 456\n"
     ]
    }
   ],
   "source": [
    "state = start_state\n",
    "steps = 0\n",
    "\n",
    "while not np.all(state == end_state):\n",
    "    action = q_values[tuple(state)].argmax()\n",
    "    if action == 0:\n",
    "        state = state - [1, 0]\n",
    "    elif action == 1:\n",
    "        state = state + [0, 1]\n",
    "    elif action == 2:\n",
    "        state = state + [1, 0]\n",
    "    elif action == 3:\n",
    "        state = state - [0, 1]\n",
    "    steps += 1\n",
    "\n",
    "print(f\"Part One: {steps}\")"
   ]
  },
  {
   "attachments": {},
   "cell_type": "markdown",
   "id": "b8176f5d",
   "metadata": {},
   "source": [
    "## Part Two"
   ]
  },
  {
   "cell_type": "code",
   "execution_count": 18,
   "id": "232c9baf",
   "metadata": {},
   "outputs": [
    {
     "name": "stdout",
     "output_type": "stream",
     "text": [
      "Part Two: 454\n"
     ]
    }
   ],
   "source": [
    "avail_values = q_values.max(axis=2) * (np.vectorize(height.get)(grid) == 0)\n",
    "i = avail_values.max(axis=1).argmax()\n",
    "j = avail_values.max(axis=0).argmax()\n",
    "state = np.array([i, j])\n",
    "steps = 0\n",
    "\n",
    "while not np.all(state == end_state):\n",
    "    action = q_values[tuple(state)].argmax()\n",
    "    if action == 0:\n",
    "        state = state - [1, 0]\n",
    "    elif action == 1:\n",
    "        state = state + [0, 1]\n",
    "    elif action == 2:\n",
    "        state = state + [1, 0]\n",
    "    elif action == 3:\n",
    "        state = state - [0, 1]\n",
    "    steps += 1\n",
    "\n",
    "print(f\"Part Two: {steps}\")"
   ]
  }
 ],
 "metadata": {
  "kernelspec": {
   "display_name": ".venv",
   "language": "python",
   "name": "python3"
  },
  "language_info": {
   "codemirror_mode": {
    "name": "ipython",
    "version": 3
   },
   "file_extension": ".py",
   "mimetype": "text/x-python",
   "name": "python",
   "nbconvert_exporter": "python",
   "pygments_lexer": "ipython3",
   "version": "3.10.6"
  },
  "vscode": {
   "interpreter": {
    "hash": "999d0a6b33d8aa5ec08e32eb9e096634778f2965cf79c01565a88954badb0f49"
   }
  }
 },
 "nbformat": 4,
 "nbformat_minor": 5
}
