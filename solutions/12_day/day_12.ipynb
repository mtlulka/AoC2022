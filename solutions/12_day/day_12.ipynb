{
 "cells": [
  {
   "cell_type": "code",
   "execution_count": 5,
   "id": "1d492735",
   "metadata": {},
   "outputs": [],
   "source": [
    "import numpy as np\n",
    "import string\n",
    "\n",
    "rows = []\n",
    "with open(\"day_12_input.txt\") as file:\n",
    "    while line := file.readline().strip():\n",
    "        row = [c for c in line]\n",
    "        rows.append(row)"
   ]
  },
  {
   "cell_type": "code",
   "execution_count": 6,
   "id": "33bd4dac",
   "metadata": {},
   "outputs": [],
   "source": [
    "grid = np.array(rows)\n",
    "end_state = np.argwhere(grid == \"E\").squeeze()\n",
    "start_state = np.argwhere(grid == \"S\").squeeze()\n",
    "q_values = np.zeros((*grid.shape, 4)) * 10\n",
    "height = {string.ascii_lowercase[i]: i for i in range(len(string.ascii_lowercase))}\n",
    "height[\"S\"] = height[\"a\"]\n",
    "height[\"E\"] = height[\"z\"]"
   ]
  },
  {
   "cell_type": "code",
   "execution_count": 7,
   "id": "52721e8b",
   "metadata": {},
   "outputs": [],
   "source": [
    "# for n in range(grid.shape[0] * grid.shape[1]):\n",
    "#     steps = 0\n",
    "#     print(n)\n",
    "#     for i in range(grid.shape[0]):\n",
    "#         for j in range(grid.shape[1]):\n",
    "#             state = np.array([i, j])\n",
    "#             if np.all(state == end_state):\n",
    "#                 continue\n",
    "#             for action in range(4):\n",
    "#                 reward = -1\n",
    "#                 if action == 0:\n",
    "#                     new_state = state - [1, 0]\n",
    "#                     if new_state[0] < 0 or height[grid[tuple(new_state)]] - height[grid[tuple(state)]] > 1:\n",
    "#                         reward -= 10 * grid.shape[0] * grid.shape[1]\n",
    "#                         new_state = state\n",
    "#                 elif action == 1:\n",
    "#                     new_state = state + [0, 1]\n",
    "#                     if new_state[1] == grid.shape[1] or height[grid[tuple(new_state)]] - height[grid[tuple(state)]] > 1:\n",
    "#                         reward -= 10 * grid.shape[0] * grid.shape[1]\n",
    "#                         new_state = state\n",
    "#                 elif action == 2:\n",
    "#                     new_state = state + [1, 0]\n",
    "#                     if new_state[0] == grid.shape[0] or height[grid[tuple(new_state)]] - height[grid[tuple(state)]] > 1:\n",
    "#                         reward -= 10 * grid.shape[0] * grid.shape[1]\n",
    "#                         new_state = state\n",
    "#                 elif action == 3:\n",
    "#                     new_state = state - [0, 1]\n",
    "#                     if new_state[1] < 0 or height[grid[tuple(new_state)]] - height[grid[tuple(state)]] > 1:\n",
    "#                         reward -= 10 * grid.shape[0] * grid.shape[1]\n",
    "#                         new_state = state\n",
    "#                 if np.all(new_state == end_state):\n",
    "#                     reward += 5 * grid.shape[0] * grid.shape[1]\n",
    "#                 q_values[tuple(list(state) + [action])] += alpha * (\n",
    "#                     reward + q_values[tuple(new_state)].max() - q_values[tuple(list(state) + [action])])\n",
    "#                 steps += 1\n",
    "#     if np.any(q_values[tuple(start_state)] > 0):\n",
    "#         break"
   ]
  },
  {
   "cell_type": "code",
   "execution_count": 8,
   "id": "4464ba6f",
   "metadata": {},
   "outputs": [
    {
     "name": "stderr",
     "output_type": "stream",
     "text": [
      "  0%|          | 387/100000 [01:02<4:28:25,  6.19it/s]\n"
     ]
    },
    {
     "ename": "KeyboardInterrupt",
     "evalue": "",
     "output_type": "error",
     "traceback": [
      "\u001b[0;31m---------------------------------------------------------------------------\u001b[0m",
      "\u001b[0;31mKeyboardInterrupt\u001b[0m                         Traceback (most recent call last)",
      "Cell \u001b[0;32mIn[8], line 9\u001b[0m\n\u001b[1;32m      7\u001b[0m state \u001b[39m=\u001b[39m start_state\n\u001b[1;32m      8\u001b[0m steps \u001b[39m=\u001b[39m \u001b[39m0\u001b[39m\n\u001b[0;32m----> 9\u001b[0m \u001b[39mwhile\u001b[39;00m \u001b[39mnot\u001b[39;00m np\u001b[39m.\u001b[39;49mall(state \u001b[39m==\u001b[39;49m end_state) \u001b[39mand\u001b[39;00m steps \u001b[39m<\u001b[39m \u001b[39m1000\u001b[39m:\n\u001b[1;32m     10\u001b[0m     steps \u001b[39m+\u001b[39m\u001b[39m=\u001b[39m \u001b[39m1\u001b[39m\n\u001b[1;32m     11\u001b[0m     \u001b[39mif\u001b[39;00m np\u001b[39m.\u001b[39mrandom\u001b[39m.\u001b[39mrandom() \u001b[39m<\u001b[39m epsilon:\n",
      "File \u001b[0;32m<__array_function__ internals>:180\u001b[0m, in \u001b[0;36mall\u001b[0;34m(*args, **kwargs)\u001b[0m\n",
      "File \u001b[0;32m~/projects/AoC2022/.venv/lib/python3.10/site-packages/numpy/core/fromnumeric.py:2427\u001b[0m, in \u001b[0;36m_all_dispatcher\u001b[0;34m(a, axis, out, keepdims, where)\u001b[0m\n\u001b[1;32m   2335\u001b[0m \u001b[39m    \u001b[39m\u001b[39m\"\"\"\u001b[39;00m\n\u001b[1;32m   2336\u001b[0m \u001b[39m    Test whether any array element along a given axis evaluates to True.\u001b[39;00m\n\u001b[1;32m   2337\u001b[0m \n\u001b[0;32m   (...)\u001b[0m\n\u001b[1;32m   2421\u001b[0m \n\u001b[1;32m   2422\u001b[0m \u001b[39m    \"\"\"\u001b[39;00m\n\u001b[1;32m   2423\u001b[0m     \u001b[39mreturn\u001b[39;00m _wrapreduction(a, np\u001b[39m.\u001b[39mlogical_or, \u001b[39m'\u001b[39m\u001b[39many\u001b[39m\u001b[39m'\u001b[39m, axis, \u001b[39mNone\u001b[39;00m, out,\n\u001b[1;32m   2424\u001b[0m                           keepdims\u001b[39m=\u001b[39mkeepdims, where\u001b[39m=\u001b[39mwhere)\n\u001b[0;32m-> 2427\u001b[0m \u001b[39mdef\u001b[39;00m \u001b[39m_all_dispatcher\u001b[39m(a, axis\u001b[39m=\u001b[39m\u001b[39mNone\u001b[39;00m, out\u001b[39m=\u001b[39m\u001b[39mNone\u001b[39;00m, keepdims\u001b[39m=\u001b[39m\u001b[39mNone\u001b[39;00m, \u001b[39m*\u001b[39m,\n\u001b[1;32m   2428\u001b[0m                     where\u001b[39m=\u001b[39m\u001b[39mNone\u001b[39;00m):\n\u001b[1;32m   2429\u001b[0m     \u001b[39mreturn\u001b[39;00m (a, where, out)\n\u001b[1;32m   2432\u001b[0m \u001b[39m@array_function_dispatch\u001b[39m(_all_dispatcher)\n\u001b[1;32m   2433\u001b[0m \u001b[39mdef\u001b[39;00m \u001b[39mall\u001b[39m(a, axis\u001b[39m=\u001b[39m\u001b[39mNone\u001b[39;00m, out\u001b[39m=\u001b[39m\u001b[39mNone\u001b[39;00m, keepdims\u001b[39m=\u001b[39mnp\u001b[39m.\u001b[39m_NoValue, \u001b[39m*\u001b[39m, where\u001b[39m=\u001b[39mnp\u001b[39m.\u001b[39m_NoValue):\n",
      "\u001b[0;31mKeyboardInterrupt\u001b[0m: "
     ]
    }
   ],
   "source": [
    "# q-learning version:\n",
    "from tqdm import tqdm\n",
    "\n",
    "alpha = 1\n",
    "epsilon = 0\n",
    "\n",
    "for i in tqdm(range(100000)):\n",
    "    state = start_state\n",
    "    steps = 0\n",
    "    while not np.all(state == end_state) and steps < 1000:\n",
    "        steps += 1\n",
    "        if np.random.random() < epsilon:\n",
    "            action = np.random.choice(4)\n",
    "        else:\n",
    "            arg_maxx = np.argwhere(\n",
    "                q_values[tuple(state)] == q_values[tuple(state)].max()\n",
    "            )\n",
    "            if len(arg_maxx) == 1:\n",
    "                action = arg_maxx[0, 0]\n",
    "            else:\n",
    "                action = np.random.choice(arg_maxx.squeeze())\n",
    "        reward = -1\n",
    "        if action == 0:\n",
    "            new_state = state - [1, 0]\n",
    "            if (\n",
    "                new_state[0] < 0\n",
    "                or height[grid[tuple(new_state)]] - height[grid[tuple(state)]] > 1\n",
    "            ):\n",
    "                reward -= 100000\n",
    "                new_state = state\n",
    "        elif action == 1:\n",
    "            new_state = state + [0, 1]\n",
    "            if (\n",
    "                new_state[1] == grid.shape[1]\n",
    "                or height[grid[tuple(new_state)]] - height[grid[tuple(state)]] > 1\n",
    "            ):\n",
    "                reward -= 100000\n",
    "                new_state = state\n",
    "        elif action == 2:\n",
    "            new_state = state + [1, 0]\n",
    "            if (\n",
    "                new_state[0] == grid.shape[0]\n",
    "                or height[grid[tuple(new_state)]] - height[grid[tuple(state)]] > 1\n",
    "            ):\n",
    "                reward -= 100000\n",
    "                new_state = state\n",
    "        elif action == 3:\n",
    "            new_state = state - [0, 1]\n",
    "            if (\n",
    "                new_state[1] < 0\n",
    "                or height[grid[tuple(new_state)]] - height[grid[tuple(state)]] > 1\n",
    "            ):\n",
    "                reward -= 100000\n",
    "                new_state = state\n",
    "        if np.all(new_state == end_state):\n",
    "            reward += 10000\n",
    "        q_values[tuple(list(state) + [action])] += alpha * (\n",
    "            reward\n",
    "            + q_values[tuple(new_state)].max()\n",
    "            - q_values[tuple(list(state) + [action])]\n",
    "        )\n",
    "        state = new_state\n",
    "    if np.any(q_values[tuple(list(start_state))] > 0):\n",
    "        break"
   ]
  },
  {
   "cell_type": "code",
   "execution_count": null,
   "id": "9d8914ae",
   "metadata": {},
   "outputs": [
    {
     "data": {
      "text/plain": [
       "462"
      ]
     },
     "execution_count": 7,
     "metadata": {},
     "output_type": "execute_result"
    }
   ],
   "source": [
    "# Task 1\n",
    "\n",
    "state = start_state\n",
    "steps = 0\n",
    "while not np.all(state == end_state):\n",
    "    action = q_values[tuple(state)].argmax()\n",
    "    if action == 0:\n",
    "        state = state - [1, 0]\n",
    "    elif action == 1:\n",
    "        state = state + [0, 1]\n",
    "    elif action == 2:\n",
    "        state = state + [1, 0]\n",
    "    elif action == 3:\n",
    "        state = state - [0, 1]\n",
    "    steps += 1\n",
    "steps"
   ]
  },
  {
   "cell_type": "code",
   "execution_count": null,
   "id": "232c9baf",
   "metadata": {},
   "outputs": [
    {
     "data": {
      "text/plain": [
       "460"
      ]
     },
     "execution_count": 8,
     "metadata": {},
     "output_type": "execute_result"
    }
   ],
   "source": [
    "# Task 2\n",
    "avail_values = q_values.max(axis=2) * (np.vectorize(height.get)(grid) == 0)\n",
    "i = avail_values.max(axis=1).argmax()\n",
    "j = avail_values.max(axis=0).argmax()\n",
    "state = np.array([i, j])\n",
    "steps = 0\n",
    "while not np.all(state == end_state):\n",
    "    action = q_values[tuple(state)].argmax()\n",
    "    if action == 0:\n",
    "        state = state - [1, 0]\n",
    "    elif action == 1:\n",
    "        state = state + [0, 1]\n",
    "    elif action == 2:\n",
    "        state = state + [1, 0]\n",
    "    elif action == 3:\n",
    "        state = state - [0, 1]\n",
    "    steps += 1\n",
    "steps"
   ]
  }
 ],
 "metadata": {
  "kernelspec": {
   "display_name": ".venv",
   "language": "python",
   "name": "python3"
  },
  "language_info": {
   "codemirror_mode": {
    "name": "ipython",
    "version": 3
   },
   "file_extension": ".py",
   "mimetype": "text/x-python",
   "name": "python",
   "nbconvert_exporter": "python",
   "pygments_lexer": "ipython3",
   "version": "3.10.6"
  },
  "vscode": {
   "interpreter": {
    "hash": "999d0a6b33d8aa5ec08e32eb9e096634778f2965cf79c01565a88954badb0f49"
   }
  }
 },
 "nbformat": 4,
 "nbformat_minor": 5
}
