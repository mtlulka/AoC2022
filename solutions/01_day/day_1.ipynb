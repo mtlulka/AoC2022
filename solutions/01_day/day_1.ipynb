{
 "cells": [
  {
   "cell_type": "code",
   "execution_count": 1,
   "id": "6d06fbb9",
   "metadata": {},
   "outputs": [
    {
     "name": "stdout",
     "output_type": "stream",
     "text": [
      "66487\n",
      "197301\n"
     ]
    }
   ],
   "source": [
    "with open('day_1_input.txt') as file:\n",
    "    current_cal = 0\n",
    "    max_cal = 0\n",
    "    max_cal_2 = 0\n",
    "    max_cal_3 = 0\n",
    "    while (line := file.readline()):\n",
    "        if line.strip() != '':\n",
    "            current_cal += int(line.strip())\n",
    "        else:\n",
    "            if max_cal < current_cal:\n",
    "                max_cal_3 = max_cal_2\n",
    "                max_cal_2 = max_cal\n",
    "                max_cal = current_cal\n",
    "            elif max_cal_2 < current_cal:\n",
    "                max_cal_3 = max_cal_2\n",
    "                max_cal_2 = current_cal\n",
    "            elif max_cal_3 < current_cal:\n",
    "                max_cal_3 = current_cal\n",
    "            current_cal = 0\n",
    "print(max(current_cal, max_cal))\n",
    "print(max(current_cal, max_cal_3) + max_cal_2 + max_cal)"
   ]
  }
 ],
 "metadata": {
  "kernelspec": {
   "display_name": ".venv",
   "language": "python",
   "name": "python3"
  },
  "language_info": {
   "codemirror_mode": {
    "name": "ipython",
    "version": 3
   },
   "file_extension": ".py",
   "mimetype": "text/x-python",
   "name": "python",
   "nbconvert_exporter": "python",
   "pygments_lexer": "ipython3",
   "version": "3.10.6"
  },
  "vscode": {
   "interpreter": {
    "hash": "999d0a6b33d8aa5ec08e32eb9e096634778f2965cf79c01565a88954badb0f49"
   }
  }
 },
 "nbformat": 4,
 "nbformat_minor": 5
}
