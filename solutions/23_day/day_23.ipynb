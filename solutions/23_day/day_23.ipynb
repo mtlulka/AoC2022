{
 "cells": [
  {
   "cell_type": "code",
   "execution_count": 1,
   "id": "6c52ed90",
   "metadata": {},
   "outputs": [],
   "source": [
    "import numpy as np"
   ]
  },
  {
   "cell_type": "markdown",
   "id": "25871ff8",
   "metadata": {},
   "source": [
    "#### Task 1"
   ]
  },
  {
   "cell_type": "code",
   "execution_count": 2,
   "id": "c28692b2",
   "metadata": {},
   "outputs": [
    {
     "data": {
      "text/plain": [
       "array([[0., 0., 0., ..., 0., 0., 0.],\n",
       "       [0., 1., 1., ..., 0., 1., 0.],\n",
       "       [0., 0., 1., ..., 0., 0., 0.],\n",
       "       ...,\n",
       "       [0., 0., 0., ..., 0., 0., 0.],\n",
       "       [0., 0., 1., ..., 1., 1., 0.],\n",
       "       [0., 0., 0., ..., 0., 0., 0.]])"
      ]
     },
     "execution_count": 2,
     "metadata": {},
     "output_type": "execute_result"
    }
   ],
   "source": [
    "grid = list()\n",
    "with open(\"day_23_input.txt\") as file:\n",
    "    while line := file.readline().rstrip():\n",
    "        grid.append([1 if c == \"#\" else 0 for c in line])\n",
    "grid = np.array(grid)\n",
    "grid = np.append(np.zeros((grid.shape[0], 1)), grid, axis=1)\n",
    "grid = np.append(grid, np.zeros((grid.shape[0], 1)), axis=1)\n",
    "grid = np.append(np.zeros((1, grid.shape[1])), grid, axis=0)\n",
    "grid = np.append(grid, np.zeros((1, grid.shape[1])), axis=0)\n",
    "grid"
   ]
  },
  {
   "cell_type": "code",
   "execution_count": 3,
   "id": "4ac36c04",
   "metadata": {},
   "outputs": [],
   "source": [
    "for r in range(10):\n",
    "    n, m = grid.shape[0], grid.shape[1]\n",
    "    moves = -np.ones((n, m))\n",
    "    new_grid = np.zeros((n, m))\n",
    "\n",
    "    # First half round:\n",
    "    for i in range(n):\n",
    "        for j in range(m):\n",
    "            if grid[i, j] == 0:\n",
    "                continue\n",
    "            if grid[(i - 1) : (i + 2), (j - 1) : (j + 2)].sum() == 1:\n",
    "                new_grid[i, j] += 1\n",
    "            elif r % 4 <= 0 and grid[i - 1, (j - 1) : (j + 2)].max() == 0:\n",
    "                moves[i, j] = 0\n",
    "                new_grid[i - 1, j] += 1\n",
    "            elif r % 4 <= 1 and grid[i + 1, (j - 1) : (j + 2)].max() == 0:\n",
    "                moves[i, j] = 1\n",
    "                new_grid[i + 1, j] += 1\n",
    "            elif r % 4 <= 2 and grid[(i - 1) : (i + 2), j - 1].max() == 0:\n",
    "                moves[i, j] = 2\n",
    "                new_grid[i, j - 1] += 1\n",
    "            elif grid[(i - 1) : (i + 2), j + 1].max() == 0:\n",
    "                moves[i, j] = 3\n",
    "                new_grid[i, j + 1] += 1\n",
    "            elif r % 4 > 0 and grid[i - 1, (j - 1) : (j + 2)].max() == 0:\n",
    "                moves[i, j] = 0\n",
    "                new_grid[i - 1, j] += 1\n",
    "            elif r % 4 > 1 and grid[i + 1, (j - 1) : (j + 2)].max() == 0:\n",
    "                moves[i, j] = 1\n",
    "                new_grid[i + 1, j] += 1\n",
    "            elif r % 4 > 2 and grid[(i - 1) : (i + 2), j - 1].max() == 0:\n",
    "                moves[i, j] = 2\n",
    "                new_grid[i, j - 1] += 1\n",
    "\n",
    "    # Second half round:\n",
    "    for i in range(n):\n",
    "        for j in range(m):\n",
    "            if grid[i, j] == 0 or moves[i, j] == -1:\n",
    "                continue\n",
    "            if moves[i, j] == 0 and new_grid[i - 1, j] <= 1:\n",
    "                grid[i, j] = 0\n",
    "                grid[i - 1, j] = 1\n",
    "            elif moves[i, j] == 1 and new_grid[i + 1, j] <= 1:\n",
    "                grid[i, j] = 0\n",
    "                grid[i + 1, j] = 1\n",
    "            elif moves[i, j] == 2 and new_grid[i, j - 1] <= 1:\n",
    "                grid[i, j] = 0\n",
    "                grid[i, j - 1] = 1\n",
    "            elif moves[i, j] == 3 and new_grid[i, j + 1] <= 1:\n",
    "                grid[i, j] = 0\n",
    "                grid[i, j + 1] = 1\n",
    "\n",
    "    # Extend the grid without any checks, it will be tightened later :)\n",
    "    # That is the proper Christmas lazy approach :)\n",
    "    grid = np.append(np.zeros((grid.shape[0], 1)), grid, axis=1)\n",
    "    grid = np.append(grid, np.zeros((grid.shape[0], 1)), axis=1)\n",
    "    grid = np.append(np.zeros((1, grid.shape[1])), grid, axis=0)\n",
    "    grid = np.append(grid, np.zeros((1, grid.shape[1])), axis=0)\n",
    "\n",
    "# Tightening the grid:\n",
    "n, m = grid.shape[0], grid.shape[1]\n",
    "grid = grid[\n",
    "    grid.max(axis=1).argmax() : int((grid * [[i] * m for i in range(n)]).max() + 1),\n",
    "    grid.max(axis=0).argmax() : int((grid * [range(m) for i in range(n)]).max() + 1),\n",
    "]"
   ]
  },
  {
   "cell_type": "code",
   "execution_count": 4,
   "id": "575bcfec",
   "metadata": {},
   "outputs": [
    {
     "data": {
      "text/plain": [
       "3862"
      ]
     },
     "execution_count": 4,
     "metadata": {},
     "output_type": "execute_result"
    }
   ],
   "source": [
    "# Task 1\n",
    "(grid < 1).sum()"
   ]
  },
  {
   "cell_type": "markdown",
   "id": "62650b8b",
   "metadata": {},
   "source": [
    "#### Task 2"
   ]
  },
  {
   "cell_type": "code",
   "execution_count": 5,
   "id": "9a53e68b",
   "metadata": {},
   "outputs": [
    {
     "data": {
      "text/plain": [
       "array([[0., 0., 0., ..., 0., 0., 0.],\n",
       "       [0., 1., 1., ..., 0., 1., 0.],\n",
       "       [0., 0., 1., ..., 0., 0., 0.],\n",
       "       ...,\n",
       "       [0., 0., 0., ..., 0., 0., 0.],\n",
       "       [0., 0., 1., ..., 1., 1., 0.],\n",
       "       [0., 0., 0., ..., 0., 0., 0.]])"
      ]
     },
     "execution_count": 5,
     "metadata": {},
     "output_type": "execute_result"
    }
   ],
   "source": [
    "grid = list()\n",
    "with open(\"day_23_input.txt\") as file:\n",
    "    while line := file.readline().rstrip():\n",
    "        grid.append([1 if c == \"#\" else 0 for c in line])\n",
    "grid = np.array(grid)\n",
    "grid = np.append(np.zeros((grid.shape[0], 1)), grid, axis=1)\n",
    "grid = np.append(grid, np.zeros((grid.shape[0], 1)), axis=1)\n",
    "grid = np.append(np.zeros((1, grid.shape[1])), grid, axis=0)\n",
    "grid = np.append(grid, np.zeros((1, grid.shape[1])), axis=0)\n",
    "grid"
   ]
  },
  {
   "cell_type": "code",
   "execution_count": 6,
   "id": "88b2cd50",
   "metadata": {},
   "outputs": [],
   "source": [
    "moved = True\n",
    "r = 0\n",
    "while moved:\n",
    "    moved = False\n",
    "    n, m = grid.shape[0], grid.shape[1]\n",
    "    moves = -np.ones((n, m))\n",
    "    new_grid = np.zeros((n, m))\n",
    "\n",
    "    # First half round:\n",
    "    for i in range(n):\n",
    "        for j in range(m):\n",
    "            if grid[i, j] == 0:\n",
    "                continue\n",
    "            if grid[(i - 1) : (i + 2), (j - 1) : (j + 2)].sum() == 1:\n",
    "                new_grid[i, j] += 1\n",
    "            elif r % 4 <= 0 and grid[i - 1, (j - 1) : (j + 2)].max() == 0:\n",
    "                moves[i, j] = 0\n",
    "                new_grid[i - 1, j] += 1\n",
    "            elif r % 4 <= 1 and grid[i + 1, (j - 1) : (j + 2)].max() == 0:\n",
    "                moves[i, j] = 1\n",
    "                new_grid[i + 1, j] += 1\n",
    "            elif r % 4 <= 2 and grid[(i - 1) : (i + 2), j - 1].max() == 0:\n",
    "                moves[i, j] = 2\n",
    "                new_grid[i, j - 1] += 1\n",
    "            elif grid[(i - 1) : (i + 2), j + 1].max() == 0:\n",
    "                moves[i, j] = 3\n",
    "                new_grid[i, j + 1] += 1\n",
    "            elif r % 4 > 0 and grid[i - 1, (j - 1) : (j + 2)].max() == 0:\n",
    "                moves[i, j] = 0\n",
    "                new_grid[i - 1, j] += 1\n",
    "            elif r % 4 > 1 and grid[i + 1, (j - 1) : (j + 2)].max() == 0:\n",
    "                moves[i, j] = 1\n",
    "                new_grid[i + 1, j] += 1\n",
    "            elif r % 4 > 2 and grid[(i - 1) : (i + 2), j - 1].max() == 0:\n",
    "                moves[i, j] = 2\n",
    "                new_grid[i, j - 1] += 1\n",
    "\n",
    "    # Second half round:\n",
    "    for i in range(n):\n",
    "        for j in range(m):\n",
    "            if grid[i, j] == 0 or moves[i, j] == -1:\n",
    "                continue\n",
    "            if moves[i, j] == 0 and new_grid[i - 1, j] <= 1:\n",
    "                grid[i, j] = 0\n",
    "                grid[i - 1, j] = 1\n",
    "                moved = True\n",
    "            elif moves[i, j] == 1 and new_grid[i + 1, j] <= 1:\n",
    "                grid[i, j] = 0\n",
    "                grid[i + 1, j] = 1\n",
    "                moved = True\n",
    "            elif moves[i, j] == 2 and new_grid[i, j - 1] <= 1:\n",
    "                grid[i, j] = 0\n",
    "                grid[i, j - 1] = 1\n",
    "                moved = True\n",
    "            elif moves[i, j] == 3 and new_grid[i, j + 1] <= 1:\n",
    "                grid[i, j] = 0\n",
    "                grid[i, j + 1] = 1\n",
    "                moved = True\n",
    "\n",
    "    # Extend the grid if necessary\n",
    "    if grid[:, 0].max() > 0:\n",
    "        grid = np.append(np.zeros((grid.shape[0], 1)), grid, axis=1)\n",
    "    if grid[:, -1].max() > 0:\n",
    "        grid = np.append(grid, np.zeros((grid.shape[0], 1)), axis=1)\n",
    "    if grid[0, :].max() > 0:\n",
    "        grid = np.append(np.zeros((1, grid.shape[1])), grid, axis=0)\n",
    "    if grid[-1, :].max() > 0:\n",
    "        grid = np.append(grid, np.zeros((1, grid.shape[1])), axis=0)\n",
    "    r += 1\n",
    "\n",
    "# Tightening the grid (just for fun this time!):\n",
    "n, m = grid.shape[0], grid.shape[1]\n",
    "grid = grid[\n",
    "    grid.max(axis=1).argmax() : int((grid * [[i] * m for i in range(n)]).max() + 1),\n",
    "    grid.max(axis=0).argmax() : int((grid * [range(m) for i in range(n)]).max() + 1),\n",
    "]"
   ]
  },
  {
   "cell_type": "code",
   "execution_count": 7,
   "id": "64b83f03",
   "metadata": {},
   "outputs": [
    {
     "data": {
      "text/plain": [
       "913"
      ]
     },
     "execution_count": 7,
     "metadata": {},
     "output_type": "execute_result"
    }
   ],
   "source": [
    "# Task 2\n",
    "r"
   ]
  }
 ],
 "metadata": {
  "kernelspec": {
   "display_name": ".venv",
   "language": "python",
   "name": "python3"
  },
  "language_info": {
   "codemirror_mode": {
    "name": "ipython",
    "version": 3
   },
   "file_extension": ".py",
   "mimetype": "text/x-python",
   "name": "python",
   "nbconvert_exporter": "python",
   "pygments_lexer": "ipython3",
   "version": "3.10.6"
  },
  "vscode": {
   "interpreter": {
    "hash": "999d0a6b33d8aa5ec08e32eb9e096634778f2965cf79c01565a88954badb0f49"
   }
  }
 },
 "nbformat": 4,
 "nbformat_minor": 5
}
