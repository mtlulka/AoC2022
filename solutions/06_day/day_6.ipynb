{
 "cells": [
  {
   "attachments": {},
   "cell_type": "markdown",
   "id": "7371ed92",
   "metadata": {},
   "source": [
    "# --- Day 6: Tuning Trouble ---\n",
    "\n",
    "[Puzzle Description](https://adventofcode.com/2022/day/6)"
   ]
  },
  {
   "cell_type": "code",
   "execution_count": 1,
   "id": "720db6bf",
   "metadata": {},
   "outputs": [
    {
     "name": "stdout",
     "output_type": "stream",
     "text": [
      "Part One: 1531\n",
      "Part Two: 2518\n"
     ]
    }
   ],
   "source": [
    "i = 0\n",
    "char_14 = list()\n",
    "part_1_ans = 0\n",
    "part_2_ans = 0\n",
    "with open(\"day_6_input.txt\") as file:\n",
    "    while c := file.read(1):\n",
    "        i += 1\n",
    "        if c not in char_14:\n",
    "            if len(char_14) == 3 and not part_1_ans:\n",
    "                part_1_ans = i\n",
    "            elif len(char_14) == 13:\n",
    "                part_2_ans = i\n",
    "                break\n",
    "            else:\n",
    "                char_14.append(c)\n",
    "        else:\n",
    "            del char_14[0 : (char_14.index(c) + 1)]\n",
    "            char_14.append(c)\n",
    "\n",
    "print(f\"Part One: {part_1_ans}\")\n",
    "print(f\"Part Two: {part_2_ans}\")"
   ]
  }
 ],
 "metadata": {
  "kernelspec": {
   "display_name": ".venv",
   "language": "python",
   "name": "python3"
  },
  "language_info": {
   "codemirror_mode": {
    "name": "ipython",
    "version": 3
   },
   "file_extension": ".py",
   "mimetype": "text/x-python",
   "name": "python",
   "nbconvert_exporter": "python",
   "pygments_lexer": "ipython3",
   "version": "3.10.6"
  },
  "vscode": {
   "interpreter": {
    "hash": "999d0a6b33d8aa5ec08e32eb9e096634778f2965cf79c01565a88954badb0f49"
   }
  }
 },
 "nbformat": 4,
 "nbformat_minor": 5
}
