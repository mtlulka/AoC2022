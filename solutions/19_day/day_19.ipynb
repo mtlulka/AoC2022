{
 "cells": [
  {
   "cell_type": "code",
   "execution_count": 1,
   "id": "f6ba2648",
   "metadata": {},
   "outputs": [],
   "source": [
    "from functools import cache"
   ]
  },
  {
   "cell_type": "code",
   "execution_count": 2,
   "id": "1093c489",
   "metadata": {},
   "outputs": [],
   "source": [
    "blueprints = list() # Remember to count from 1 when computing the quality level\n",
    "with open('day_19_input.txt') as file:\n",
    "    while line:= file.readline().rstrip():\n",
    "        line = line.split(':')[1] # Leave only meaningful sentences\n",
    "        robot_costs = line.split('.')\n",
    "        ore_cost = robot_costs[0].split()\n",
    "        clay_cost = robot_costs[1].split()\n",
    "        obsidian_cost = robot_costs[2].split()\n",
    "        geode_cost = robot_costs[3].split()\n",
    "        blueprints.append({\n",
    "            ore_cost[1]: {ore_cost[5]: int(ore_cost[4])},\n",
    "            clay_cost[1]: {clay_cost[5]: int(clay_cost[4])},\n",
    "            obsidian_cost[1]: {obsidian_cost[5]: int(obsidian_cost[4]),\n",
    "                               obsidian_cost[8]: int(obsidian_cost[7])},\n",
    "            geode_cost[1]: {geode_cost[5]: int(geode_cost[4]),\n",
    "                            geode_cost[8]: int(geode_cost[7])}\n",
    "        })"
   ]
  },
  {
   "cell_type": "markdown",
   "id": "150c260d",
   "metadata": {},
   "source": [
    "#### Task 1 (slow brute force)"
   ]
  },
  {
   "cell_type": "markdown",
   "id": "3b480622",
   "metadata": {},
   "source": [
    "An easy way to speed up the process would be to check if at least one geode can be created within the 24 minutes with a blueprint and omitting any other computations if it cannot:"
   ]
  },
  {
   "cell_type": "code",
   "execution_count": 3,
   "id": "ffd05096",
   "metadata": {},
   "outputs": [],
   "source": [
    "opt_geodes = list()\n",
    "for blueprint in blueprints:\n",
    "    robots = (1, 0, 0, 0)\n",
    "    supplies = (0, 0, 0, 0)\n",
    "    ore_ore = blueprint['ore']['ore']\n",
    "    cl_ore = blueprint['clay']['ore']\n",
    "    obs_ore, obs_cl = blueprint['obsidian']['ore'], blueprint['obsidian']['clay']\n",
    "    geo_ore, geo_obs = blueprint['geode']['ore'], blueprint['geode']['obsidian']\n",
    "\n",
    "    @cache\n",
    "    def planning_step(robots, supplies, time_remaining):\n",
    "        if time_remaining == 0:\n",
    "            return supplies[3]\n",
    "\n",
    "        solutions = list()\n",
    "\n",
    "        # If a geode robot can be built, it should!\n",
    "        if supplies[0] >= geo_ore and supplies[2] >= geo_obs:\n",
    "            return planning_step((robots[0], robots[1], robots[2], robots[3] + 1),\n",
    "                                 (supplies[0] + robots[0] - geo_ore,\n",
    "                                  supplies[1] + robots[1],\n",
    "                                  supplies[2] + robots[2] - geo_obs,\n",
    "                                  supplies[3] + robots[3]),\n",
    "                                 time_remaining - 1)\n",
    "        \n",
    "        # Then, if a obsidian robot can be built, it should\n",
    "        elif supplies[0] >= obs_ore and supplies[1] >= obs_cl and robots[2] < geo_obs:\n",
    "            solutions.append(planning_step((robots[0], robots[1], robots[2] + 1, robots[3]),\n",
    "                                           (supplies[0] + robots[0] - obs_ore,\n",
    "                                            supplies[1] + robots[1] - obs_cl,\n",
    "                                            supplies[2] + robots[2],\n",
    "                                            supplies[3] + robots[3]),\n",
    "                                           time_remaining - 1))\n",
    "            \n",
    "        # Then, if a clay robot can be built, it should\n",
    "        elif supplies[0] >= cl_ore and robots[1] < obs_cl:\n",
    "            solutions.append(planning_step((robots[0], robots[1] + 1, robots[2], robots[3]),\n",
    "                                           (supplies[0] + robots[0] - cl_ore,\n",
    "                                            supplies[1] + robots[1],\n",
    "                                            supplies[2] + robots[2],\n",
    "                                            supplies[3] + robots[3]),\n",
    "                                           time_remaining - 1))\n",
    "            \n",
    "        # One should also consider building an ore robot\n",
    "        if supplies[0] >= ore_ore and robots[0] < max(cl_ore, obs_ore, geo_ore):\n",
    "            solutions.append(planning_step((robots[0] + 1, robots[1], robots[2], robots[3]),\n",
    "                                           (supplies[0] + robots[0] - ore_ore,\n",
    "                                            supplies[1] + robots[1],\n",
    "                                            supplies[2] + robots[2],\n",
    "                                            supplies[3] + robots[3]),\n",
    "                                           time_remaining - 1))\n",
    "    \n",
    "        # Finally, not doing anything must also be considered!\n",
    "        solutions.append(planning_step((robots[0], robots[1], robots[2], robots[3]),\n",
    "                                       (supplies[0] + robots[0],\n",
    "                                        supplies[1] + robots[1],\n",
    "                                        supplies[2] + robots[2],\n",
    "                                        supplies[3] + robots[3]),\n",
    "                                       time_remaining - 1))\n",
    "        return max(solutions)\n",
    "\n",
    "    opt_geodes.append(planning_step(robots, supplies, time_remaining=24))"
   ]
  },
  {
   "cell_type": "code",
   "execution_count": 4,
   "id": "6fb59536",
   "metadata": {},
   "outputs": [
    {
     "data": {
      "text/plain": [
       "1081"
      ]
     },
     "execution_count": 4,
     "metadata": {},
     "output_type": "execute_result"
    }
   ],
   "source": [
    "# Task 1\n",
    "sum([(i + 1) * opt_geodes[i] for i in range(len(opt_geodes))])"
   ]
  },
  {
   "cell_type": "markdown",
   "id": "85404638",
   "metadata": {},
   "source": [
    "#### Task 2 (integer programming)"
   ]
  },
  {
   "cell_type": "code",
   "execution_count": 5,
   "id": "da762552",
   "metadata": {},
   "outputs": [],
   "source": [
    "from scipy.optimize import linprog\n",
    "import numpy as np"
   ]
  },
  {
   "cell_type": "code",
   "execution_count": 6,
   "id": "0d511fe5",
   "metadata": {},
   "outputs": [],
   "source": [
    "three_opt_geodes = list()\n",
    "for blueprint in blueprints[:3]:\n",
    "    ore_ore = blueprint['ore']['ore']\n",
    "    cl_ore = blueprint['clay']['ore']\n",
    "    obs_ore, obs_cl = blueprint['obsidian']['ore'], blueprint['obsidian']['clay']\n",
    "    geo_ore, geo_obs = blueprint['geode']['ore'], blueprint['geode']['obsidian']\n",
    "\n",
    "    time_remaining = 32 + 1 # + 1 for the start!\n",
    "    A = list()\n",
    "    b = list()\n",
    "    robot_types = 4\n",
    "    for time in range(time_remaining):\n",
    "        # Can only append 1 robot a time:\n",
    "        state_cost = np.zeros((time_remaining, robot_types))\n",
    "        state_cost[time] = 1\n",
    "        A.append(state_cost.flatten())\n",
    "        b.append(1)\n",
    "\n",
    "        # There must have been enough ore to sustain the robot population:\n",
    "        state_cost = np.zeros((time_remaining, robot_types))\n",
    "        state_cost[:(time + 1), 0] = ore_ore\n",
    "        state_cost[:(time + 1), 1] = cl_ore\n",
    "        state_cost[:(time + 1), 2] = obs_ore\n",
    "        state_cost[:(time + 1), 3] = geo_ore\n",
    "        state_cost[:time, 0] -= np.arange(time - 1, -1, -1)\n",
    "        A.append(state_cost.flatten())\n",
    "        b.append(ore_ore) # to allow for the first ore robot\n",
    "\n",
    "        # There must have been enough clay to sustain the robot population:\n",
    "        state_cost = np.zeros((time_remaining, robot_types))\n",
    "        state_cost[:(time + 1), 2] = obs_cl\n",
    "        state_cost[:time, 1] -= np.arange(time - 1, -1, -1)\n",
    "        A.append(state_cost.flatten())\n",
    "        b.append(0)\n",
    "\n",
    "        # There must have been enough obsidian to sustain the robot population:\n",
    "        state_cost = np.zeros((time_remaining, robot_types))\n",
    "        state_cost[:(time + 1), 3] = geo_obs\n",
    "        state_cost[:time, 2] -= np.arange(time - 1, -1, -1)\n",
    "        A.append(state_cost.flatten())\n",
    "        b.append(0)\n",
    "\n",
    "    A = np.array(A)\n",
    "    b = np.array(b)\n",
    "    bounds = tuple((0, 1) for i in range(len(b)))\n",
    "    state_reward = np.zeros((time_remaining, robot_types))\n",
    "    state_reward[:, 3] = - np.arange(time_remaining - 1, -1, -1) # minus as linprog minimizes\n",
    "    c = state_reward.flatten()\n",
    "    res = linprog(c=c, A_ub=A, b_ub=b, bounds=bounds, integrality=[1 for i in range(len(b))])\n",
    "    three_opt_geodes.append(int(-res['fun']))"
   ]
  },
  {
   "cell_type": "code",
   "execution_count": 7,
   "id": "407e961b",
   "metadata": {},
   "outputs": [
    {
     "data": {
      "text/plain": [
       "2415"
      ]
     },
     "execution_count": 7,
     "metadata": {},
     "output_type": "execute_result"
    }
   ],
   "source": [
    "# Task\n",
    "np.array(three_opt_geodes).prod()"
   ]
  }
 ],
 "metadata": {
  "kernelspec": {
   "display_name": ".venv",
   "language": "python",
   "name": "python3"
  },
  "language_info": {
   "codemirror_mode": {
    "name": "ipython",
    "version": 3
   },
   "file_extension": ".py",
   "mimetype": "text/x-python",
   "name": "python",
   "nbconvert_exporter": "python",
   "pygments_lexer": "ipython3",
   "version": "3.10.6"
  },
  "vscode": {
   "interpreter": {
    "hash": "999d0a6b33d8aa5ec08e32eb9e096634778f2965cf79c01565a88954badb0f49"
   }
  }
 },
 "nbformat": 4,
 "nbformat_minor": 5
}
