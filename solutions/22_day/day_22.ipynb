{
 "cells": [
  {
   "attachments": {},
   "cell_type": "markdown",
   "id": "8b64f2ae",
   "metadata": {},
   "source": [
    "# --- Day 22: Monkey Map ---\n",
    "\n",
    "[Puzzle Description](https://adventofcode.com/2022/day/22)"
   ]
  },
  {
   "cell_type": "code",
   "execution_count": 1,
   "id": "e16fe0c5",
   "metadata": {},
   "outputs": [],
   "source": [
    "import numpy as np\n",
    "import re"
   ]
  },
  {
   "cell_type": "code",
   "execution_count": 2,
   "id": "5ab7dc55",
   "metadata": {},
   "outputs": [],
   "source": [
    "grid = list()\n",
    "max_width = 0\n",
    "symbol_dict = {\" \": 0, \".\": 1, \"#\": 9}\n",
    "with open(\"day_22_input.txt\") as file:\n",
    "    # Create the grid\n",
    "    while line := file.readline().rstrip():\n",
    "        max_width = max(max_width, len(line))\n",
    "        row = [symbol_dict[line[i]] if i < len(line) else 0 for i in range(max_width)]\n",
    "        grid.append(row)\n",
    "    grid = np.array(grid)\n",
    "\n",
    "    # Save the path\n",
    "    line = file.readline().rstrip()\n",
    "    steps = [int(num) for num in re.split(r\"[RL]\", line)]\n",
    "    rotations = [1 if c == \"R\" else -1 for c in re.split(r\"[0-9]+\", line)[1:-1]]"
   ]
  },
  {
   "cell_type": "code",
   "execution_count": 3,
   "id": "fc3d9480",
   "metadata": {},
   "outputs": [],
   "source": [
    "# Movement according to the current orientation:\n",
    "movement = {\n",
    "    0: np.array([0, 1]),\n",
    "    1: np.array([1, 0]),\n",
    "    2: np.array([0, -1]),\n",
    "    3: np.array([-1, 0]),\n",
    "}\n",
    "\n",
    "# Grid limits for each direction:\n",
    "grid_limits = {\n",
    "    0: ((grid > 0) * [range(grid.shape[1]) for i in range(grid.shape[0])]).argmax(\n",
    "        axis=1\n",
    "    ),\n",
    "    1: ((grid > 0) * [[i] * grid.shape[1] for i in range(grid.shape[0])]).argmax(\n",
    "        axis=0\n",
    "    ),\n",
    "    2: (grid > 0).argmax(axis=1),\n",
    "    3: (grid > 0).argmax(axis=0),\n",
    "}"
   ]
  },
  {
   "attachments": {},
   "cell_type": "markdown",
   "id": "8fafb655",
   "metadata": {},
   "source": [
    "## Part One"
   ]
  },
  {
   "cell_type": "code",
   "execution_count": 4,
   "id": "2f0c2cfe",
   "metadata": {},
   "outputs": [
    {
     "name": "stdout",
     "output_type": "stream",
     "text": [
      "Part One: 117054\n"
     ]
    }
   ],
   "source": [
    "# Setting the starting configuration:\n",
    "facing = 0\n",
    "cur_y = 0\n",
    "cur_x = grid_limits[2][cur_y]  # Find the left limit of row 0\n",
    "cur_pos = np.array([cur_y, cur_x])\n",
    "\n",
    "# Run the steps:\n",
    "for i in range(len(steps)):\n",
    "    # Move for the length of the step:\n",
    "    for j in range(steps[i]):\n",
    "        # Compute the next position:\n",
    "        next_pos = cur_pos + movement[facing]\n",
    "\n",
    "        # Compute the wrapping if necessary:\n",
    "        if facing == 0 and next_pos[1] > grid_limits[facing][next_pos[0]]:\n",
    "            next_pos[1] = grid_limits[2][next_pos[0]]\n",
    "        elif facing == 1 and next_pos[0] > grid_limits[facing][next_pos[1]]:\n",
    "            next_pos[0] = grid_limits[3][next_pos[1]]\n",
    "        elif facing == 2 and next_pos[1] < grid_limits[facing][next_pos[0]]:\n",
    "            next_pos[1] = grid_limits[0][next_pos[0]]\n",
    "        elif facing == 3 and next_pos[0] < grid_limits[facing][next_pos[1]]:\n",
    "            next_pos[0] = grid_limits[1][next_pos[1]]\n",
    "\n",
    "        # Stop moving if a wall is encountered\n",
    "        if grid[tuple(next_pos)] == 9:\n",
    "            break\n",
    "\n",
    "        # Complete the move\n",
    "        cur_pos = next_pos\n",
    "\n",
    "    # Unless this is the last step, rotate accordingly:\n",
    "    if i < len(rotations):\n",
    "        facing = (facing + rotations[i]) % 4\n",
    "\n",
    "cur_y, cur_x = cur_pos\n",
    "part_1_ans = 1000 * (cur_y + 1) + 4 * (cur_x + 1) + facing\n",
    "print(f\"Part One: {part_1_ans}\")"
   ]
  },
  {
   "attachments": {},
   "cell_type": "markdown",
   "id": "0574508e",
   "metadata": {},
   "source": [
    "## Part Two"
   ]
  },
  {
   "cell_type": "markdown",
   "id": "c7a0acca",
   "metadata": {},
   "source": [
    "Note that the shape of the input is used to hardcode the solutions:\n",
    "\n",
    "```\n",
    " ##\n",
    " #\n",
    "##\n",
    "#\n",
    "```\n",
    "\n",
    "To come up with such a hardcode solution, it is best to draw the grid and see, which points are joined in a cube!"
   ]
  },
  {
   "cell_type": "code",
   "execution_count": 5,
   "id": "7d6a7ab3",
   "metadata": {},
   "outputs": [
    {
     "name": "stdout",
     "output_type": "stream",
     "text": [
      "Part Two: 162096\n"
     ]
    }
   ],
   "source": [
    "# Setting the starting configuration:\n",
    "facing = 0\n",
    "cur_y = 0\n",
    "cur_x = grid_limits[2][cur_y]  # Find the left limit of row 0\n",
    "cur_pos = np.array([cur_y, cur_x])\n",
    "\n",
    "# Run the steps:\n",
    "for i in range(len(steps)):\n",
    "    # Move for the length of the step:\n",
    "    for j in range(steps[i]):\n",
    "        # Compute the next position:\n",
    "        next_pos = cur_pos + movement[facing]\n",
    "        old_facing = facing\n",
    "\n",
    "        # Compute the wrapping if necessary:\n",
    "\n",
    "        # Wrapping to the right:\n",
    "        if facing == 0 and next_pos[1] > grid_limits[facing][next_pos[0]]:\n",
    "            if cur_pos[0] < 50:\n",
    "                next_pos[0] = 149 - cur_pos[0]\n",
    "                next_pos[1] = grid_limits[0][next_pos[0]]\n",
    "                facing = 2\n",
    "            elif cur_pos[0] < 100:\n",
    "                next_pos[1] = 50 + cur_pos[0]\n",
    "                next_pos[0] = grid_limits[1][next_pos[1]]\n",
    "                facing = 3\n",
    "            elif cur_pos[0] < 150:\n",
    "                next_pos[0] = 149 - cur_pos[0]\n",
    "                next_pos[1] = grid_limits[0][next_pos[0]]\n",
    "                facing = 2\n",
    "            elif cur_pos[0] < 200:\n",
    "                next_pos[1] = cur_pos[0] - 100\n",
    "                next_pos[0] = grid_limits[1][next_pos[1]]\n",
    "                facing = 3\n",
    "            else:\n",
    "                print(\"ERROR!\")\n",
    "\n",
    "        # Wrapping to the bottom:\n",
    "        elif facing == 1 and next_pos[0] > grid_limits[facing][next_pos[1]]:\n",
    "            if cur_pos[1] < 50:\n",
    "                next_pos[1] = 100 + cur_pos[1]\n",
    "                next_pos[0] = grid_limits[3][next_pos[1]]\n",
    "                facing = 1\n",
    "            elif cur_pos[1] < 100:\n",
    "                next_pos[0] = 100 + cur_pos[1]\n",
    "                next_pos[1] = grid_limits[0][next_pos[0]]\n",
    "                facing = 2\n",
    "            elif cur_pos[1] < 150:\n",
    "                next_pos[0] = cur_pos[1] - 50\n",
    "                next_pos[1] = grid_limits[0][next_pos[0]]\n",
    "                facing = 2\n",
    "            else:\n",
    "                print(\"ERROR!\")\n",
    "\n",
    "        # Wrapping to the left:\n",
    "        elif facing == 2 and next_pos[1] < grid_limits[facing][next_pos[0]]:\n",
    "            if cur_pos[0] < 50:\n",
    "                next_pos[0] = 149 - cur_pos[0]\n",
    "                next_pos[1] = grid_limits[2][next_pos[0]]\n",
    "                facing = 0\n",
    "            elif cur_pos[0] < 100:\n",
    "                next_pos[1] = cur_pos[0] - 50\n",
    "                next_pos[0] = grid_limits[3][next_pos[1]]\n",
    "                facing = 1\n",
    "            elif cur_pos[0] < 150:\n",
    "                next_pos[0] = 149 - cur_pos[0]\n",
    "                next_pos[1] = grid_limits[2][next_pos[0]]\n",
    "                facing = 0\n",
    "            elif cur_pos[0] < 200:\n",
    "                next_pos[1] = cur_pos[0] - 100\n",
    "                next_pos[0] = grid_limits[3][next_pos[1]]\n",
    "                facing = 1\n",
    "            else:\n",
    "                print(\"ERROR!\")\n",
    "\n",
    "        # Wrapping to the top:\n",
    "        elif facing == 3 and next_pos[0] < grid_limits[facing][next_pos[1]]:\n",
    "            if cur_pos[1] < 50:\n",
    "                next_pos[0] = cur_pos[1] + 50\n",
    "                next_pos[1] = grid_limits[2][next_pos[0]]\n",
    "                facing = 0\n",
    "            elif cur_pos[1] < 100:\n",
    "                next_pos[0] = 100 + cur_pos[1]\n",
    "                next_pos[1] = grid_limits[2][next_pos[0]]\n",
    "                facing = 0\n",
    "            elif cur_pos[1] < 150:\n",
    "                next_pos[1] = cur_pos[1] - 100\n",
    "                next_pos[0] = grid_limits[1][next_pos[1]]\n",
    "                facing = 3\n",
    "            else:\n",
    "                print(\"ERROR!\")\n",
    "\n",
    "        # Stop moving if a wall is encountered\n",
    "        if grid[tuple(next_pos)] == 9:\n",
    "            # Revert the facing to the previous position!\n",
    "            facing = old_facing\n",
    "            break\n",
    "\n",
    "        # Complete the move\n",
    "        cur_pos = next_pos\n",
    "\n",
    "    # Unless this is the last step, rotate accordingly:\n",
    "    if i < len(rotations):\n",
    "        facing = (facing + rotations[i]) % 4\n",
    "\n",
    "cur_y, cur_x = cur_pos\n",
    "part_2_ans = 1000 * (cur_y + 1) + 4 * (cur_x + 1) + facing\n",
    "print(f\"Part Two: {part_2_ans}\")"
   ]
  }
 ],
 "metadata": {
  "kernelspec": {
   "display_name": ".venv",
   "language": "python",
   "name": "python3"
  },
  "language_info": {
   "codemirror_mode": {
    "name": "ipython",
    "version": 3
   },
   "file_extension": ".py",
   "mimetype": "text/x-python",
   "name": "python",
   "nbconvert_exporter": "python",
   "pygments_lexer": "ipython3",
   "version": "3.10.6"
  },
  "vscode": {
   "interpreter": {
    "hash": "999d0a6b33d8aa5ec08e32eb9e096634778f2965cf79c01565a88954badb0f49"
   }
  }
 },
 "nbformat": 4,
 "nbformat_minor": 5
}
