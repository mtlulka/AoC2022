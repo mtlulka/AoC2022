{
 "cells": [
  {
   "cell_type": "code",
   "execution_count": 1,
   "id": "e7aed251",
   "metadata": {},
   "outputs": [],
   "source": [
    "from math import log"
   ]
  },
  {
   "cell_type": "code",
   "execution_count": 2,
   "id": "75989e3f",
   "metadata": {},
   "outputs": [],
   "source": [
    "def str_snafu_to_deci(snafu_str):\n",
    "    deci_num = 0\n",
    "    snafu_dict = {\n",
    "        '2': 2,\n",
    "        '1': 1,\n",
    "        '0': 0,\n",
    "        '-': -1,\n",
    "        '=': -2\n",
    "    }\n",
    "    \n",
    "    for i, c in enumerate(reversed(snafu_str)):\n",
    "        deci_num += (5 ** i) * snafu_dict[c]\n",
    "    \n",
    "    return str(deci_num)\n",
    "\n",
    "def str_deci_to_snafu(deci_str):\n",
    "    # Extra case to avoid log(0):\n",
    "    if int(deci_str) == 0:\n",
    "        return '0'\n",
    "    \n",
    "    dec_rest = int(deci_str) # number to encoude\n",
    "    rep = '' # representation in SNAFU\n",
    "    rep_len = int(log(abs(dec_rest) * 2, 5) // 1) # length of SNAFU representation\n",
    "    \n",
    "    # Used for encoding in the loop\n",
    "    shift_dec_dict = {\n",
    "        0: '=',\n",
    "        1: '-',\n",
    "        2: '0',\n",
    "        3: '1',\n",
    "        4: '2'\n",
    "    }\n",
    "    \n",
    "    # To understand the following code,\n",
    "    # it is best to draw a tree of intervals\n",
    "    for i in range(rep_len, -1, -1):\n",
    "        inter = int((dec_rest + (5 ** (i + 1) - 1) / 2) // (5 ** i))\n",
    "        dec_rest -= (inter - 2) * 5 ** i\n",
    "        rep = rep + shift_dec_dict[inter]\n",
    "        \n",
    "        # Equivalent, not the most elegant, coding:\n",
    "#         if abs(dec_rest + 2 * 5 ** i) <= (5 ** i - 1) / 2:\n",
    "#             dec_rest += 2 * 5 ** i\n",
    "#             rep = rep + '='\n",
    "#         elif abs(dec_rest + 5 ** i) <= (5 ** i - 1) / 2:\n",
    "#             dec_rest += 5 ** i\n",
    "#             rep = rep + '-'\n",
    "#         elif abs(dec_rest) <= (5 ** i - 1) / 2:\n",
    "#             rep = rep + '0'\n",
    "#         elif abs(dec_rest - 5 ** i) <= (5 ** i - 1) / 2:\n",
    "#             dec_rest -= 5 ** i\n",
    "#             rep = rep + '1'\n",
    "#         elif abs(dec_rest - 2 * 5 ** i) <= (5 ** i - 1) / 2:\n",
    "#             dec_rest -= 2 * 5 ** i\n",
    "#             rep = rep + '2'\n",
    "\n",
    "    return rep"
   ]
  },
  {
   "cell_type": "markdown",
   "id": "1d739baf",
   "metadata": {},
   "source": [
    "#### Task 1"
   ]
  },
  {
   "cell_type": "code",
   "execution_count": 3,
   "id": "cf14e450",
   "metadata": {},
   "outputs": [
    {
     "data": {
      "text/plain": [
       "'20=02=120-=-2110-0=1'"
      ]
     },
     "execution_count": 3,
     "metadata": {},
     "output_type": "execute_result"
    }
   ],
   "source": [
    "fuel_sum = 0\n",
    "with open('day_25_input.txt') as file:\n",
    "    while line:= file.readline().rstrip():\n",
    "        fuel_sum += int(str_snafu_to_deci(line))\n",
    "str_deci_to_snafu(str(fuel_sum))"
   ]
  }
 ],
 "metadata": {
  "kernelspec": {
   "display_name": ".venv",
   "language": "python",
   "name": "python3"
  },
  "language_info": {
   "codemirror_mode": {
    "name": "ipython",
    "version": 3
   },
   "file_extension": ".py",
   "mimetype": "text/x-python",
   "name": "python",
   "nbconvert_exporter": "python",
   "pygments_lexer": "ipython3",
   "version": "3.10.6"
  },
  "vscode": {
   "interpreter": {
    "hash": "999d0a6b33d8aa5ec08e32eb9e096634778f2965cf79c01565a88954badb0f49"
   }
  }
 },
 "nbformat": 4,
 "nbformat_minor": 5
}
