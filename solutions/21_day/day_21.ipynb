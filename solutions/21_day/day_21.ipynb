{
 "cells": [
  {
   "cell_type": "code",
   "execution_count": 1,
   "id": "fc8b4477",
   "metadata": {},
   "outputs": [],
   "source": [
    "refers = dict()\n",
    "referred = dict()\n",
    "with open('day_21_input.txt') as file:\n",
    "    while line := file.readline().rstrip():\n",
    "        out = line.split()\n",
    "        refers[out[0][:-1]] = out[1:]\n",
    "        if len(out) > 2:\n",
    "            referred[out[1]] = [out[0][:-1]] if out[1] not in referred else referred[out[1]] + [out[0][:-1]]\n",
    "            referred[out[3]] = [out[0][:-1]] if out[3] not in referred else referred[out[3]] + [out[0][:-1]]"
   ]
  },
  {
   "cell_type": "markdown",
   "id": "8631a89e",
   "metadata": {},
   "source": [
    "#### Task 1"
   ]
  },
  {
   "cell_type": "code",
   "execution_count": 2,
   "id": "72bf8e7e",
   "metadata": {},
   "outputs": [],
   "source": [
    "def resolve(file_name):\n",
    "    if len(refers[file_name]) == 1:\n",
    "        return int(refers[file_name][0])\n",
    "    else:\n",
    "        op = refers[file_name][1]\n",
    "        if op == '+':\n",
    "            return resolve(refers[file_name][0]) + resolve(refers[file_name][2])\n",
    "        elif op == '-':\n",
    "            return resolve(refers[file_name][0]) - resolve(refers[file_name][2])\n",
    "        elif op == '*':\n",
    "            return resolve(refers[file_name][0]) * resolve(refers[file_name][2])\n",
    "        elif op == '/':\n",
    "            return resolve(refers[file_name][0]) / resolve(refers[file_name][2])"
   ]
  },
  {
   "cell_type": "code",
   "execution_count": 3,
   "id": "a019cf23",
   "metadata": {},
   "outputs": [
    {
     "data": {
      "text/plain": [
       "157714751182692.0"
      ]
     },
     "execution_count": 3,
     "metadata": {},
     "output_type": "execute_result"
    }
   ],
   "source": [
    "# Task 1\n",
    "resolve('root')"
   ]
  },
  {
   "cell_type": "markdown",
   "id": "f355af46",
   "metadata": {},
   "source": [
    "#### Task 2"
   ]
  },
  {
   "cell_type": "code",
   "execution_count": 4,
   "id": "ff92dd75",
   "metadata": {},
   "outputs": [],
   "source": [
    "# Checking if the monkeys are referred to by just one another monkey:\n",
    "for key in referred:\n",
    "    assert len(referred[key]) == 1"
   ]
  },
  {
   "cell_type": "code",
   "execution_count": 5,
   "id": "5a60f4d6",
   "metadata": {},
   "outputs": [
    {
     "data": {
      "text/plain": [
       "['rjmz', '+', 'nfct']"
      ]
     },
     "execution_count": 5,
     "metadata": {},
     "output_type": "execute_result"
    }
   ],
   "source": [
    "# Checking which monkeys the root is dependent on:\n",
    "refers['root']"
   ]
  },
  {
   "cell_type": "code",
   "execution_count": 6,
   "id": "2b80607b",
   "metadata": {},
   "outputs": [
    {
     "data": {
      "text/plain": [
       "'rjmz'"
      ]
     },
     "execution_count": 6,
     "metadata": {},
     "output_type": "execute_result"
    }
   ],
   "source": [
    "# Establishing in which path the human is involved\n",
    "path_to_root = ['humn']\n",
    "cur_name = 'humn'\n",
    "while cur_name != 'root':\n",
    "    cur_name = referred[cur_name][0]\n",
    "    path_to_root.append(cur_name)\n",
    "path_to_root[-2]"
   ]
  },
  {
   "cell_type": "code",
   "execution_count": 7,
   "id": "44acbead",
   "metadata": {},
   "outputs": [],
   "source": [
    "# Check if the the path root -> human is valid\n",
    "for i in range(len(path_to_root) - 1):\n",
    "    assert (refers[path_to_root[len(path_to_root) - 1 - i]][0] == path_to_root[len(path_to_root) - 2 - i] or\n",
    "            refers[path_to_root[len(path_to_root) - 1 - i]][2] == path_to_root[len(path_to_root) - 2 - i])"
   ]
  },
  {
   "cell_type": "code",
   "execution_count": 8,
   "id": "5415c2a0",
   "metadata": {},
   "outputs": [
    {
     "data": {
      "text/plain": [
       "51928434600306.0"
      ]
     },
     "execution_count": 8,
     "metadata": {},
     "output_type": "execute_result"
    }
   ],
   "source": [
    "# Establishing the necessary value to product with the human input\n",
    "need_value = resolve('nfct')\n",
    "need_value"
   ]
  },
  {
   "cell_type": "code",
   "execution_count": 9,
   "id": "dc29a05a",
   "metadata": {},
   "outputs": [],
   "source": [
    "cur_value = need_value\n",
    "path_to_human = list(reversed(path_to_root[:-1]))\n",
    "for i, file_name in enumerate(path_to_human[:-1]):\n",
    "    file_a = refers[file_name][0]\n",
    "    op = refers[file_name][1]\n",
    "    file_b = refers[file_name][2]\n",
    "    if file_a == path_to_human[i + 1]:\n",
    "        if op == '+':\n",
    "            cur_value -= resolve(file_b)\n",
    "        elif op == '-':\n",
    "            cur_value += resolve(file_b)\n",
    "        elif op == '*':\n",
    "            cur_value /= resolve(file_b)\n",
    "        elif op == '/':\n",
    "            cur_value *= resolve(file_b)\n",
    "    elif file_b == path_to_human[i + 1]:\n",
    "        if op == '+':\n",
    "            cur_value -= resolve(file_a)\n",
    "        elif op == '-':\n",
    "            cur_value = resolve(file_a) - cur_value\n",
    "        elif op == '*':\n",
    "            cur_value /= resolve(file_a)\n",
    "        elif op == '/':\n",
    "            cur_value = resolve(file_a) / cur_value"
   ]
  },
  {
   "cell_type": "code",
   "execution_count": 10,
   "id": "672f78ea",
   "metadata": {},
   "outputs": [
    {
     "data": {
      "text/plain": [
       "3373767893067.0"
      ]
     },
     "execution_count": 10,
     "metadata": {},
     "output_type": "execute_result"
    }
   ],
   "source": [
    "# Task 2\n",
    "cur_value"
   ]
  }
 ],
 "metadata": {
  "kernelspec": {
   "display_name": ".venv",
   "language": "python",
   "name": "python3"
  },
  "language_info": {
   "codemirror_mode": {
    "name": "ipython",
    "version": 3
   },
   "file_extension": ".py",
   "mimetype": "text/x-python",
   "name": "python",
   "nbconvert_exporter": "python",
   "pygments_lexer": "ipython3",
   "version": "3.10.6"
  },
  "vscode": {
   "interpreter": {
    "hash": "999d0a6b33d8aa5ec08e32eb9e096634778f2965cf79c01565a88954badb0f49"
   }
  }
 },
 "nbformat": 4,
 "nbformat_minor": 5
}
