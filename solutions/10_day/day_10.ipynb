{
 "cells": [
  {
   "attachments": {},
   "cell_type": "markdown",
   "id": "3c6cedd2",
   "metadata": {},
   "source": [
    "# --- Day 10: Cathode-Ray Tube ---\n",
    "\n",
    "[Puzzle Description](https://adventofcode.com/2022/day/10)"
   ]
  },
  {
   "cell_type": "code",
   "execution_count": 2,
   "id": "1c5dcd1c",
   "metadata": {},
   "outputs": [
    {
     "name": "stdout",
     "output_type": "stream",
     "text": [
      "Part One: 12980\n",
      "Part Two:\n",
      "###..###....##.#....####.#..#.#....###..\n",
      "#..#.#..#....#.#....#....#..#.#....#..#.\n",
      "###..#..#....#.#....###..#..#.#....#..#.\n",
      "#..#.###.....#.#....#....#..#.#....###..\n",
      "#..#.#.#..#..#.#....#....#..#.#....#....\n",
      "###..#..#..##..####.#.....##..####.#....\n"
     ]
    }
   ],
   "source": [
    "counter = 0\n",
    "X = 1\n",
    "signal_sum = 0\n",
    "drawing = [[\".\"] * 40 for i in range(6)]\n",
    "with open(\"day_10_input.txt\") as file:\n",
    "    while line := file.readline().rstrip():\n",
    "        inp = line.split()\n",
    "        for i in range(1 if inp[0] == \"noop\" else 2):\n",
    "            px_x, px_y = counter % 40, counter // 40\n",
    "            if abs(px_x - X) <= 1:\n",
    "                drawing[px_y][px_x] = \"#\"\n",
    "            counter += 1\n",
    "            if (counter + 20) % 40 == 0:\n",
    "                signal_sum += X * counter\n",
    "        X += int(0 if inp[0] == \"noop\" else inp[1])\n",
    "\n",
    "print(f\"Part One: {signal_sum}\")\n",
    "print(\"Part Two:\")\n",
    "for i in range(6):\n",
    "    print(\"\".join(drawing[i]))\n",
    "# print(\"BRJLFULP\")"
   ]
  }
 ],
 "metadata": {
  "kernelspec": {
   "display_name": ".venv",
   "language": "python",
   "name": "python3"
  },
  "language_info": {
   "codemirror_mode": {
    "name": "ipython",
    "version": 3
   },
   "file_extension": ".py",
   "mimetype": "text/x-python",
   "name": "python",
   "nbconvert_exporter": "python",
   "pygments_lexer": "ipython3",
   "version": "3.10.6"
  },
  "vscode": {
   "interpreter": {
    "hash": "999d0a6b33d8aa5ec08e32eb9e096634778f2965cf79c01565a88954badb0f49"
   }
  }
 },
 "nbformat": 4,
 "nbformat_minor": 5
}
