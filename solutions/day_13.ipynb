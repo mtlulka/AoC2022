{
 "cells": [
  {
   "cell_type": "code",
   "execution_count": 1,
   "id": "871ad995",
   "metadata": {},
   "outputs": [],
   "source": [
    "def compare(left, right):\n",
    "    l_is_int, r_is_int = isinstance(left, int), isinstance(right, int)\n",
    "    if l_is_int and r_is_int:\n",
    "        return (left < right) - (right < left)\n",
    "    if not l_is_int and not r_is_int:\n",
    "        if len(left) == 0:\n",
    "            if len(right) == 0:\n",
    "                return 0\n",
    "            else:\n",
    "                return 1\n",
    "        elif len(right) == 0:\n",
    "            return -1\n",
    "        item_comp = compare(left[0], right[0])\n",
    "        return item_comp if item_comp != 0 else compare(left[1:], right[1:])\n",
    "    if not l_is_int and r_is_int:\n",
    "        return compare(left, [right])\n",
    "    if l_is_int and not r_is_int:\n",
    "        return compare([left], right)"
   ]
  },
  {
   "cell_type": "code",
   "execution_count": 2,
   "id": "b867ff29",
   "metadata": {},
   "outputs": [
    {
     "data": {
      "text/plain": [
       "150"
      ]
     },
     "execution_count": 2,
     "metadata": {},
     "output_type": "execute_result"
    }
   ],
   "source": [
    "from ast import literal_eval\n",
    "comparisons = list()\n",
    "packets = list()\n",
    "with open('day_13_input.txt') as file:\n",
    "    i = 0\n",
    "    while line := file.readline().rstrip():\n",
    "        left = literal_eval(line)\n",
    "        right = literal_eval(line:=file.readline().rstrip())\n",
    "        packets.append(left)\n",
    "        packets.append(right)\n",
    "        comparisons.append(compare(left, right))\n",
    "        line = file.readline().rstrip()\n",
    "        i += 1\n",
    "i"
   ]
  },
  {
   "cell_type": "code",
   "execution_count": 3,
   "id": "92d4c6a3",
   "metadata": {},
   "outputs": [
    {
     "data": {
      "text/plain": [
       "5350"
      ]
     },
     "execution_count": 3,
     "metadata": {},
     "output_type": "execute_result"
    }
   ],
   "source": [
    "# Task 1\n",
    "sum([i + 1 for i in range(len(comparisons)) if comparisons[i] > 0])"
   ]
  },
  {
   "cell_type": "code",
   "execution_count": 4,
   "id": "66b2b6a6",
   "metadata": {},
   "outputs": [
    {
     "data": {
      "text/plain": [
       "19570"
      ]
     },
     "execution_count": 4,
     "metadata": {},
     "output_type": "execute_result"
    }
   ],
   "source": [
    "# Task 2\n",
    "from functools import cmp_to_key\n",
    "ordered_packets = sorted(packets + [[[2]]] + [[[6]]], key=cmp_to_key(compare), reverse=True)\n",
    "(ordered_packets.index([[2]]) + 1) * (ordered_packets.index([[6]]) + 1)"
   ]
  }
 ],
 "metadata": {
  "kernelspec": {
   "display_name": "Python 3 (ipykernel)",
   "language": "python",
   "name": "python3"
  },
  "language_info": {
   "codemirror_mode": {
    "name": "ipython",
    "version": 3
   },
   "file_extension": ".py",
   "mimetype": "text/x-python",
   "name": "python",
   "nbconvert_exporter": "python",
   "pygments_lexer": "ipython3",
   "version": "3.9.10"
  }
 },
 "nbformat": 4,
 "nbformat_minor": 5
}
