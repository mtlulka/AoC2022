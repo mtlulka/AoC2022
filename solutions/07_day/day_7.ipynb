{
 "cells": [
  {
   "cell_type": "code",
   "execution_count": 1,
   "id": "2102ab4a",
   "metadata": {},
   "outputs": [],
   "source": [
    "from abc import ABCMeta, abstractmethod\n",
    "from functools import reduce\n",
    "\n",
    "\n",
    "class Node(metaclass=ABCMeta):\n",
    "    def __init__(self, name, parent=None):\n",
    "        self.name = name\n",
    "        self.parent = parent\n",
    "\n",
    "    @property\n",
    "    @abstractmethod\n",
    "    def size(self):\n",
    "        pass\n",
    "\n",
    "\n",
    "class Dir(Node):\n",
    "    def __init__(self, name, parent=None):\n",
    "        super().__init__(name, parent)\n",
    "        self.sub_dirs = {}\n",
    "        self.files = {}\n",
    "\n",
    "    @property\n",
    "    def size(self):\n",
    "        return reduce(\n",
    "            lambda r, child_name: r + self.sub_dirs[child_name].size,\n",
    "            self.sub_dirs.keys(),\n",
    "            0,\n",
    "        ) + reduce(\n",
    "            lambda r, child_name: r + self.files[child_name].size, self.files.keys(), 0\n",
    "        )\n",
    "\n",
    "\n",
    "class File(Node):\n",
    "    def __init__(self, name, parent=None, file_size=0):\n",
    "        super().__init__(name, parent)\n",
    "        self._file_size = file_size\n",
    "\n",
    "    @property\n",
    "    def size(self):\n",
    "        return self._file_size"
   ]
  },
  {
   "cell_type": "code",
   "execution_count": 2,
   "id": "2f562861",
   "metadata": {},
   "outputs": [],
   "source": [
    "root = None\n",
    "cur_dir = None\n",
    "dir_list = []\n",
    "with open(\"day_7_input.txt\") as file:\n",
    "    while line := file.readline().rstrip():\n",
    "        if line == \"$ cd /\":\n",
    "            if root is None:\n",
    "                root = Dir(\"/\")\n",
    "                dir_list.append(root)\n",
    "            cur_dir = root\n",
    "        elif line == \"$ cd ..\":\n",
    "            cur_dir = cur_dir.parent\n",
    "        elif len(line) >= 4 and line[:4] == \"$ cd\":\n",
    "            cur_dir = cur_dir.sub_dirs[line.split(\"cd \")[-1]]\n",
    "        elif line == \"$ ls\":\n",
    "            continue\n",
    "        else:\n",
    "            inp = line.split()\n",
    "            new_name = inp[1]\n",
    "            if inp[0] == \"dir\":\n",
    "                cur_dir.sub_dirs[new_name] = Dir(new_name, cur_dir)\n",
    "                dir_list.append(cur_dir.sub_dirs[new_name])\n",
    "            else:\n",
    "                cur_dir.files[new_name] = File(new_name, cur_dir, int(inp[0]))"
   ]
  },
  {
   "cell_type": "code",
   "execution_count": 3,
   "id": "6b84a961",
   "metadata": {},
   "outputs": [
    {
     "data": {
      "text/plain": [
       "1306611"
      ]
     },
     "execution_count": 3,
     "metadata": {},
     "output_type": "execute_result"
    }
   ],
   "source": [
    "sum([tree_dir.size for tree_dir in dir_list if tree_dir.size <= 100000])"
   ]
  },
  {
   "cell_type": "code",
   "execution_count": 4,
   "id": "41a662bd",
   "metadata": {},
   "outputs": [
    {
     "data": {
      "text/plain": [
       "13210366"
      ]
     },
     "execution_count": 4,
     "metadata": {},
     "output_type": "execute_result"
    }
   ],
   "source": [
    "root_size = root.size\n",
    "min([tree_dir.size for tree_dir in dir_list if root_size - tree_dir.size <= 40000000])"
   ]
  }
 ],
 "metadata": {
  "kernelspec": {
   "display_name": ".venv",
   "language": "python",
   "name": "python3"
  },
  "language_info": {
   "codemirror_mode": {
    "name": "ipython",
    "version": 3
   },
   "file_extension": ".py",
   "mimetype": "text/x-python",
   "name": "python",
   "nbconvert_exporter": "python",
   "pygments_lexer": "ipython3",
   "version": "3.10.6"
  },
  "vscode": {
   "interpreter": {
    "hash": "999d0a6b33d8aa5ec08e32eb9e096634778f2965cf79c01565a88954badb0f49"
   }
  }
 },
 "nbformat": 4,
 "nbformat_minor": 5
}
