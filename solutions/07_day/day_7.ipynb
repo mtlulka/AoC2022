{
 "cells": [
  {
   "attachments": {},
   "cell_type": "markdown",
   "id": "679daf95",
   "metadata": {},
   "source": [
    "# --- Day 7: No Space Left On Device ---\n",
    "\n",
    "[Puzzle Description](https://adventofcode.com/2022/day/7)"
   ]
  },
  {
   "cell_type": "code",
   "execution_count": 1,
   "id": "782b0608",
   "metadata": {},
   "outputs": [],
   "source": [
    "from abc import ABCMeta, abstractmethod\n",
    "from functools import reduce"
   ]
  },
  {
   "cell_type": "code",
   "execution_count": 2,
   "id": "2102ab4a",
   "metadata": {},
   "outputs": [],
   "source": [
    "class Node(metaclass=ABCMeta):\n",
    "    def __init__(self, name, parent=None):\n",
    "        self.name = name\n",
    "        self.parent = parent\n",
    "\n",
    "    @property\n",
    "    @abstractmethod\n",
    "    def size(self):\n",
    "        pass\n",
    "\n",
    "\n",
    "class Dir(Node):\n",
    "    def __init__(self, name, parent=None):\n",
    "        super().__init__(name, parent)\n",
    "        self.sub_dirs = {}\n",
    "        self.files = {}\n",
    "\n",
    "    @property\n",
    "    def size(self):\n",
    "        return reduce(\n",
    "            lambda r, child_name: r + self.sub_dirs[child_name].size,\n",
    "            self.sub_dirs.keys(),\n",
    "            0,\n",
    "        ) + reduce(\n",
    "            lambda r, child_name: r + self.files[child_name].size, self.files.keys(), 0\n",
    "        )\n",
    "\n",
    "\n",
    "class File(Node):\n",
    "    def __init__(self, name, parent=None, file_size=0):\n",
    "        super().__init__(name, parent)\n",
    "        self._file_size = file_size\n",
    "\n",
    "    @property\n",
    "    def size(self):\n",
    "        return self._file_size"
   ]
  },
  {
   "cell_type": "code",
   "execution_count": 3,
   "id": "2f562861",
   "metadata": {},
   "outputs": [
    {
     "name": "stdout",
     "output_type": "stream",
     "text": [
      "Part One: 1306611\n",
      "Part Two: 13210366\n"
     ]
    }
   ],
   "source": [
    "root = None\n",
    "cur_dir = None\n",
    "dir_list = []\n",
    "with open(\"day_7_input.txt\") as file:\n",
    "    while line := file.readline().rstrip():\n",
    "        if line == \"$ cd /\":\n",
    "            if root is None:\n",
    "                root = Dir(\"/\")\n",
    "                dir_list.append(root)\n",
    "            cur_dir = root\n",
    "        elif line == \"$ cd ..\":\n",
    "            cur_dir = cur_dir.parent\n",
    "        elif len(line) >= 4 and line[:4] == \"$ cd\":\n",
    "            cur_dir = cur_dir.sub_dirs[line.split(\"cd \")[-1]]\n",
    "        elif line == \"$ ls\":\n",
    "            continue\n",
    "        else:\n",
    "            inp = line.split()\n",
    "            new_name = inp[1]\n",
    "            if inp[0] == \"dir\":\n",
    "                cur_dir.sub_dirs[new_name] = Dir(new_name, cur_dir)\n",
    "                dir_list.append(cur_dir.sub_dirs[new_name])\n",
    "            else:\n",
    "                cur_dir.files[new_name] = File(new_name, cur_dir, int(inp[0]))\n",
    "\n",
    "part_1_ans = sum([tree_dir.size for tree_dir in dir_list if tree_dir.size <= 100000])\n",
    "part_2_ans = min(\n",
    "    [tree_dir.size for tree_dir in dir_list if root.size - tree_dir.size <= 40000000]\n",
    ")\n",
    "\n",
    "print(f\"Part One: {part_1_ans}\")\n",
    "print(f\"Part Two: {part_2_ans}\")"
   ]
  }
 ],
 "metadata": {
  "kernelspec": {
   "display_name": ".venv",
   "language": "python",
   "name": "python3"
  },
  "language_info": {
   "codemirror_mode": {
    "name": "ipython",
    "version": 3
   },
   "file_extension": ".py",
   "mimetype": "text/x-python",
   "name": "python",
   "nbconvert_exporter": "python",
   "pygments_lexer": "ipython3",
   "version": "3.10.6"
  },
  "vscode": {
   "interpreter": {
    "hash": "999d0a6b33d8aa5ec08e32eb9e096634778f2965cf79c01565a88954badb0f49"
   }
  }
 },
 "nbformat": 4,
 "nbformat_minor": 5
}
