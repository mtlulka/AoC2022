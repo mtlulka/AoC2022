{
 "cells": [
  {
   "attachments": {},
   "cell_type": "markdown",
   "id": "bedf500b",
   "metadata": {},
   "source": [
    "# --- Day 9: Rope Bridge ---\n",
    "\n",
    "[Puzzle Description](https://adventofcode.com/2022/day/9)"
   ]
  },
  {
   "cell_type": "code",
   "execution_count": 2,
   "id": "71321930",
   "metadata": {},
   "outputs": [],
   "source": [
    "import numpy as np"
   ]
  },
  {
   "cell_type": "code",
   "execution_count": 3,
   "id": "4a6e4fb0",
   "metadata": {},
   "outputs": [
    {
     "name": "stdout",
     "output_type": "stream",
     "text": [
      "Part One: 6023\n",
      "Part Two: 2533\n"
     ]
    }
   ],
   "source": [
    "rope_grid = np.array([[[1, 1]]])\n",
    "knot_pos = np.zeros((10, 2))\n",
    "\n",
    "with open(\"day_9_input.txt\") as file:\n",
    "    while line := file.readline().rstrip():\n",
    "        direction, length = line.split()\n",
    "        length = int(length)\n",
    "        for k in range(length):\n",
    "            if direction == \"U\":\n",
    "                if knot_pos[0, 0] == 0:\n",
    "                    rope_grid = np.append(\n",
    "                        np.zeros((1, rope_grid.shape[1], 2)), rope_grid, axis=0\n",
    "                    )\n",
    "                    knot_pos[:, 0] += 1\n",
    "                knot_pos[0, 0] -= 1\n",
    "            elif direction == \"R\":\n",
    "                if knot_pos[0, 1] == rope_grid.shape[1] - 1:\n",
    "                    rope_grid = np.append(\n",
    "                        rope_grid, np.zeros((rope_grid.shape[0], 1, 2)), axis=1\n",
    "                    )\n",
    "                knot_pos[0, 1] += 1\n",
    "            elif direction == \"D\":\n",
    "                if knot_pos[0, 0] == rope_grid.shape[0] - 1:\n",
    "                    rope_grid = np.append(\n",
    "                        rope_grid, np.zeros((1, rope_grid.shape[1], 2)), axis=0\n",
    "                    )\n",
    "                knot_pos[0, 0] += 1\n",
    "            elif direction == \"L\":\n",
    "                if knot_pos[0, 1] == 0:\n",
    "                    rope_grid = np.append(\n",
    "                        np.zeros((rope_grid.shape[0], 1, 2)), rope_grid, axis=1\n",
    "                    )\n",
    "                    knot_pos[:, 1] += 1\n",
    "                knot_pos[0, 1] -= 1\n",
    "            for i in range(1, 10):\n",
    "                if np.abs(knot_pos[i, :] - knot_pos[i - 1, :]).max() == 2:\n",
    "                    knot_pos[i, :] += np.sign(knot_pos[i - 1, :] - knot_pos[i, :])\n",
    "                    if i == 1:\n",
    "                        rope_grid[tuple(list(knot_pos[i, :].astype(int)) + [0])] += 1\n",
    "                    if i == 9:\n",
    "                        rope_grid[tuple(list(knot_pos[i, :].astype(int)) + [1])] += 1\n",
    "\n",
    "part_1_ans = (rope_grid[:, :, 0] > 0).sum()\n",
    "part_2_ans = (rope_grid[:, :, 1] > 0).sum()\n",
    "\n",
    "print(f\"Part One: {part_1_ans}\")\n",
    "print(f\"Part Two: {part_2_ans}\")"
   ]
  }
 ],
 "metadata": {
  "kernelspec": {
   "display_name": ".venv",
   "language": "python",
   "name": "python3"
  },
  "language_info": {
   "codemirror_mode": {
    "name": "ipython",
    "version": 3
   },
   "file_extension": ".py",
   "mimetype": "text/x-python",
   "name": "python",
   "nbconvert_exporter": "python",
   "pygments_lexer": "ipython3",
   "version": "3.10.6"
  },
  "vscode": {
   "interpreter": {
    "hash": "999d0a6b33d8aa5ec08e32eb9e096634778f2965cf79c01565a88954badb0f49"
   }
  }
 },
 "nbformat": 4,
 "nbformat_minor": 5
}
