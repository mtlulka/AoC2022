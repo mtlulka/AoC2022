{
 "cells": [
  {
   "attachments": {},
   "cell_type": "markdown",
   "id": "6ad38c6f",
   "metadata": {},
   "source": [
    "# --- Day 24: Blizzard Basin ---\n",
    "\n",
    "[Puzzle Description](https://adventofcode.com/2022/day/24)"
   ]
  },
  {
   "cell_type": "code",
   "execution_count": 1,
   "id": "7b89e1d1",
   "metadata": {},
   "outputs": [],
   "source": [
    "import numpy as np\n",
    "from functools import cache"
   ]
  },
  {
   "cell_type": "markdown",
   "id": "59e89b01",
   "metadata": {},
   "source": [
    "Important assumptions/information about the input:\n",
    "* There are no vertical blizzards in the columns containing the start and the finish positions.\n",
    "* The start position is at [0, 1] and the end position is at [-1, -2]."
   ]
  },
  {
   "cell_type": "code",
   "execution_count": 2,
   "id": "44726781",
   "metadata": {},
   "outputs": [
    {
     "data": {
      "text/plain": [
       "array([[[0, 0, 1, 0],\n",
       "        [0, 0, 1, 0],\n",
       "        [0, 0, 1, 0],\n",
       "        ...,\n",
       "        [0, 0, 0, 1],\n",
       "        [0, 1, 0, 0],\n",
       "        [0, 0, 1, 0]],\n",
       "\n",
       "       [[1, 0, 0, 0],\n",
       "        [1, 0, 0, 0],\n",
       "        [0, 0, 1, 0],\n",
       "        ...,\n",
       "        [0, 0, 0, 0],\n",
       "        [0, 0, 1, 0],\n",
       "        [0, 0, 1, 0]],\n",
       "\n",
       "       [[1, 0, 0, 0],\n",
       "        [1, 0, 0, 0],\n",
       "        [0, 1, 0, 0],\n",
       "        ...,\n",
       "        [1, 0, 0, 0],\n",
       "        [0, 1, 0, 0],\n",
       "        [1, 0, 0, 0]],\n",
       "\n",
       "       ...,\n",
       "\n",
       "       [[0, 0, 0, 0],\n",
       "        [1, 0, 0, 0],\n",
       "        [0, 0, 0, 0],\n",
       "        ...,\n",
       "        [0, 0, 0, 1],\n",
       "        [0, 1, 0, 0],\n",
       "        [0, 0, 1, 0]],\n",
       "\n",
       "       [[0, 0, 1, 0],\n",
       "        [1, 0, 0, 0],\n",
       "        [1, 0, 0, 0],\n",
       "        ...,\n",
       "        [0, 0, 1, 0],\n",
       "        [0, 0, 1, 0],\n",
       "        [1, 0, 0, 0]],\n",
       "\n",
       "       [[0, 0, 1, 0],\n",
       "        [0, 0, 1, 0],\n",
       "        [0, 0, 0, 1],\n",
       "        ...,\n",
       "        [0, 1, 0, 0],\n",
       "        [0, 0, 1, 0],\n",
       "        [0, 0, 0, 0]]])"
      ]
     },
     "execution_count": 2,
     "metadata": {},
     "output_type": "execute_result"
    }
   ],
   "source": [
    "blizzards = list()\n",
    "with open(\"day_24_input.txt\") as file:\n",
    "    while line := file.readline().rstrip():\n",
    "        blizzards.append(\n",
    "            [\n",
    "                [1 if c == \">\" else 0 for c in line],\n",
    "                [1 if c == \"v\" else 0 for c in line],\n",
    "                [1 if c == \"<\" else 0 for c in line],\n",
    "                [1 if c == \"^\" else 0 for c in line],\n",
    "            ]\n",
    "        )\n",
    "# reorganise the blizzard information\n",
    "blizzards = np.array(blizzards)\n",
    "blizzards = np.moveaxis(blizzards, 1, -1)\n",
    "blizzards = blizzards[1:-1, 1:-1, :]\n",
    "blizzards"
   ]
  },
  {
   "cell_type": "code",
   "execution_count": 3,
   "id": "d4f94462",
   "metadata": {},
   "outputs": [],
   "source": [
    "@cache\n",
    "def get_blizzards(i, j, time):\n",
    "    result = sum(\n",
    "        [\n",
    "            blizzards[i, (j - time) % blizzards.shape[1], 0],\n",
    "            blizzards[(i - time) % blizzards.shape[0], j, 1],\n",
    "            blizzards[i, (j + time) % blizzards.shape[1], 2],\n",
    "            blizzards[(i + time) % blizzards.shape[0], j, 3],\n",
    "        ]\n",
    "    )\n",
    "    return result"
   ]
  },
  {
   "attachments": {},
   "cell_type": "markdown",
   "id": "80e0b9be",
   "metadata": {},
   "source": [
    "## Part One"
   ]
  },
  {
   "cell_type": "code",
   "execution_count": 4,
   "id": "e92a4741",
   "metadata": {},
   "outputs": [],
   "source": [
    "# Storing the information for the BFS\n",
    "cycle_length = blizzards.shape[0] * blizzards.shape[1]\n",
    "seen = np.zeros((blizzards.shape[0], blizzards.shape[1], cycle_length))\n",
    "seen_start = np.zeros(cycle_length)"
   ]
  },
  {
   "cell_type": "code",
   "execution_count": 5,
   "id": "65305ff3",
   "metadata": {},
   "outputs": [
    {
     "name": "stdout",
     "output_type": "stream",
     "text": [
      "Part One: 242\n"
     ]
    }
   ],
   "source": [
    "queue = [(-1, 0, 0)]\n",
    "seen_start[0] = 1\n",
    "while queue:\n",
    "    # Get the next configuration in queue:\n",
    "    config = queue.pop(0)\n",
    "    cur_y, cur_x, t = config[0], config[1], config[2]\n",
    "\n",
    "    # Special info for the start\n",
    "    if cur_y < 0:\n",
    "        # Consider not moving\n",
    "        if not seen_start[(t + 1) % cycle_length]:\n",
    "            queue.append((cur_y, cur_x, t + 1))\n",
    "            seen_start[(t + 1) % cycle_length] = 1\n",
    "        # Consider moving out\n",
    "        if (\n",
    "            not seen[cur_y + 1, cur_x, (t + 1) % cycle_length]\n",
    "            and get_blizzards(cur_y + 1, cur_x, (t + 1) % cycle_length) == 0\n",
    "        ):\n",
    "            queue.append((cur_y + 1, cur_x, t + 1))\n",
    "            seen[cur_y + 1, cur_x, (t + 1) % cycle_length] = 1\n",
    "        continue\n",
    "\n",
    "    # If the finish is within reach, stop exploring!\n",
    "    if cur_y == blizzards.shape[0] - 1 and cur_x == blizzards.shape[1] - 1:\n",
    "        print(f\"Part One: {t + 1}\")\n",
    "        break\n",
    "\n",
    "    # Stay put if possible:\n",
    "    if (\n",
    "        seen[cur_y, cur_x, (t + 1) % cycle_length] == 0\n",
    "        and get_blizzards(cur_y, cur_x, (t + 1) % cycle_length) == 0\n",
    "    ):\n",
    "        queue.append((cur_y, cur_x, t + 1))\n",
    "        seen[cur_y, cur_x, (t + 1) % cycle_length] = 1\n",
    "\n",
    "    # Explore right if possible:\n",
    "    if (\n",
    "        cur_x < blizzards.shape[1] - 1\n",
    "        and seen[cur_y, cur_x + 1, (t + 1) % cycle_length] == 0\n",
    "        and get_blizzards(cur_y, cur_x + 1, (t + 1) % cycle_length) == 0\n",
    "    ):\n",
    "        queue.append((cur_y, cur_x + 1, t + 1))\n",
    "        seen[cur_y, cur_x + 1, (t + 1) % cycle_length] = 1\n",
    "\n",
    "    # Explore down if possible:\n",
    "    if (\n",
    "        cur_y < blizzards.shape[0] - 1\n",
    "        and seen[cur_y + 1, cur_x, (t + 1) % cycle_length] == 0\n",
    "        and get_blizzards(cur_y + 1, cur_x, (t + 1) % cycle_length) == 0\n",
    "    ):\n",
    "        queue.append((cur_y + 1, cur_x, t + 1))\n",
    "        seen[cur_y + 1, cur_x, (t + 1) % cycle_length] = 1\n",
    "\n",
    "    # Explore left if possible:\n",
    "    if (\n",
    "        cur_x > 0\n",
    "        and seen[cur_y, cur_x - 1, (t + 1) % cycle_length] == 0\n",
    "        and get_blizzards(cur_y, cur_x - 1, (t + 1) % cycle_length) == 0\n",
    "    ):\n",
    "        queue.append((cur_y, cur_x - 1, t + 1))\n",
    "        seen[cur_y, cur_x - 1, (t + 1) % cycle_length] = 1\n",
    "\n",
    "    # Explore up if possible\n",
    "    if (\n",
    "        cur_y > 0\n",
    "        and seen[cur_y - 1, cur_x, (t + 1) % cycle_length] == 0\n",
    "        and get_blizzards(cur_y - 1, cur_x, (t + 1) % cycle_length) == 0\n",
    "    ):\n",
    "        queue.append((cur_y - 1, cur_x, t + 1))\n",
    "        seen[cur_y - 1, cur_x, (t + 1) % cycle_length] = 1"
   ]
  },
  {
   "attachments": {},
   "cell_type": "markdown",
   "id": "6100b4dc",
   "metadata": {},
   "source": [
    "## Part Two"
   ]
  },
  {
   "attachments": {},
   "cell_type": "markdown",
   "id": "bde539fe",
   "metadata": {},
   "source": [
    " Lazy on the Christmas Eve, the solution is to repeat *Part One* twice more!"
   ]
  },
  {
   "cell_type": "markdown",
   "id": "2a5a3e8e",
   "metadata": {},
   "source": [
    "*Moving back to the start:*"
   ]
  },
  {
   "cell_type": "code",
   "execution_count": 6,
   "id": "863950b2",
   "metadata": {},
   "outputs": [
    {
     "name": "stdout",
     "output_type": "stream",
     "text": [
      "Time back at the start: 478\n"
     ]
    }
   ],
   "source": [
    "# Resetting the information for the BFS\n",
    "seen = np.zeros((blizzards.shape[0], blizzards.shape[1], cycle_length))\n",
    "seen_finish = np.zeros(cycle_length)\n",
    "\n",
    "# Starting at the end at result time t + 1 from Task 1:\n",
    "queue = [(blizzards.shape[0], blizzards.shape[1] - 1, t + 1)]\n",
    "seen_finish[t + 1] = 1\n",
    "while queue:\n",
    "    # Get the next configuration in queue:\n",
    "    config = queue.pop(0)\n",
    "    cur_y, cur_x, t = config[0], config[1], config[2]\n",
    "\n",
    "    # Special info for the start\n",
    "    if cur_y > blizzards.shape[0] - 1:\n",
    "        # Consider not moving\n",
    "        if not seen_finish[(t + 1) % cycle_length]:\n",
    "            queue.append((cur_y, cur_x, t + 1))\n",
    "            seen_finish[(t + 1) % cycle_length] = 1\n",
    "        # Consider moving out\n",
    "        if (\n",
    "            not seen[cur_y - 1, cur_x, (t + 1) % cycle_length]\n",
    "            and get_blizzards(cur_y - 1, cur_x, (t + 1) % cycle_length) == 0\n",
    "        ):\n",
    "            queue.append((cur_y - 1, cur_x, t + 1))\n",
    "            seen[cur_y - 1, cur_x, (t + 1) % cycle_length] = 1\n",
    "        continue\n",
    "\n",
    "    # If the start is within reach, stop exploring!\n",
    "    if cur_y == 0 and cur_x == 0:\n",
    "        print(f\"Time back at the start: {t + 1}\")\n",
    "        break\n",
    "\n",
    "    # Stay put if possible:\n",
    "    if (\n",
    "        seen[cur_y, cur_x, (t + 1) % cycle_length] == 0\n",
    "        and get_blizzards(cur_y, cur_x, (t + 1) % cycle_length) == 0\n",
    "    ):\n",
    "        queue.append((cur_y, cur_x, t + 1))\n",
    "        seen[cur_y, cur_x, (t + 1) % cycle_length] = 1\n",
    "\n",
    "    # Explore right if possible:\n",
    "    if (\n",
    "        cur_x < blizzards.shape[1] - 1\n",
    "        and seen[cur_y, cur_x + 1, (t + 1) % cycle_length] == 0\n",
    "        and get_blizzards(cur_y, cur_x + 1, (t + 1) % cycle_length) == 0\n",
    "    ):\n",
    "        queue.append((cur_y, cur_x + 1, t + 1))\n",
    "        seen[cur_y, cur_x + 1, (t + 1) % cycle_length] = 1\n",
    "\n",
    "    # Explore down if possible:\n",
    "    if (\n",
    "        cur_y < blizzards.shape[0] - 1\n",
    "        and seen[cur_y + 1, cur_x, (t + 1) % cycle_length] == 0\n",
    "        and get_blizzards(cur_y + 1, cur_x, (t + 1) % cycle_length) == 0\n",
    "    ):\n",
    "        queue.append((cur_y + 1, cur_x, t + 1))\n",
    "        seen[cur_y + 1, cur_x, (t + 1) % cycle_length] = 1\n",
    "\n",
    "    # Explore left if possible:\n",
    "    if (\n",
    "        cur_x > 0\n",
    "        and seen[cur_y, cur_x - 1, (t + 1) % cycle_length] == 0\n",
    "        and get_blizzards(cur_y, cur_x - 1, (t + 1) % cycle_length) == 0\n",
    "    ):\n",
    "        queue.append((cur_y, cur_x - 1, t + 1))\n",
    "        seen[cur_y, cur_x - 1, (t + 1) % cycle_length] = 1\n",
    "\n",
    "    # Explore up if possible\n",
    "    if (\n",
    "        cur_y > 0\n",
    "        and seen[cur_y - 1, cur_x, (t + 1) % cycle_length] == 0\n",
    "        and get_blizzards(cur_y - 1, cur_x, (t + 1) % cycle_length) == 0\n",
    "    ):\n",
    "        queue.append((cur_y - 1, cur_x, t + 1))\n",
    "        seen[cur_y - 1, cur_x, (t + 1) % cycle_length] = 1"
   ]
  },
  {
   "cell_type": "markdown",
   "id": "ed115781",
   "metadata": {},
   "source": [
    "*Moving to the finish point again:*"
   ]
  },
  {
   "cell_type": "code",
   "execution_count": 7,
   "id": "4079bda4",
   "metadata": {},
   "outputs": [
    {
     "name": "stdout",
     "output_type": "stream",
     "text": [
      "Part Two: 720\n"
     ]
    }
   ],
   "source": [
    "# Resetting the information for the BFS\n",
    "seen = np.zeros((blizzards.shape[0], blizzards.shape[1], cycle_length))\n",
    "seen_start = np.zeros(cycle_length)\n",
    "\n",
    "# Starting at the end at result time t + 1 from Task 1:\n",
    "queue = [(-1, 0, t + 1)]\n",
    "seen_start[t + 1] = 1\n",
    "while queue:\n",
    "    # Get the next configuration in queue:\n",
    "    config = queue.pop(0)\n",
    "    cur_y, cur_x, t = config[0], config[1], config[2]\n",
    "\n",
    "    # Special info for the start\n",
    "    if cur_y < 0:\n",
    "        # Consider not moving\n",
    "        if not seen_start[(t + 1) % cycle_length]:\n",
    "            queue.append((cur_y, cur_x, t + 1))\n",
    "            seen_start[(t + 1) % cycle_length] = 1\n",
    "        # Consider moving out\n",
    "        if (\n",
    "            not seen[cur_y + 1, cur_x, (t + 1) % cycle_length]\n",
    "            and get_blizzards(cur_y + 1, cur_x, (t + 1) % cycle_length) == 0\n",
    "        ):\n",
    "            queue.append((cur_y + 1, cur_x, t + 1))\n",
    "            seen[cur_y + 1, cur_x, (t + 1) % cycle_length] = 1\n",
    "        continue\n",
    "\n",
    "    # If the finish is within reach, stop exploring!\n",
    "    if cur_y == blizzards.shape[0] - 1 and cur_x == blizzards.shape[1] - 1:\n",
    "        print(f\"Part Two: {t + 1}\")\n",
    "        break\n",
    "\n",
    "    # Stay put if possible:\n",
    "    if (\n",
    "        seen[cur_y, cur_x, (t + 1) % cycle_length] == 0\n",
    "        and get_blizzards(cur_y, cur_x, (t + 1) % cycle_length) == 0\n",
    "    ):\n",
    "        queue.append((cur_y, cur_x, t + 1))\n",
    "        seen[cur_y, cur_x, (t + 1) % cycle_length] = 1\n",
    "\n",
    "    # Explore right if possible:\n",
    "    if (\n",
    "        cur_x < blizzards.shape[1] - 1\n",
    "        and seen[cur_y, cur_x + 1, (t + 1) % cycle_length] == 0\n",
    "        and get_blizzards(cur_y, cur_x + 1, (t + 1) % cycle_length) == 0\n",
    "    ):\n",
    "        queue.append((cur_y, cur_x + 1, t + 1))\n",
    "        seen[cur_y, cur_x + 1, (t + 1) % cycle_length] = 1\n",
    "\n",
    "    # Explore down if possible:\n",
    "    if (\n",
    "        cur_y < blizzards.shape[0] - 1\n",
    "        and seen[cur_y + 1, cur_x, (t + 1) % cycle_length] == 0\n",
    "        and get_blizzards(cur_y + 1, cur_x, (t + 1) % cycle_length) == 0\n",
    "    ):\n",
    "        queue.append((cur_y + 1, cur_x, t + 1))\n",
    "        seen[cur_y + 1, cur_x, (t + 1) % cycle_length] = 1\n",
    "\n",
    "    # Explore left if possible:\n",
    "    if (\n",
    "        cur_x > 0\n",
    "        and seen[cur_y, cur_x - 1, (t + 1) % cycle_length] == 0\n",
    "        and get_blizzards(cur_y, cur_x - 1, (t + 1) % cycle_length) == 0\n",
    "    ):\n",
    "        queue.append((cur_y, cur_x - 1, t + 1))\n",
    "        seen[cur_y, cur_x - 1, (t + 1) % cycle_length] = 1\n",
    "\n",
    "    # Explore up if possible\n",
    "    if (\n",
    "        cur_y > 0\n",
    "        and seen[cur_y - 1, cur_x, (t + 1) % cycle_length] == 0\n",
    "        and get_blizzards(cur_y - 1, cur_x, (t + 1) % cycle_length) == 0\n",
    "    ):\n",
    "        queue.append((cur_y - 1, cur_x, t + 1))\n",
    "        seen[cur_y - 1, cur_x, (t + 1) % cycle_length] = 1"
   ]
  }
 ],
 "metadata": {
  "kernelspec": {
   "display_name": ".venv",
   "language": "python",
   "name": "python3"
  },
  "language_info": {
   "codemirror_mode": {
    "name": "ipython",
    "version": 3
   },
   "file_extension": ".py",
   "mimetype": "text/x-python",
   "name": "python",
   "nbconvert_exporter": "python",
   "pygments_lexer": "ipython3",
   "version": "3.10.6"
  },
  "vscode": {
   "interpreter": {
    "hash": "999d0a6b33d8aa5ec08e32eb9e096634778f2965cf79c01565a88954badb0f49"
   }
  }
 },
 "nbformat": 4,
 "nbformat_minor": 5
}
