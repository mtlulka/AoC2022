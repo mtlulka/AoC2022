{
 "cells": [
  {
   "cell_type": "code",
   "execution_count": 1,
   "id": "df2cdd40",
   "metadata": {},
   "outputs": [],
   "source": [
    "from itertools import cycle\n",
    "import numpy as np"
   ]
  },
  {
   "cell_type": "code",
   "execution_count": 2,
   "id": "6dbc9d3d",
   "metadata": {},
   "outputs": [],
   "source": [
    "with open(\"day_17_input.txt\") as file:\n",
    "    inp = file.readline().rstrip()\n",
    "    jets_n = len(inp)\n",
    "    jets = cycle(inp)"
   ]
  },
  {
   "cell_type": "code",
   "execution_count": 3,
   "id": "fed0bdd0",
   "metadata": {},
   "outputs": [
    {
     "data": {
      "text/plain": [
       "10091"
      ]
     },
     "execution_count": 3,
     "metadata": {},
     "output_type": "execute_result"
    }
   ],
   "source": [
    "jets_n  # 10091 is a prime number!"
   ]
  },
  {
   "cell_type": "code",
   "execution_count": 4,
   "id": "4d7f1b14",
   "metadata": {},
   "outputs": [],
   "source": [
    "rocks = [\n",
    "    np.array([[1, 1, 1, 1]]),\n",
    "    np.array([[0, 1, 0], [1, 1, 1], [0, 1, 0]]),\n",
    "    np.array([[1, 1, 1], [0, 0, 1], [0, 0, 1]]),\n",
    "    np.array([[1], [1], [1], [1]]),\n",
    "    np.array([[1, 1], [1, 1]]),\n",
    "]\n",
    "rock_gen = cycle(rocks)"
   ]
  },
  {
   "cell_type": "markdown",
   "id": "c3666289",
   "metadata": {},
   "source": [
    "#### Task 1"
   ]
  },
  {
   "cell_type": "code",
   "execution_count": 5,
   "id": "34129fa8",
   "metadata": {},
   "outputs": [],
   "source": [
    "# Takeing the upper bound on how tall the tower could be:\n",
    "task_1_grid = np.zeros((((2022 // 5) + 1) * 13, 7))\n",
    "\n",
    "# Adding stone walls to facilitate coding:\n",
    "task_1_grid = np.append(np.ones((1, 7)) * 9, task_1_grid, axis=0)\n",
    "task_1_grid = np.append(np.ones((task_1_grid.shape[0], 1)) * 9, task_1_grid, axis=1)\n",
    "task_1_grid = np.append(task_1_grid, np.ones((task_1_grid.shape[0], 1)) * 9, axis=1)"
   ]
  },
  {
   "cell_type": "code",
   "execution_count": 6,
   "id": "71389b0c",
   "metadata": {},
   "outputs": [],
   "source": [
    "# For a more robust and verbose implementation look at Task 2:\n",
    "cur_height = 0\n",
    "rock_num = 0\n",
    "moves = 0\n",
    "while rock_num < 2022:\n",
    "    rock = next(rock_gen)\n",
    "    rock_pos = np.array([cur_height + 4, 3])\n",
    "    while True:\n",
    "        moves += 1\n",
    "        jet = next(jets)\n",
    "        shift = -1 + 2 * (jet == \">\")\n",
    "        cur_y, cur_x = rock_pos\n",
    "        if (\n",
    "            np.max(\n",
    "                task_1_grid[\n",
    "                    cur_y : (cur_y + rock.shape[0]),\n",
    "                    (cur_x + shift) : (cur_x + shift + rock.shape[1]),\n",
    "                ]\n",
    "                + rock\n",
    "            )\n",
    "            == 1\n",
    "        ):\n",
    "            rock_pos += [0, shift]\n",
    "            cur_y, cur_x = rock_pos\n",
    "        if (\n",
    "            np.max(\n",
    "                task_1_grid[\n",
    "                    (cur_y - 1) : (cur_y - 1 + rock.shape[0]),\n",
    "                    (cur_x) : (cur_x + rock.shape[1]),\n",
    "                ]\n",
    "                + rock\n",
    "            )\n",
    "            == 1\n",
    "        ):\n",
    "            rock_pos += [-1, 0]\n",
    "            cur_y, cur_x = rock_pos\n",
    "        else:\n",
    "            task_1_grid[\n",
    "                (cur_y) : (cur_y + rock.shape[0]), (cur_x) : (cur_x + rock.shape[1])\n",
    "            ] += rock\n",
    "            cur_height = max(cur_height, cur_y + rock.shape[0] - 1)\n",
    "            break\n",
    "    rock_num += 1"
   ]
  },
  {
   "cell_type": "code",
   "execution_count": 7,
   "id": "684daeb8",
   "metadata": {},
   "outputs": [
    {
     "data": {
      "text/plain": [
       "3224"
      ]
     },
     "execution_count": 7,
     "metadata": {},
     "output_type": "execute_result"
    }
   ],
   "source": [
    "# Task 1 solution:\n",
    "cur_height"
   ]
  },
  {
   "cell_type": "markdown",
   "id": "2e72e27d",
   "metadata": {},
   "source": [
    "#### Task 2"
   ]
  },
  {
   "cell_type": "code",
   "execution_count": 8,
   "id": "565f9dc1",
   "metadata": {},
   "outputs": [],
   "source": [
    "# Reset the cycles!!!\n",
    "jets = cycle(inp)\n",
    "rock_gen = cycle(rocks)"
   ]
  },
  {
   "cell_type": "code",
   "execution_count": 9,
   "id": "51583c01",
   "metadata": {},
   "outputs": [],
   "source": [
    "# Takeing the upper bound on how tall the tower could be:\n",
    "task_2_grid = np.zeros((7, 7))\n",
    "\n",
    "# Adding  walls to facilitate coding:\n",
    "task_2_grid = np.append(np.ones((1, 7)), task_2_grid, axis=0)\n",
    "task_2_grid = np.append(np.ones((task_2_grid.shape[0], 1)), task_2_grid, axis=1)\n",
    "task_2_grid = np.append(task_2_grid, np.ones((task_2_grid.shape[0], 1)), axis=1)\n",
    "\n",
    "# Needed to track and trim the tower\n",
    "not_reachable = np.copy(task_2_grid)"
   ]
  },
  {
   "cell_type": "code",
   "execution_count": 10,
   "id": "d8ca6c8f",
   "metadata": {},
   "outputs": [],
   "source": [
    "# Updated version from 1 with trimming\n",
    "cur_height = 0\n",
    "height_trimmed = 0\n",
    "rock_num = 0\n",
    "moves = 0\n",
    "grid_dict = dict()\n",
    "# While unencountered configuration of reachability, rocks and jets:\n",
    "while (\n",
    "    tuple(tuple(row) for row in not_reachable),\n",
    "    rock_num % 5,\n",
    "    moves % jets_n,\n",
    ") not in grid_dict:\n",
    "    rock = next(rock_gen)\n",
    "    rock_pos = np.array([cur_height + 4, 3])\n",
    "    # Record the reachability, rock and jet configoration:\n",
    "    grid_dict[\n",
    "        (tuple(tuple(row) for row in not_reachable), rock_num % 5, moves % jets_n)\n",
    "    ] = (rock_num, height_trimmed + cur_height)\n",
    "    while True:\n",
    "        moves += 1\n",
    "        jet = next(jets)\n",
    "        shift = -1 + 2 * (jet == \">\")\n",
    "        cur_y, cur_x = rock_pos\n",
    "        if (\n",
    "            np.max(\n",
    "                task_2_grid[\n",
    "                    cur_y : (cur_y + rock.shape[0]),\n",
    "                    (cur_x + shift) : (cur_x + shift + rock.shape[1]),\n",
    "                ]\n",
    "                + rock\n",
    "            )\n",
    "            == 1\n",
    "        ):\n",
    "            # If there is no collision, move the rock with the jet:\n",
    "            rock_pos += [0, shift]\n",
    "            cur_y, cur_x = rock_pos\n",
    "        if (\n",
    "            np.max(\n",
    "                task_2_grid[\n",
    "                    (cur_y - 1) : (cur_y - 1 + rock.shape[0]),\n",
    "                    (cur_x) : (cur_x + rock.shape[1]),\n",
    "                ]\n",
    "                + rock\n",
    "            )\n",
    "            == 1\n",
    "        ):\n",
    "            # If there is no collision, move the rock down:\n",
    "            rock_pos += [-1, 0]\n",
    "            cur_y, cur_x = rock_pos\n",
    "        else:\n",
    "            # If there is a collision, record the rock:\n",
    "            task_2_grid[\n",
    "                (cur_y) : (cur_y + rock.shape[0]), (cur_x) : (cur_x + rock.shape[1])\n",
    "            ] += rock\n",
    "            not_reachable[\n",
    "                (cur_y) : (cur_y + rock.shape[0]), (cur_x) : (cur_x + rock.shape[1])\n",
    "            ] += rock\n",
    "            # Update non-reachablity:\n",
    "            for y in range(cur_height + 4, 0, -1):\n",
    "                for x in range(1, 8):\n",
    "                    if not not_reachable[y, x]:\n",
    "                        # Is it reachable from top?\n",
    "                        not_reachable[y, x] = not_reachable[y + 1, x]\n",
    "                for x in range(1, 8):\n",
    "                    if not task_2_grid[y, x]:\n",
    "                        # Is it reachable from left or right?\n",
    "                        not_reachable[y, x] = min(\n",
    "                            not_reachable[y, x],\n",
    "                            not_reachable[y, x - 1],\n",
    "                            not_reachable[y, x + 1],\n",
    "                        )\n",
    "            # What's the total height of the lowest reachable cell?\n",
    "            col_mins = (not_reachable[: (cur_height + 4), 1:8] == 0).argmax(axis=0)\n",
    "            to_trim = 0\n",
    "            # Trim the grid if possible:\n",
    "            if col_mins.min() > 1:\n",
    "                to_trim = col_mins.min() - 1\n",
    "                task_2_grid = task_2_grid[to_trim:, :]\n",
    "                not_reachable = not_reachable[to_trim:, :]\n",
    "                height_trimmed += to_trim\n",
    "            cur_height = max(cur_height - to_trim, cur_y + rock.shape[0] - 1 - to_trim)\n",
    "            # Extend the grid if necessary:\n",
    "            if cur_height + 8 > task_2_grid.shape[0]:\n",
    "                task_2_grid = np.append(\n",
    "                    task_2_grid,\n",
    "                    np.concatenate(\n",
    "                        [\n",
    "                            np.ones((cur_height - task_2_grid.shape[0] + 8, 1)),\n",
    "                            np.zeros((cur_height - task_2_grid.shape[0] + 8, 7)),\n",
    "                            np.ones((cur_height - task_2_grid.shape[0] + 8, 1)),\n",
    "                        ],\n",
    "                        axis=1,\n",
    "                    ),\n",
    "                    axis=0,\n",
    "                )\n",
    "                not_reachable = np.append(\n",
    "                    not_reachable,\n",
    "                    np.concatenate(\n",
    "                        [\n",
    "                            np.ones((cur_height - not_reachable.shape[0] + 8, 1)),\n",
    "                            np.zeros((cur_height - not_reachable.shape[0] + 8, 7)),\n",
    "                            np.ones((cur_height - not_reachable.shape[0] + 8, 1)),\n",
    "                        ],\n",
    "                        axis=1,\n",
    "                    ),\n",
    "                    axis=0,\n",
    "                )\n",
    "            break\n",
    "    rock_num += 1"
   ]
  },
  {
   "cell_type": "code",
   "execution_count": 11,
   "id": "27ac1fcc",
   "metadata": {},
   "outputs": [
    {
     "name": "stdout",
     "output_type": "stream",
     "text": [
      "[[1. 0. 0. 0. 0. 0. 0. 0. 1.]\n",
      " [1. 0. 0. 0. 0. 0. 0. 0. 1.]\n",
      " [1. 0. 0. 0. 0. 0. 0. 0. 1.]\n",
      " [1. 0. 0. 0. 0. 0. 0. 0. 1.]\n",
      " [1. 0. 0. 0. 0. 0. 0. 0. 1.]\n",
      " [1. 0. 0. 0. 0. 0. 0. 0. 1.]\n",
      " [1. 0. 0. 0. 0. 0. 0. 0. 1.]\n",
      " [1. 1. 1. 1. 1. 0. 0. 0. 1.]\n",
      " [1. 0. 1. 1. 0. 0. 0. 0. 1.]\n",
      " [1. 0. 1. 1. 0. 0. 0. 0. 1.]\n",
      " [1. 0. 0. 1. 0. 0. 0. 0. 1.]\n",
      " [1. 0. 0. 1. 0. 0. 0. 0. 1.]\n",
      " [1. 0. 0. 1. 0. 1. 0. 0. 1.]\n",
      " [1. 0. 0. 1. 0. 1. 0. 0. 1.]\n",
      " [1. 0. 0. 1. 1. 1. 0. 0. 1.]\n",
      " [1. 0. 0. 0. 1. 0. 0. 0. 1.]\n",
      " [1. 0. 0. 1. 1. 1. 0. 0. 1.]\n",
      " [1. 0. 0. 0. 1. 0. 0. 0. 1.]\n",
      " [1. 0. 0. 1. 1. 1. 1. 0. 1.]\n",
      " [1. 0. 0. 1. 1. 1. 0. 0. 1.]\n",
      " [1. 0. 0. 1. 1. 1. 0. 0. 1.]\n",
      " [1. 0. 0. 1. 1. 0. 0. 0. 1.]\n",
      " [1. 0. 0. 1. 1. 0. 0. 0. 1.]\n",
      " [1. 0. 1. 1. 1. 1. 0. 0. 1.]\n",
      " [1. 0. 0. 0. 1. 1. 1. 0. 1.]\n",
      " [1. 0. 0. 0. 0. 1. 0. 0. 1.]\n",
      " [1. 0. 0. 1. 1. 1. 1. 0. 1.]\n",
      " [1. 0. 0. 0. 0. 0. 1. 0. 1.]\n",
      " [1. 0. 0. 0. 0. 0. 1. 0. 1.]\n",
      " [1. 0. 1. 0. 1. 1. 1. 1. 1.]]\n"
     ]
    }
   ],
   "source": [
    "# The grid when the cycle is detected:\n",
    "print(np.flip(task_2_grid, axis=0))"
   ]
  },
  {
   "cell_type": "code",
   "execution_count": 12,
   "id": "600678d9",
   "metadata": {},
   "outputs": [
    {
     "name": "stdout",
     "output_type": "stream",
     "text": [
      "[[1. 0. 0. 0. 0. 0. 0. 0. 1.]\n",
      " [1. 0. 0. 0. 0. 0. 0. 0. 1.]\n",
      " [1. 0. 0. 0. 0. 0. 0. 0. 1.]\n",
      " [1. 0. 0. 0. 0. 0. 0. 0. 1.]\n",
      " [1. 0. 0. 0. 0. 0. 0. 0. 1.]\n",
      " [1. 0. 0. 0. 0. 0. 0. 0. 1.]\n",
      " [1. 0. 0. 0. 0. 0. 0. 0. 1.]\n",
      " [1. 1. 1. 1. 1. 0. 0. 0. 1.]\n",
      " [1. 1. 1. 1. 0. 0. 0. 0. 1.]\n",
      " [1. 1. 1. 1. 0. 0. 0. 0. 1.]\n",
      " [1. 1. 1. 1. 0. 0. 0. 0. 1.]\n",
      " [1. 1. 1. 1. 0. 0. 0. 0. 1.]\n",
      " [1. 1. 1. 1. 0. 1. 0. 0. 1.]\n",
      " [1. 1. 1. 1. 0. 1. 0. 0. 1.]\n",
      " [1. 1. 1. 1. 1. 1. 0. 0. 1.]\n",
      " [1. 1. 1. 1. 1. 0. 0. 0. 1.]\n",
      " [1. 1. 1. 1. 1. 1. 0. 0. 1.]\n",
      " [1. 1. 1. 1. 1. 0. 0. 0. 1.]\n",
      " [1. 1. 1. 1. 1. 1. 1. 0. 1.]\n",
      " [1. 1. 1. 1. 1. 1. 0. 0. 1.]\n",
      " [1. 1. 1. 1. 1. 1. 0. 0. 1.]\n",
      " [1. 1. 1. 1. 1. 0. 0. 0. 1.]\n",
      " [1. 1. 1. 1. 1. 0. 0. 0. 1.]\n",
      " [1. 1. 1. 1. 1. 1. 0. 0. 1.]\n",
      " [1. 1. 1. 1. 1. 1. 1. 0. 1.]\n",
      " [1. 1. 1. 1. 1. 1. 0. 0. 1.]\n",
      " [1. 1. 1. 1. 1. 1. 1. 0. 1.]\n",
      " [1. 1. 1. 1. 1. 1. 1. 0. 1.]\n",
      " [1. 1. 1. 1. 1. 1. 1. 0. 1.]\n",
      " [1. 1. 1. 1. 1. 1. 1. 1. 1.]]\n"
     ]
    }
   ],
   "source": [
    "# The non-reachable cells when the cycle is detected:\n",
    "print(np.flip(not_reachable, axis=0))"
   ]
  },
  {
   "cell_type": "code",
   "execution_count": 13,
   "id": "9a1fd5e7",
   "metadata": {},
   "outputs": [
    {
     "data": {
      "text/plain": [
       "(176, 261)"
      ]
     },
     "execution_count": 13,
     "metadata": {},
     "output_type": "execute_result"
    }
   ],
   "source": [
    "pre_cycle_rocks, pre_cycle_height = grid_dict[\n",
    "    (tuple(tuple(row) for row in not_reachable), rock_num % 5, moves % jets_n)\n",
    "]\n",
    "pre_cycle_rocks, pre_cycle_height"
   ]
  },
  {
   "cell_type": "code",
   "execution_count": 14,
   "id": "b29e2e78",
   "metadata": {},
   "outputs": [
    {
     "data": {
      "text/plain": [
       "(1921, 3046)"
      ]
     },
     "execution_count": 14,
     "metadata": {},
     "output_type": "execute_result"
    }
   ],
   "source": [
    "post_cycle_rocks, post_cycle_height = rock_num, height_trimmed + cur_height\n",
    "post_cycle_rocks, post_cycle_height"
   ]
  },
  {
   "cell_type": "code",
   "execution_count": 15,
   "id": "1517628a",
   "metadata": {},
   "outputs": [
    {
     "data": {
      "text/plain": [
       "1745"
      ]
     },
     "execution_count": 15,
     "metadata": {},
     "output_type": "execute_result"
    }
   ],
   "source": [
    "cycle_len = post_cycle_rocks - pre_cycle_rocks\n",
    "cycle_len"
   ]
  },
  {
   "cell_type": "code",
   "execution_count": 16,
   "id": "561f0828",
   "metadata": {},
   "outputs": [
    {
     "data": {
      "text/plain": [
       "2785"
      ]
     },
     "execution_count": 16,
     "metadata": {},
     "output_type": "execute_result"
    }
   ],
   "source": [
    "cycle_height = post_cycle_height - pre_cycle_height\n",
    "cycle_height"
   ]
  },
  {
   "cell_type": "code",
   "execution_count": 17,
   "id": "7a9c5e10",
   "metadata": {},
   "outputs": [
    {
     "data": {
      "text/plain": [
       "(1010, 573065902)"
      ]
     },
     "execution_count": 17,
     "metadata": {},
     "output_type": "execute_result"
    }
   ],
   "source": [
    "base_rocks, cycle_iterations = 1000000000000 % cycle_len, 1000000000000 // cycle_len\n",
    "base_rocks, cycle_iterations"
   ]
  },
  {
   "cell_type": "code",
   "execution_count": 18,
   "id": "2799f444",
   "metadata": {},
   "outputs": [
    {
     "data": {
      "text/plain": [
       "(1010, 1621)"
      ]
     },
     "execution_count": 18,
     "metadata": {},
     "output_type": "execute_result"
    }
   ],
   "source": [
    "# _ would be assigned the number of base_rocks\n",
    "_, base_height = [\n",
    "    grid_dict[key] for key in grid_dict if grid_dict[key][0] == base_rocks\n",
    "][0]\n",
    "_, base_height"
   ]
  },
  {
   "cell_type": "code",
   "execution_count": 19,
   "id": "2fc94281",
   "metadata": {},
   "outputs": [
    {
     "data": {
      "text/plain": [
       "1595988538691"
      ]
     },
     "execution_count": 19,
     "metadata": {},
     "output_type": "execute_result"
    }
   ],
   "source": [
    "# Task 2 result:\n",
    "base_height + cycle_iterations * cycle_height  # CORRECTO!!!"
   ]
  }
 ],
 "metadata": {
  "kernelspec": {
   "display_name": ".venv",
   "language": "python",
   "name": "python3"
  },
  "language_info": {
   "codemirror_mode": {
    "name": "ipython",
    "version": 3
   },
   "file_extension": ".py",
   "mimetype": "text/x-python",
   "name": "python",
   "nbconvert_exporter": "python",
   "pygments_lexer": "ipython3",
   "version": "3.10.6"
  },
  "vscode": {
   "interpreter": {
    "hash": "999d0a6b33d8aa5ec08e32eb9e096634778f2965cf79c01565a88954badb0f49"
   }
  }
 },
 "nbformat": 4,
 "nbformat_minor": 5
}
