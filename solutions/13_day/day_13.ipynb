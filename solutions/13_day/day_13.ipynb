{
 "cells": [
  {
   "attachments": {},
   "cell_type": "markdown",
   "id": "058efe06",
   "metadata": {},
   "source": [
    "# --- Day 13: Distress Signal ---\n",
    "\n",
    "[Puzzle Description](https://adventofcode.com/2022/day/13)"
   ]
  },
  {
   "cell_type": "code",
   "execution_count": 1,
   "id": "f6fa5024",
   "metadata": {},
   "outputs": [],
   "source": [
    "from ast import literal_eval\n",
    "from functools import cmp_to_key"
   ]
  },
  {
   "cell_type": "code",
   "execution_count": 2,
   "id": "871ad995",
   "metadata": {},
   "outputs": [],
   "source": [
    "def compare(left, right):\n",
    "    l_is_int, r_is_int = isinstance(left, int), isinstance(right, int)\n",
    "    if l_is_int and r_is_int:\n",
    "        return (left < right) - (right < left)\n",
    "    if not l_is_int and not r_is_int:\n",
    "        if len(left) == 0:\n",
    "            if len(right) == 0:\n",
    "                return 0\n",
    "            else:\n",
    "                return 1\n",
    "        elif len(right) == 0:\n",
    "            return -1\n",
    "        item_comp = compare(left[0], right[0])\n",
    "        return item_comp if item_comp != 0 else compare(left[1:], right[1:])\n",
    "    if not l_is_int and r_is_int:\n",
    "        return compare(left, [right])\n",
    "    if l_is_int and not r_is_int:\n",
    "        return compare([left], right)"
   ]
  },
  {
   "cell_type": "code",
   "execution_count": 3,
   "id": "b867ff29",
   "metadata": {},
   "outputs": [
    {
     "name": "stdout",
     "output_type": "stream",
     "text": [
      "Part One: 5350\n",
      "Part Two: 19570\n"
     ]
    }
   ],
   "source": [
    "comparisons = list()\n",
    "packets = list()\n",
    "with open(\"day_13_input.txt\") as file:\n",
    "    i = 0\n",
    "    while line := file.readline().rstrip():\n",
    "        left = literal_eval(line)\n",
    "        right = literal_eval(line := file.readline().rstrip())\n",
    "        packets.append(left)\n",
    "        packets.append(right)\n",
    "        comparisons.append(compare(left, right))\n",
    "        line = file.readline().rstrip()\n",
    "        i += 1\n",
    "i\n",
    "\n",
    "part_1_ans = sum([i + 1 for i in range(len(comparisons)) if comparisons[i] > 0])\n",
    "print(f\"Part One: {part_1_ans}\")\n",
    "\n",
    "ordered_packets = sorted(\n",
    "    packets + [[[2]]] + [[[6]]], key=cmp_to_key(compare), reverse=True\n",
    ")\n",
    "part_2_ans = (ordered_packets.index([[2]]) + 1) * (ordered_packets.index([[6]]) + 1)\n",
    "print(f\"Part Two: {part_2_ans}\")"
   ]
  }
 ],
 "metadata": {
  "kernelspec": {
   "display_name": ".venv",
   "language": "python",
   "name": "python3"
  },
  "language_info": {
   "codemirror_mode": {
    "name": "ipython",
    "version": 3
   },
   "file_extension": ".py",
   "mimetype": "text/x-python",
   "name": "python",
   "nbconvert_exporter": "python",
   "pygments_lexer": "ipython3",
   "version": "3.10.6"
  },
  "vscode": {
   "interpreter": {
    "hash": "999d0a6b33d8aa5ec08e32eb9e096634778f2965cf79c01565a88954badb0f49"
   }
  }
 },
 "nbformat": 4,
 "nbformat_minor": 5
}
