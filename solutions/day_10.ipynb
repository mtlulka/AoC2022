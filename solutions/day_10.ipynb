{
 "cells": [
  {
   "cell_type": "code",
   "execution_count": 1,
   "id": "1c5dcd1c",
   "metadata": {},
   "outputs": [],
   "source": [
    "counter = 0\n",
    "X = 1\n",
    "signal_sum = 0\n",
    "drawing = [['.'] * 40 for i in range(6)]\n",
    "with open('day_10_input.txt') as file:\n",
    "    while line := file.readline().rstrip():\n",
    "        inp = line.split()\n",
    "        for i in range(1 if inp[0] == 'noop' else 2):\n",
    "            px_x, px_y = counter % 40, counter // 40\n",
    "            if abs(px_x - X) <= 1:\n",
    "                drawing[px_y][px_x] = '#'\n",
    "            counter += 1\n",
    "            if (counter + 20) % 40 == 0:\n",
    "                signal_sum += X * counter\n",
    "        X += int(0 if inp[0] == 'noop' else inp[1])\n",
    "        "
   ]
  },
  {
   "cell_type": "code",
   "execution_count": 2,
   "id": "852c9c83",
   "metadata": {},
   "outputs": [
    {
     "data": {
      "text/plain": [
       "12980"
      ]
     },
     "execution_count": 2,
     "metadata": {},
     "output_type": "execute_result"
    }
   ],
   "source": [
    "# Task 1\n",
    "signal_sum"
   ]
  },
  {
   "cell_type": "code",
   "execution_count": 3,
   "id": "5bd334e8",
   "metadata": {},
   "outputs": [
    {
     "name": "stdout",
     "output_type": "stream",
     "text": [
      "###..###....##.#....####.#..#.#....###..\n",
      "#..#.#..#....#.#....#....#..#.#....#..#.\n",
      "###..#..#....#.#....###..#..#.#....#..#.\n",
      "#..#.###.....#.#....#....#..#.#....###..\n",
      "#..#.#.#..#..#.#....#....#..#.#....#....\n",
      "###..#..#..##..####.#.....##..####.#....\n"
     ]
    }
   ],
   "source": [
    "# Task 2\n",
    "for i in range(6):\n",
    "    print(''.join(drawing[i]))"
   ]
  }
 ],
 "metadata": {
  "kernelspec": {
   "display_name": "Python 3 (ipykernel)",
   "language": "python",
   "name": "python3"
  },
  "language_info": {
   "codemirror_mode": {
    "name": "ipython",
    "version": 3
   },
   "file_extension": ".py",
   "mimetype": "text/x-python",
   "name": "python",
   "nbconvert_exporter": "python",
   "pygments_lexer": "ipython3",
   "version": "3.9.10"
  }
 },
 "nbformat": 4,
 "nbformat_minor": 5
}
