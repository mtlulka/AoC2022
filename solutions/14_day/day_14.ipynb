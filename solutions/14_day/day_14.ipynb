{
 "cells": [
  {
   "attachments": {},
   "cell_type": "markdown",
   "id": "8b0717c2",
   "metadata": {},
   "source": [
    "# --- Day 14: Regolith Reservoir ---\n",
    "\n",
    "[Puzzle Description](https://adventofcode.com/2022/day/14)"
   ]
  },
  {
   "cell_type": "code",
   "execution_count": 1,
   "id": "af941f7a",
   "metadata": {},
   "outputs": [],
   "source": [
    "import numpy as np"
   ]
  },
  {
   "cell_type": "code",
   "execution_count": 2,
   "id": "372682e3",
   "metadata": {},
   "outputs": [],
   "source": [
    "cave = np.array([[\".\"] * 1001 for i in range(501)])\n",
    "cave_floor = -np.ones(1001)\n",
    "with open(\"day_14_input.txt\") as file:\n",
    "    while line := file.readline().rstrip():\n",
    "        points = line.split(\"->\")\n",
    "        for i in range(1, len(points)):\n",
    "            point_i_m1, point_i = points[i - 1].split(\",\"), points[i].split(\",\")\n",
    "            min_x, max_x = sorted([int(point_i_m1[0]), int(point_i[0])])\n",
    "            min_y, max_y = sorted([int(point_i_m1[1]), int(point_i[1])])\n",
    "            cave[min_y : (max_y + 1), min_x : (max_x + 1)] = \"#\"\n",
    "            for j in range(min_x, max_x + 1):\n",
    "                cave_floor[j] = max(cave_floor[j], max_y)\n",
    "\n",
    "new_cave = cave.copy()\n",
    "new_cave[int(cave_floor.max()) + 2, :] = \"#\""
   ]
  },
  {
   "attachments": {},
   "cell_type": "markdown",
   "id": "f0307880",
   "metadata": {},
   "source": [
    "## Part One"
   ]
  },
  {
   "cell_type": "code",
   "execution_count": 3,
   "id": "8fea5339",
   "metadata": {},
   "outputs": [
    {
     "name": "stdout",
     "output_type": "stream",
     "text": [
      "Part One: 799\n"
     ]
    }
   ],
   "source": [
    "def flow(position):\n",
    "    y, x = position\n",
    "    if cave[y, x] == \"#\" or cave[y, x] == \"o\":\n",
    "        return 0\n",
    "    if cave_floor[x] < y:\n",
    "        return 1\n",
    "    if not flow([y + 1, x]) and not flow([y + 1, x - 1]) and not flow([y + 1, x + 1]):\n",
    "        cave[y, x] = \"o\"\n",
    "        return 0\n",
    "    return 1\n",
    "\n",
    "\n",
    "start_point = [0, 500]\n",
    "flow(start_point)\n",
    "(cave == \"o\").sum()\n",
    "part_1_ans = (cave == \"o\").sum()\n",
    "print(f\"Part One: {part_1_ans}\")"
   ]
  },
  {
   "attachments": {},
   "cell_type": "markdown",
   "id": "5e66eabc",
   "metadata": {},
   "source": [
    "## Part Two"
   ]
  },
  {
   "cell_type": "code",
   "execution_count": 4,
   "id": "5f43a4d2",
   "metadata": {},
   "outputs": [
    {
     "name": "stdout",
     "output_type": "stream",
     "text": [
      "Part Two: 29076\n"
     ]
    }
   ],
   "source": [
    "def new_flow(position):\n",
    "    y, x = position\n",
    "    if new_cave[y, x] == \"#\" or new_cave[y, x] == \"o\":\n",
    "        return\n",
    "    new_flow([y + 1, x]), new_flow([y + 1, x - 1]), new_flow([y + 1, x + 1])\n",
    "    new_cave[y, x] = \"o\"\n",
    "\n",
    "\n",
    "start_point = [0, 500]\n",
    "new_flow(start_point)\n",
    "part_2_ans = (new_cave == \"o\").sum()\n",
    "print(f\"Part Two: {part_2_ans}\")"
   ]
  }
 ],
 "metadata": {
  "kernelspec": {
   "display_name": ".venv",
   "language": "python",
   "name": "python3"
  },
  "language_info": {
   "codemirror_mode": {
    "name": "ipython",
    "version": 3
   },
   "file_extension": ".py",
   "mimetype": "text/x-python",
   "name": "python",
   "nbconvert_exporter": "python",
   "pygments_lexer": "ipython3",
   "version": "3.10.6"
  },
  "vscode": {
   "interpreter": {
    "hash": "999d0a6b33d8aa5ec08e32eb9e096634778f2965cf79c01565a88954badb0f49"
   }
  }
 },
 "nbformat": 4,
 "nbformat_minor": 5
}
